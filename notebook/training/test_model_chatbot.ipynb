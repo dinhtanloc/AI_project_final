{
 "cells": [
  {
   "cell_type": "code",
   "execution_count": 1,
   "metadata": {},
   "outputs": [
    {
     "name": "stdout",
     "output_type": "stream",
     "text": [
      "c:\\Users\\Admin\\Data\\AI_project\\AI_final\n",
      "c:/Users/Admin/Data/AI_project/AI_final\n"
     ]
    }
   ],
   "source": [
    "import sys,os\n",
    "__script_path=os.path.abspath(globals().get('__file__','.'))\n",
    "__script_dir = os.path.dirname(__script_path)\n",
    "root_dir = os.path.abspath(f'{__script_dir}/..')\n",
    "print(root_dir)\n",
    "for lib in [root_dir][::-1]:\n",
    "    if lib in sys.path:\n",
    "        sys.path.remove(lib)\n",
    "    sys.path.insert(0,lib)\n",
    "from libs.common import *\n",
    "from config.config import *"
   ]
  },
  {
   "cell_type": "code",
   "execution_count": 2,
   "metadata": {},
   "outputs": [
    {
     "data": {
      "text/plain": [
       "True"
      ]
     },
     "execution_count": 2,
     "metadata": {},
     "output_type": "execute_result"
    }
   ],
   "source": [
    "load_dotenv(find_dotenv())"
   ]
  },
  {
   "cell_type": "code",
   "execution_count": 3,
   "metadata": {},
   "outputs": [],
   "source": [
    "# llm = ChatVertexAI(model=\"gemini-pro\", api_key= os.getenv('GEMINI_API_KEY'))\n"
   ]
  },
  {
   "cell_type": "code",
   "execution_count": null,
   "metadata": {},
   "outputs": [],
   "source": []
  },
  {
   "cell_type": "markdown",
   "metadata": {},
   "source": [
    "### __1. LLM__"
   ]
  },
  {
   "cell_type": "code",
   "execution_count": 3,
   "metadata": {},
   "outputs": [],
   "source": [
    "llm = ChatOpenAI(\n",
    "    model_name=\"gpt-3.5-turbo\",\n",
    "    openai_api_key=os.getenv('OPEN_API_KEY'))\n",
    "\n"
   ]
  },
  {
   "cell_type": "code",
   "execution_count": 4,
   "metadata": {},
   "outputs": [
    {
     "data": {
      "text/plain": [
       "'c:/Users/Admin/Data/AI_project/AI_final/data'"
      ]
     },
     "execution_count": 4,
     "metadata": {},
     "output_type": "execute_result"
    }
   ],
   "source": [
    "data_dir"
   ]
  },
  {
   "cell_type": "markdown",
   "metadata": {},
   "source": [
    "### __2. Rag with SQL__"
   ]
  },
  {
   "cell_type": "code",
   "execution_count": 10,
   "metadata": {},
   "outputs": [
    {
     "name": "stdout",
     "output_type": "stream",
     "text": [
      "Đã đẩy dữ liệu từ events.xlsx vào bảng events thành công!\n",
      "Đã đẩy dữ liệu từ finance_ratio.xlsx vào bảng finance_ratio thành công!\n",
      "Đã đẩy dữ liệu từ news.xlsx vào bảng news thành công!\n",
      "Đã đẩy dữ liệu từ profiles_vie.xlsx vào bảng profiles_vie thành công!\n"
     ]
    }
   ],
   "source": [
    "file_paths=['events.xlsx', 'finance_ratio.xlsx','news.xlsx', 'profiles_vie.xlsx']\n",
    "engine=create_engine(os.getenv('POSTGRESQL_DBMS_KEY'))\n",
    "for file_path in file_paths:\n",
    "    df=pd.read_excel(f'{data_dir}/{file_path}')\n",
    "    table_name = os.path.splitext(os.path.basename(file_path))[0]    \n",
    "    df.to_sql(table_name, engine, if_exists='replace', index=False)\n",
    "    \n",
    "    print(f\"Đã đẩy dữ liệu từ {file_path} vào bảng {table_name} thành công!\")\n"
   ]
  },
  {
   "cell_type": "code",
   "execution_count": 11,
   "metadata": {},
   "outputs": [
    {
     "data": {
      "text/plain": [
       "<langchain_community.utilities.sql_database.SQLDatabase at 0x18469e529e0>"
      ]
     },
     "execution_count": 11,
     "metadata": {},
     "output_type": "execute_result"
    }
   ],
   "source": [
    "db = SQLDatabase.from_uri(os.getenv('POSTGRESQL_DBMS_KEY'))\n",
    "db"
   ]
  },
  {
   "cell_type": "code",
   "execution_count": 12,
   "metadata": {},
   "outputs": [
    {
     "name": "stdout",
     "output_type": "stream",
     "text": [
      "postgresql\n",
      "['events', 'finance_ratio', 'news', 'profiles_vie']\n"
     ]
    }
   ],
   "source": [
    "print(db.dialect)\n",
    "print(db.get_usable_table_names())"
   ]
  },
  {
   "cell_type": "code",
   "execution_count": 25,
   "metadata": {},
   "outputs": [
    {
     "name": "stdout",
     "output_type": "stream",
     "text": [
      "SELECT \"event_name\", \"event_desc\" \n",
      "FROM events \n",
      "WHERE ticker = 'A32' AND event_desc ILIKE '%2024%'\n",
      "LIMIT 5;\n"
     ]
    }
   ],
   "source": [
    "chain = create_sql_query_chain(llm, db)\n",
    "response = chain.invoke({\"question\": \"Năm 2024 có những sự kiện gì nổi bật đối với công ty mã A32\"})\n",
    "print(response)"
   ]
  },
  {
   "cell_type": "code",
   "execution_count": 26,
   "metadata": {},
   "outputs": [
    {
     "data": {
      "text/plain": [
       "\"[('A32 - Trả cổ tức Đợt 2 năm 2023 bằng tiền 2500 đồng/cổ phiếu', 'Công ty Cổ phần 32 (A32) trả cổ tức Đợt 2 năm 2023 bằng tiền:_x000D_ Ngày giao dịch không hưởng quyền: 16/08/2024_x000D_ Ngày đăng ký cuối cùng: 19/08/2024_x000D_ Thời gian thanh toán: 06/09/2024_x000D_ Tỷ lệ thực hiện: 25%/mệnh giá (2500 đồng/cổ phiếu). '), ('A32 - Tổ chức ĐHĐCĐ thường niên 2024', 'Công ty Cổ phần 32 (A32) tổ chức ĐHĐCĐ thường niên năm 2024:_x000D_ Ngày giao dịch không hưởng quyền: 29/03/2024_x000D_ Ngày đăng ký cuối cùng: 01/04/2024_x000D_ Thời gian thực hiện: 02/08/2024 08:00_x000D_ Địa điểm thực hiện: Công ty cổ phần 32- 170 Quang Trung, Phường 10, Quận Gò Vấp, Thành...'), ('A32 - Trả cổ tức Đợt 1 năm 2023 bằng tiền 1000 đồng/cổ phiếu', 'Công ty Cổ phần 32 (A32) trả cổ tức Đợt 1 năm 2023 bằng tiền:_x000D_ Ngày giao dịch không hưởng quyền: 21/12/2023_x000D_ Ngày đăng ký cuối cùng: 22/12/2023_x000D_ Thời gian thanh toán: 15/01/2024_x000D_ Tỷ lệ thực hiện: 10%/mệnh giá (1000 đồng/cổ phiếu). ')]\""
      ]
     },
     "execution_count": 26,
     "metadata": {},
     "output_type": "execute_result"
    }
   ],
   "source": [
    "db.run(response)"
   ]
  },
  {
   "cell_type": "code",
   "execution_count": 27,
   "metadata": {},
   "outputs": [
    {
     "name": "stdout",
     "output_type": "stream",
     "text": [
      "You are a PostgreSQL expert. Given an input question, first create a syntactically correct PostgreSQL query to run, then look at the results of the query and return the answer to the input question.\n",
      "Unless the user specifies in the question a specific number of examples to obtain, query for at most 5 results using the LIMIT clause as per PostgreSQL. You can order the results to return the most informative data in the database.\n",
      "Never query for all columns from a table. You must query only the columns that are needed to answer the question. Wrap each column name in double quotes (\") to denote them as delimited identifiers.\n",
      "Pay attention to use only the column names you can see in the tables below. Be careful to not query for columns that do not exist. Also, pay attention to which column is in which table.\n",
      "Pay attention to use CURRENT_DATE function to get the current date, if the question involves \"today\".\n",
      "\n",
      "Use the following format:\n",
      "\n",
      "Question: Question here\n",
      "SQLQuery: SQL Query to run\n",
      "SQLResult: Result of the SQLQuery\n",
      "Answer: Final answer here\n",
      "\n",
      "Only use the following tables:\n",
      "\u001b[33;1m\u001b[1;3m{table_info}\u001b[0m\n",
      "\n",
      "Question: \u001b[33;1m\u001b[1;3m{input}\u001b[0m\n"
     ]
    }
   ],
   "source": [
    "chain.get_prompts()[0].pretty_print()\n"
   ]
  },
  {
   "cell_type": "code",
   "execution_count": 28,
   "metadata": {},
   "outputs": [
    {
     "data": {
      "text/plain": [
       "\"[('A32 - Trả cổ tức Đợt 2 năm 2023 bằng tiền 2500 đồng/cổ phiếu', 'Công ty Cổ phần 32 (A32) trả cổ tức Đợt 2 năm 2023 bằng tiền:_x000D_ Ngày giao dịch không hưởng quyền: 16/08/2024_x000D_ Ngày đăng ký cuối cùng: 19/08/2024_x000D_ Thời gian thanh toán: 06/09/2024_x000D_ Tỷ lệ thực hiện: 25%/mệnh giá (2500 đồng/cổ phiếu). '), ('A32 - Tổ chức ĐHĐCĐ thường niên 2024', 'Công ty Cổ phần 32 (A32) tổ chức ĐHĐCĐ thường niên năm 2024:_x000D_ Ngày giao dịch không hưởng quyền: 29/03/2024_x000D_ Ngày đăng ký cuối cùng: 01/04/2024_x000D_ Thời gian thực hiện: 02/08/2024 08:00_x000D_ Địa điểm thực hiện: Công ty cổ phần 32- 170 Quang Trung, Phường 10, Quận Gò Vấp, Thành...'), ('A32 - Trả cổ tức Đợt 1 năm 2023 bằng tiền 1000 đồng/cổ phiếu', 'Công ty Cổ phần 32 (A32) trả cổ tức Đợt 1 năm 2023 bằng tiền:_x000D_ Ngày giao dịch không hưởng quyền: 21/12/2023_x000D_ Ngày đăng ký cuối cùng: 22/12/2023_x000D_ Thời gian thanh toán: 15/01/2024_x000D_ Tỷ lệ thực hiện: 10%/mệnh giá (1000 đồng/cổ phiếu). ')]\""
      ]
     },
     "execution_count": 28,
     "metadata": {},
     "output_type": "execute_result"
    }
   ],
   "source": [
    "from langchain_community.tools.sql_database.tool import QuerySQLDataBaseTool\n",
    "\n",
    "write_query = create_sql_query_chain(llm, db)\n",
    "execute_query = QuerySQLDataBaseTool(db=db)\n",
    "\n",
    "chain = write_query | execute_query\n",
    "\n",
    "chain.invoke({\"question\": \"Năm 2024 có những sự kiện gì nổi bật đối với công ty mã A32\"})"
   ]
  },
  {
   "cell_type": "code",
   "execution_count": 29,
   "metadata": {},
   "outputs": [
    {
     "data": {
      "text/plain": [
       "'Năm 2024, công ty mã A32 có các sự kiện nổi bật sau:\\n1. Trả cổ tức Đợt 2 năm 2023 bằng tiền 2500 đồng/cổ phiếu. Ngày giao dịch không hưởng quyền: 16/08/2024. Ngày đăng ký cuối cùng: 19/08/2024. Thời gian thanh toán: 06/09/2024. Tỷ lệ thực hiện: 25%/mệnh giá (2500 đồng/cổ phiếu).\\n2. Tổ chức ĐHĐCĐ thường niên 2024. Ngày giao dịch không hưởng quyền: 29/03/2024. Ngày đăng ký cuối cùng: 01/04/2024. Thời gian thực hiện: 02/08/2024 08:00. Địa điểm thực hiện: Công ty cổ phần 32- 170 Quang Trung, Phường 10, Quận Gò Vấp, Thành...\\n3. Trả cổ tức Đợt 1 năm 2023 bằng tiền 1000 đồng/cổ phiếu. Ngày giao dịch không hưởng quyền: 21/12/2023. Ngày đăng ký cuối cùng: 22/12/2023. Thời gian thanh toán: 15/01/2024. Tỷ lệ thực hiện: 10%/mệnh giá (1000 đồng/cổ phiếu).'"
      ]
     },
     "execution_count": 29,
     "metadata": {},
     "output_type": "execute_result"
    }
   ],
   "source": [
    "from operator import itemgetter\n",
    "from langchain_core.output_parsers import StrOutputParser\n",
    "from langchain_core.prompts import PromptTemplate\n",
    "from langchain_core.runnables import RunnablePassthrough\n",
    "\n",
    "answer_prompt = PromptTemplate.from_template(\n",
    "    \"\"\"Given the following user question, corresponding SQL query, and SQL result, answer the user question.\n",
    "\n",
    "Question: {question}\n",
    "SQL Query: {query}\n",
    "SQL Result: {result}\n",
    "Answer: \"\"\"\n",
    ")\n",
    "\n",
    "answer = answer_prompt | llm | StrOutputParser()\n",
    "chain = (\n",
    "    RunnablePassthrough.assign(query=write_query).assign(\n",
    "        result=itemgetter(\"query\") | execute_query\n",
    "    )\n",
    "    | answer\n",
    ")\n",
    "\n",
    "chain.invoke({\"question\": \"Năm 2024 có những sự kiện gì nổi bật đối với công ty mã A32\"})"
   ]
  },
  {
   "cell_type": "markdown",
   "metadata": {},
   "source": [
    "### __3. Function calling__"
   ]
  },
  {
   "cell_type": "code",
   "execution_count": 5,
   "metadata": {},
   "outputs": [],
   "source": [
    "###EUT\n",
    "@tool\n",
    "def calculate_utility(outcome: float, risk_aversion: float) -> float:\n",
    "    \"\"\"\n",
    "    Tính toán độ hữu ích dựa trên kết quả và hệ số ngại rủi ro.\n",
    "\n",
    "    Args:\n",
    "        outcome: Kết quả tài chính cần đánh giá.\n",
    "        risk_aversion: Hệ số ngại rủi ro.\n",
    "    \"\"\"\n",
    "    if risk_aversion != 1:\n",
    "        return (outcome ** (1 - risk_aversion)) / (1 - risk_aversion)\n",
    "    else:\n",
    "        return np.log(outcome)\n",
    "@tool\n",
    "def calculate_expected_utility(probabilities: List[float], utilities: List[float]) -> float:\n",
    "    \"\"\"\n",
    "    Tính toán độ hữu ích kỳ vọng.\n",
    "\n",
    "    Args:\n",
    "        probabilities:Danh sách xác suất liên quan đến các kết quả khác nhau.\n",
    "        utilities: Danh sách độ hữu ích tương ứng với các kết quả.\n",
    "\n",
    "    Raises:\n",
    "        ValueError:Nếu độ dài của probabilities và utilities không khớp nhau.\n",
    "    \"\"\"\n",
    "    if len(probabilities) != len(utilities):\n",
    "        raise ValueError(\"Probabilities and utilities must have the same length.\")\n",
    "    \n",
    "    expected_utility = np.dot(probabilities, utilities)\n",
    "    return expected_utility\n",
    "\n",
    "\n",
    "# @tool\n",
    "# def porfolio_optimize_EUT():\n",
    "#     pass\n",
    "\n",
    "###MVP\n",
    "@tool\n",
    "def calculate_portfolio_return(returns: List[float], weights: List[float]) -> float:\n",
    "    \"\"\"\n",
    "    Tính toán lợi nhuận hàng năm của danh mục đầu tư.\n",
    "\n",
    "    Args:\n",
    "        returns: Danh sách lợi nhuận lịch sử của các tài sản trong danh mục đầu tư.\n",
    "        weights: Danh sách tỷ trọng đại diện cho phần trăm của từng tài sản trong danh mục.\n",
    "    \"\"\"\n",
    "    return np.dot(returns.mean(), weights) * 252\n",
    "\n",
    "@tool\n",
    "def calculate_portfolio_volatility(returns: List[float], weights: List[float]) -> float:\n",
    "    \"\"\"\n",
    "    Tính toán biến động hàng năm của danh mục đầu tư.\n",
    "\n",
    "    Args:\n",
    "        returns:  Danh sách lợi nhuận lịch sử của các tài sản trong danh mục đầu tư.\n",
    "        weights:  Danh sách tỷ trọng đại diện cho phần trăm của từng tài sản trong danh mục.\n",
    "    \"\"\"\n",
    "    return np.dot(weights, np.dot(returns.cov() * 252, weights)) ** 0.5  # Annualized volatility\n",
    "\n",
    "@tool\n",
    "def calculate_sharpe_ratio(returns: List[float], weights: List[float], risk_free_rate: float) -> float:\n",
    "    \"\"\"\n",
    "    Tính toán tỷ lệ Sharpe của danh mục đầu tư.\n",
    "\n",
    "    Args:\n",
    "        returns: Danh sách lợi nhuận lịch sử của các tài sản trong danh mục đầu tư.\n",
    "        weights: Danh sách tỷ trọng đại diện cho phần trăm của từng tài sản trong danh mục.\n",
    "        risk_free_rate: Tỷ lệ lợi nhuận không rủi ro.\n",
    "    \"\"\"\n",
    "    port_return = calculate_portfolio_return(returns, weights)\n",
    "    port_volatility = calculate_portfolio_volatility(returns, weights)\n",
    "    sharpe_ratio = (port_return - risk_free_rate) / port_volatility\n",
    "    return sharpe_ratio\n",
    "\n",
    "@tool\n",
    "def portfolio_optimize(returns, sharpe_ratio_or_variance=True):\n",
    "    \"\"\"\n",
    "    Tối ưu hóa danh mục đầu tư dựa trên tối ưu lợi nhuận hoặc giảm thiểu rủi ro sau khi biết được tình hình doanh mục đầu tư được dự đoán trong tương lai trước đó.\n",
    "\n",
    "    Args:\n",
    "        returns: Thông tin tình hình danh mục đầu tư sau khi dùng hàm predict_future_prices .\n",
    "        sharpe_ratio_or_variance: Một giá trị boolean chỉ định có tối ưu hóa cho tỷ lệ Sharpe (True) hay biến động (False).\n",
    "    \"\"\"\n",
    "    returns = json.loads(returns)\n",
    "    returns = pd.DataFrame([returns])\n",
    "    # returns=returns[returns.columns[1:]]\n",
    "    # print(returns)\n",
    "    num_assets = len(returns.columns)\n",
    "    # print('haha',num_assets)\n",
    "    init_guess = num_assets * [1. / num_assets]\n",
    "    bounds = tuple((0, 1) for asset in range(num_assets))\n",
    "    constraints = ({'type': 'eq', 'fun': lambda x: np.sum(x) - 1})\n",
    "    \n",
    "    if sharpe_ratio_or_variance:\n",
    "        result = minimize(lambda x: -calculate_sharpe_ratio(x, returns), init_guess, method='SLSQP', bounds=bounds, constraints=constraints)\n",
    "    else:\n",
    "        result = minimize(lambda x: calculate_portfolio_volatility(x, returns), init_guess, method='SLSQP', bounds=bounds, constraints=constraints)\n",
    "    \n",
    "    # Chuyển đổi tỷ trọng tối ưu thành từ điển với tên cổ phiếu\n",
    "    optimal_weights = dict(zip(returns.columns, result.x))\n",
    "    \n",
    "    return optimal_weights\n",
    "\n",
    "### CAPM\n",
    "@tool\n",
    "def calculate_beta(asset_returns: List[float], market_returns: List[float]) -> float:\n",
    "    \"\"\"\n",
    "    Tính toán hệ số beta của một tài sản.\n",
    "\n",
    "    Args:\n",
    "        asset_returns: Danh sách lợi nhuận của tài sản.\n",
    "        market_returns: Danh sách lợi nhuận của thị trường.\n",
    "    \"\"\"\n",
    "    covariance_matrix = np.cov(asset_returns, market_returns)\n",
    "    beta = covariance_matrix[0, 1] / covariance_matrix[1, 1]\n",
    "    return beta\n",
    "\n",
    "@tool\n",
    "def calculate_capm(risk_free_rate: float, beta: float, market_return: float) -> float:\n",
    "    \"\"\"\n",
    "    Tính toán lợi nhuận kỳ vọng của một tài sản bằng công thức CAPM.\n",
    "\n",
    "    Args:\n",
    "        risk_free_rate: Tỷ lệ lợi nhuận không rủi ro.\n",
    "        beta: Hệ số beta của tài sản.\n",
    "        market_return: Lợi nhuận kỳ vọng của thị trường.\n",
    "    \"\"\"\n",
    "    expected_return = risk_free_rate + beta * (market_return - risk_free_rate)\n",
    "    return expected_return\n",
    "\n",
    "\n",
    "#### Make prediction\n",
    "@tool\n",
    "def predict_future_prices(api_portfolio,symbols, n):\n",
    "    \"\"\"\n",
    "    Dự đoán giá danh mục đầu tư trong n tháng tới dựa trên dữ liệu đầu vào. Phù hợp cho việc dự báo tình hình của danh mục \n",
    "\n",
    "    Args:\n",
    "        api_portfolio: dữ liệu về một danh mục đầu tư gồm nhiều mã cổ phiếu khác nhau trong một khoảng thời gian\n",
    "        symbols: Danh sách các mã cổ phiếu khác nhau thuộc danh mục đầu tư đó\n",
    "        n: Số tháng từ ngày hiện tại để dự đoán.\n",
    "    \"\"\"\n",
    "    data = api_portfolio\n",
    "\n",
    "    try:\n",
    "        df = pd.DataFrame(eval(data))\n",
    "    except (ValueError, SyntaxError) as e:\n",
    "        print(f\"Error creating DataFrame: {e}\")\n",
    "        return\n",
    "    \n",
    "    if df.empty or not {'idx_time', 'AAA', 'A32'}.issubset(df.columns):\n",
    "        print(\"Data không hợp lệ. Đảm bảo dữ liệu chứa các cột 'idx_time', 'AAA', và 'A32'.\")\n",
    "        return\n",
    "    \n",
    "    df['idx_time'] = pd.to_datetime(df['idx_time'] + '-01', format='%Y-%m-%d')\n",
    "    \n",
    "    df['days'] = (df['idx_time'] - df['idx_time'].min()).dt.days\n",
    "    \n",
    "    df = df.dropna(subset=symbols)\n",
    "    \n",
    "    degree = 2\n",
    "    coeffs = {}\n",
    "\n",
    "    for symbol in symbols:\n",
    "        coeffs[symbol] = np.polyfit(df['days'], df[symbol], degree)\n",
    "    \n",
    "    future_dates = pd.date_range(start=pd.to_datetime('today').replace(day=1), periods=n, freq='MS')\n",
    "    future_days = (future_dates - df['idx_time'].min()).days\n",
    "    \n",
    "    predictions = {}\n",
    "    for symbol in symbols:\n",
    "        predictions[symbol] = np.polyval(coeffs[symbol], future_days)\n",
    "    \n",
    "    future_df = pd.DataFrame({\n",
    "        'idx_time': future_dates.strftime('%Y-%m'),  \n",
    "        **predictions\n",
    "    })\n",
    "    \n",
    "    last_prediction = future_df.iloc[-1]\n",
    "    \n",
    "    result = {symbol: last_prediction[symbol] for symbol in symbols}\n",
    "    \n",
    "    return json.dumps(result, default=str)\n",
    "\n",
    "####Get API\n",
    "@tool\n",
    "def generate_prompt_with_date(prompt):\n",
    "    \"\"\"\n",
    "    Tạo một prompt có kèm theo ngày hiện tại.\n",
    "\n",
    "    Args:\n",
    "        prompt: Chuỗi prompt ban đầu.\n",
    "    \"\"\"\n",
    "    from datetime import datetime\n",
    "    current_date = datetime.now().strftime(\"%Y-%m-%d\")\n",
    "    full_prompt = f\"{prompt} Today's date is {current_date}.\"\n",
    "    return full_prompt\n",
    "\n",
    "@tool\n",
    "def get_company_information(symbol):\n",
    "    \"\"\"\n",
    "    Lấy thông tin công ty bao gồm tổng quan, hồ sơ, cổ đông, công ty con, và cán bộ. Phù hợp cho việc điều tra thông tin cụ thể của một doanh nghiệp trước khi đưa ra quyết định\n",
    "\n",
    "    Args:\n",
    "        symbol: Mã cổ phiếu của công ty.\n",
    "    \"\"\"\n",
    "    company = Vnstock().stock(symbol=symbol, source='TCBS').company\n",
    "    \n",
    "    try:\n",
    "        overview = company.overview()\n",
    "        profile = company.profile()  # Assuming profile is another method; adjust if incorrect\n",
    "        shareholders = company.shareholders()\n",
    "        subsidiaries = company.subsidiaries()\n",
    "        officers = company.officers()\n",
    "        \n",
    "        result = {\n",
    "            \"overview\": overview,\n",
    "            \"profile\": profile,\n",
    "            \"shareholders\": shareholders,\n",
    "            \"subsidiaries\": subsidiaries,\n",
    "            \"officers\": officers\n",
    "        }\n",
    "    except Exception as e:\n",
    "        result = {\"error\": str(e)}\n",
    "    \n",
    "    return json.dumps(result)\n",
    "\n",
    "\n",
    "@tool\n",
    "def get_api_stock(symbols, startday, endday):\n",
    "    \"\"\"\n",
    "    Lấy dữ liệu cổ phiếu cho một mã và khoảng thời gian cụ thể.\n",
    "\n",
    "    Args:\n",
    "        symbols: Mã cổ phiếu cần lấy dữ liệu.\n",
    "        startday: Ngày bắt đầu của khoảng thời gian.\n",
    "        endday: Ngày kết thúc của khoảng thời gian.\n",
    "    \"\"\"\n",
    "\n",
    "\n",
    "    stock = Vnstock().stock(symbol=symbols, source='TCBS')\n",
    "    \n",
    "    try:\n",
    "        startday = pd.to_datetime(startday).strftime('%Y-%m-%d')\n",
    "        endday = pd.to_datetime(endday).strftime('%Y-%m-%d')\n",
    "        df = stock.quote.history(start=startday, end=endday, interval='1D')\n",
    "        \n",
    "        if not df.empty:\n",
    "            df = df.map(lambda x: x.isoformat() if isinstance(x, (pd.Timestamp, pd.Timestamp)) else x)\n",
    "            result = df.to_dict(orient='records')\n",
    "        else:\n",
    "            result = {\"error\": \"Có lẽ ngày này ngân hàng không làm việc, do đây có thể là thứ bảy chủ nhật hoặc ngày lễ\"}\n",
    "        if startday==endday:\n",
    "            result = [record for record in result if record['time'].startswith(startday)]\n",
    "            if result.empty:\n",
    "                result={\"error\": \"Có lẽ ngày này ngân hàng không làm việc, do đây có thể là thứ bảy chủ nhật hoặc ngày lễ\"}\n",
    "\n",
    "    \n",
    "    except Exception as e:\n",
    "        result = {\"error\": \"Có lẽ ngày này ngân hàng không làm việc, do đây có thể là thứ bảy chủ nhật hoặc ngày lễ\"}\n",
    "\n",
    "    \n",
    "    return json.dumps(result, ensure_ascii=False)\n",
    "\n",
    "\n",
    "@tool\n",
    "def get_api_income_statement(symbols):\n",
    "    \"\"\"\n",
    "    Truy xuất bảng báo cáo tài chính theo năm của từng doanh nghiệp cụ thể\n",
    "\n",
    "    Args:\n",
    "        symbols: Mã doanh nghiệp được niêm yết trên sàn chuwnsg khoán.\n",
    "    \"\"\"\n",
    "    stock = Vnstock().stock(symbol=symbols, source='TCBS')\n",
    "    try:\n",
    "        df = stock.finance.income_statement(period='year', lang='en')\n",
    "        if not df.empty:\n",
    "            result = df.to_dict(orient='records')\n",
    "        else:\n",
    "            result = {\"error\": \"No data found for the given range\"}\n",
    "    except Exception as e:\n",
    "        result = {\"error\": str(e)}\n",
    "    \n",
    "    return json.dumps(result)\n",
    "\n",
    "@tool\n",
    "def get_api_portfolio(symbols):\n",
    "    \"\"\"\n",
    "    Lấy dữ liệu về một danh mục đầu tư gồm nhiều mã cổ phiếu khác nhau trong một khoảng thời gian.\n",
    "\n",
    "    Args:\n",
    "        symbols: Một danh sách các mã cổ phiếu trong danh mục đầu tư.\n",
    "    \"\"\"\n",
    "    endday = datetime.now()\n",
    "    startday = endday - timedelta(days=365)\n",
    "    \n",
    "    data = pd.DataFrame()\n",
    "    errors = []  # To store error messages for each symbol\n",
    "    for symbol in symbols:\n",
    "        stock = Vnstock().stock(symbol=symbol, source='TCBS')\n",
    "        try:\n",
    "            df = stock.quote.history(\n",
    "                start=startday.strftime('%Y-%m-%d'), \n",
    "                end=endday.strftime('%Y-%m-%d'), \n",
    "                interval='1D'\n",
    "            )\n",
    "            if df.empty:\n",
    "                errors.append(f\"No data found for symbol {symbol}\")\n",
    "                continue\n",
    "            \n",
    "            df['time'] = pd.to_datetime(df['time'])\n",
    "            df = df.sort_values(by='time', ascending=False)\n",
    "            df['month'] = df['time'].dt.month\n",
    "            df['year'] = df['time'].dt.year\n",
    "            df['idx_time'] = df['time'].dt.to_period('M')\n",
    "            \n",
    "            df = df.drop_duplicates(subset=['idx_time'])\n",
    "            df.set_index('idx_time', inplace=True)\n",
    "            df = df[['close']]\n",
    "            df.columns = [symbol]\n",
    "            data = pd.concat([data, df], axis=1)\n",
    "        except Exception as e:\n",
    "            errors.append(f\"Error for symbol {symbol}: {str(e)}\")\n",
    "\n",
    "    if data.empty:\n",
    "        return json.dumps({\"error\": \"No data found for the given symbols and range\"}, default=str)\n",
    "    \n",
    "    data = data[~data.index.duplicated(keep='first')]\n",
    "    data = data.groupby(data.index).mean()\n",
    "    rets = np.log(data / data.shift(1)).dropna()\n",
    "    \n",
    "    result = rets.reset_index().to_dict(orient='records')\n",
    "\n",
    "    # Convert the result and errors into a string for ToolMessage compatibility\n",
    "    output = {\"result\": result, \"errors\": errors} if errors else result\n",
    "    return json.dumps(output, default=str)\n",
    "\n",
    "@tool\n",
    "def get_api_balance_sheet(symbols):\n",
    "    \"\"\"\n",
    "    Truy xuất bảng cân đối kế toán của từng doanh nghiệp cụ thể\n",
    "\n",
    "    Args:\n",
    "        symbols: Mã doanh nghiệp được định giá trên sàn chứng khoán\n",
    "    \"\"\"\n",
    "    stock = Vnstock().stock(symbol=symbols, source='TCBS')\n",
    "    try:\n",
    "        df = stock.finance.balance_sheet(period='year', lang='en')\n",
    "        if not df.empty:\n",
    "            result = df.to_dict(orient='records')\n",
    "        else:\n",
    "            result = {\"error\": \"No data found for the given range\"}\n",
    "    except Exception as e:\n",
    "        result = {\"error\": str(e)}\n",
    "    \n",
    "    return json.dumps(result)\n",
    "\n",
    "\n",
    "tools = [\n",
    "    calculate_utility,\n",
    "    calculate_expected_utility,\n",
    "    calculate_portfolio_return,\n",
    "    calculate_portfolio_volatility,\n",
    "    calculate_sharpe_ratio,\n",
    "    calculate_beta,\n",
    "    calculate_capm,\n",
    "    generate_prompt_with_date,\n",
    "    get_company_information,\n",
    "    get_api_stock,\n",
    "    get_api_portfolio,\n",
    "    get_api_income_statement,\n",
    "    get_api_balance_sheet,\n",
    "    predict_future_prices,\n",
    "    portfolio_optimize,\n",
    "]\n",
    "\n",
    "llm_with_tools = llm.bind_tools(tools)\n"
   ]
  },
  {
   "cell_type": "code",
   "execution_count": 7,
   "metadata": {},
   "outputs": [
    {
     "name": "stdout",
     "output_type": "stream",
     "text": [
      "Answer: content='' additional_kwargs={'tool_calls': [{'id': 'call_mfXAP94gkpiJZzA9DxTBgyku', 'function': {'arguments': '{\"prompt\":\"Dự đoán giá của các cổ phiếu trong danh mục đầu tư của bạn (AAM, XPH, YEG, AAT) trong 6 tháng tới và tối ưu hóa danh mục đầu tư dựa trên dự đoán này để đưa ra lời khuyên đầu tư chứng khoán thành công.\"}', 'name': 'generate_prompt_with_date'}, 'type': 'function'}], 'refusal': None} response_metadata={'token_usage': {'completion_tokens': 107, 'prompt_tokens': 1922, 'total_tokens': 2029, 'prompt_tokens_details': {'cached_tokens': 0}, 'completion_tokens_details': {'reasoning_tokens': 0}}, 'model_name': 'gpt-3.5-turbo-0125', 'system_fingerprint': None, 'finish_reason': 'tool_calls', 'logprobs': None} id='run-5c0f8193-0731-4ce3-b403-b98a0b775d56-0' tool_calls=[{'name': 'generate_prompt_with_date', 'args': {'prompt': 'Dự đoán giá của các cổ phiếu trong danh mục đầu tư của bạn (AAM, XPH, YEG, AAT) trong 6 tháng tới và tối ưu hóa danh mục đầu tư dựa trên dự đoán này để đưa ra lời khuyên đầu tư chứng khoán thành công.'}, 'id': 'call_mfXAP94gkpiJZzA9DxTBgyku', 'type': 'tool_call'}] usage_metadata={'input_tokens': 1922, 'output_tokens': 107, 'total_tokens': 2029}\n",
      "{'name': 'generate_prompt_with_date', 'args': {'prompt': 'Dự đoán giá của các cổ phiếu trong danh mục đầu tư của bạn (AAM, XPH, YEG, AAT) trong 6 tháng tới và tối ưu hóa danh mục đầu tư dựa trên dự đoán này để đưa ra lời khuyên đầu tư chứng khoán thành công.'}, 'id': 'call_mfXAP94gkpiJZzA9DxTBgyku', 'type': 'tool_call'}\n",
      "{'prompt': 'Dự đoán giá của các cổ phiếu trong danh mục đầu tư của bạn (AAM, XPH, YEG, AAT) trong 6 tháng tới và tối ưu hóa danh mục đầu tư dựa trên dự đoán này để đưa ra lời khuyên đầu tư chứng khoán thành công.'}\n",
      "<class 'str'> Dự đoán giá của các cổ phiếu trong danh mục đầu tư của bạn (AAM, XPH, YEG, AAT) trong 6 tháng tới và tối ưu hóa danh mục đầu tư dựa trên dự đoán này để đưa ra lời khuyên đầu tư chứng khoán thành công. Today's date is 2024-10-06.\n",
      "messages: [HumanMessage(content='Bạn là một chuyên gia chơi chứng khoán trong lĩnh vực kinh tế đầu tư tại thị trường chứng khoán Việt Nam. Hôm nay là ngày 2024-10-06 Sử dụng các tool được cung cấp như một ví dụ để đưa ra những lời khuyên hữu ích để người chơi mới tại Việt Nam lựa chọn và tối ưu hóa danh mục đầu tư, đầu tư chứng khoán thành công. Dự đoán một danh mục đầu tư của tôi bao gồm các mã cổ phiếu của sàn VNINDEX như là AAM, XPH, YEG, AAT trong 6 tháng tới và tối ưu hóa danh mục đầu tư để cho tôi biết tôi nên phân bổ vốn như thế nào.\\n'), AIMessage(content='', additional_kwargs={'tool_calls': [{'id': 'call_mfXAP94gkpiJZzA9DxTBgyku', 'function': {'arguments': '{\"prompt\":\"Dự đoán giá của các cổ phiếu trong danh mục đầu tư của bạn (AAM, XPH, YEG, AAT) trong 6 tháng tới và tối ưu hóa danh mục đầu tư dựa trên dự đoán này để đưa ra lời khuyên đầu tư chứng khoán thành công.\"}', 'name': 'generate_prompt_with_date'}, 'type': 'function'}], 'refusal': None}, response_metadata={'token_usage': {'completion_tokens': 107, 'prompt_tokens': 1922, 'total_tokens': 2029, 'prompt_tokens_details': {'cached_tokens': 0}, 'completion_tokens_details': {'reasoning_tokens': 0}}, 'model_name': 'gpt-3.5-turbo-0125', 'system_fingerprint': None, 'finish_reason': 'tool_calls', 'logprobs': None}, id='run-5c0f8193-0731-4ce3-b403-b98a0b775d56-0', tool_calls=[{'name': 'generate_prompt_with_date', 'args': {'prompt': 'Dự đoán giá của các cổ phiếu trong danh mục đầu tư của bạn (AAM, XPH, YEG, AAT) trong 6 tháng tới và tối ưu hóa danh mục đầu tư dựa trên dự đoán này để đưa ra lời khuyên đầu tư chứng khoán thành công.'}, 'id': 'call_mfXAP94gkpiJZzA9DxTBgyku', 'type': 'tool_call'}], usage_metadata={'input_tokens': 1922, 'output_tokens': 107, 'total_tokens': 2029}), ToolMessage(content=\"Dự đoán giá của các cổ phiếu trong danh mục đầu tư của bạn (AAM, XPH, YEG, AAT) trong 6 tháng tới và tối ưu hóa danh mục đầu tư dựa trên dự đoán này để đưa ra lời khuyên đầu tư chứng khoán thành công. Today's date is 2024-10-06.\", tool_call_id='call_mfXAP94gkpiJZzA9DxTBgyku')]\n"
     ]
    }
   ],
   "source": [
    "query = f\"\"\"Bạn là một chuyên gia chơi chứng khoán trong lĩnh vực kinh tế đầu tư tại thị trường chứng khoán Việt Nam. Hôm nay là ngày {datetime.now().strftime('%Y-%m-%d')} Sử dụng các tool được cung cấp như một ví dụ để đưa ra những lời khuyên hữu ích để người chơi mới tại Việt Nam lựa chọn và tối ưu hóa danh mục đầu tư, đầu tư chứng khoán thành công. Dự đoán một danh mục đầu tư của tôi bao gồm các mã cổ phiếu của sàn VNINDEX như là AAM, XPH, YEG, AAT trong 6 tháng tới và tối ưu hóa danh mục đầu tư để cho tôi biết tôi nên phân bổ vốn như thế nào.\n",
    "\"\"\"\n",
    "llm = ChatOpenAI(model=\"gpt-4-1106-preview\" , api_key=os.getenv(\"OPEN_API_KEY\"))\n",
    "\n",
    "\n",
    "messages = [HumanMessage(query)]\n",
    "ai_msg = llm_with_tools.invoke(messages)\n",
    "print(f'Answer: {ai_msg}')\n",
    "messages.append(ai_msg)\n",
    "\n",
    "tool_mapping = {\n",
    "    \"calculate_utility\": calculate_utility,\n",
    "    \"calculate_expected_utility\": calculate_expected_utility,\n",
    "    \"calculate_portfolio_return\": calculate_portfolio_return,\n",
    "    \"calculate_portfolio_volatility\": calculate_portfolio_volatility,\n",
    "    \"calculate_sharpe_ratio\": calculate_sharpe_ratio,\n",
    "    \"calculate_beta\": calculate_beta,\n",
    "    \"calculate_capm\": calculate_capm,\n",
    "    \"generate_prompt_with_date\": generate_prompt_with_date,\n",
    "    \"get_company_information\": get_company_information,\n",
    "    \"get_api_stock\": get_api_stock,\n",
    "    \"get_api_income_statement\": get_api_income_statement,\n",
    "    \"get_api_balance_sheet\": get_api_balance_sheet,\n",
    "    \"predict_future_prices\": predict_future_prices,\n",
    "    \"get_api_portfolio\": get_api_portfolio,\n",
    "    \"portfolio_optimize\": portfolio_optimize,\n",
    "}\n",
    "\n",
    "\n",
    "for tool_call in ai_msg.tool_calls:\n",
    "    print(tool_call)\n",
    "    selected_tool = tool_mapping[tool_call[\"name\"].lower()]\n",
    "    print(tool_call[\"args\"])\n",
    "    tool_output = selected_tool.invoke(dict(tool_call[\"args\"]))\n",
    "    print(type(tool_output), tool_output)\n",
    "    messages.append(ToolMessage(tool_output, tool_call_id=tool_call[\"id\"]))\n",
    "\n",
    "print(f'messages: {messages}')\n"
   ]
  },
  {
   "cell_type": "code",
   "execution_count": null,
   "metadata": {},
   "outputs": [],
   "source": [
    "# selected_tool"
   ]
  },
  {
   "cell_type": "code",
   "execution_count": null,
   "metadata": {},
   "outputs": [
    {
     "data": {
      "text/plain": [
       "AIMessage(content='', additional_kwargs={'tool_calls': [{'id': 'call_RrTzeYq3oepLuFvfYvKjqkWa', 'function': {'arguments': '{\"api_portfolio\":[{\"idx_time\":\"2023-09\",\"AAM\":-0.028170876966696335,\"XPH\":-0.12188981760903676,\"YEG\":-0.07626702301041496,\"AAT\":-0.09531017980432477},{\"idx_time\":\"2023-10\",\"AAM\":-0.13543797089510426,\"XPH\":0.0,\"YEG\":0.39871809456156987,\"AAT\":-0.1423614720727948},{\"idx_time\":\"2023-11\",\"AAM\":0.07457522549140307,\"XPH\":0.07145896398214485,\"YEG\":-0.03744279748377614,\"AAT\":0.09913273752197481},{\"idx_time\":\"2023-12\",\"AAM\":-0.05727749690052405,\"XPH\":0.033901551675681416,\"YEG\":0.19048758834015708,\"AAT\":-0.016194685919980606},{\"idx_time\":\"2024-01\",\"AAM\":-0.047183738121158246,\"XPH\":-0.10536051565782628,\"YEG\":-0.15692076470107397,\"AAT\":0.06899287148695142},{\"idx_time\":\"2024-02\",\"AAM\":0.047183738121158225,\"XPH\":-0.1823215567939547,\"YEG\":0.0474022388945839,\"AAT\":0.011363758650315003},{\"idx_time\":\"2024-03\",\"AAM\":-0.003220614700042172,\"XPH\":0.5840760855055834,\"YEG\":-0.03294415571935415,\"AAT\":-0.011363758650314982},{\"idx_time\":\"2024-04\",\"AAM\":-0.043963123421116176,\"XPH\":-0.19053362235432517,\"YEG\":-0.14052778579761804,\"AAT\":-0.13434805253107868},{\"idx_time\":\"2024-05\",\"AAM\":-0.06378973787533009,\"XPH\":-0.03509131981127006,\"YEG\":0.010953012019197145,\"AAT\":-0.010953012019197093},{\"idx_time\":\"2024-06\",\"AAM\":-0.01204833851617448,\"XPH\":0.009273636785329033,\"YEG\":0.0021762794225954484,\"AAT\":-0.08981867781064956},{\"idx_time\":\"2024-07\",\"AAM\":-0.04969966855227265,\"XPH\":-0.06351340572232586,\"YEG\":0.032088314551500664,\"AAT\":-0.15616073075528267},{\"idx_time\":\"2024-08\",\"AAM\":-0.0726391836399716,\"XPH\":0.17958557697507987,\"YEG\":-0.023430251808385996,\"AAT\":0.12681877247126722}],\"symbols\":[\"AAM\",\"XPH\",\"YEG\",\"AAT\"],\"n\":6}', 'name': 'predict_future_prices'}, 'type': 'function'}], 'refusal': None}, response_metadata={'token_usage': {'completion_tokens': 701, 'prompt_tokens': 2735, 'total_tokens': 3436}, 'model_name': 'gpt-4-1106-preview', 'system_fingerprint': None, 'finish_reason': 'tool_calls', 'logprobs': None}, id='run-c9f3dab2-a135-4abb-82e3-5db1efa265dd-0', tool_calls=[{'name': 'predict_future_prices', 'args': {'api_portfolio': [{'idx_time': '2023-09', 'AAM': -0.028170876966696335, 'XPH': -0.12188981760903676, 'YEG': -0.07626702301041496, 'AAT': -0.09531017980432477}, {'idx_time': '2023-10', 'AAM': -0.13543797089510426, 'XPH': 0.0, 'YEG': 0.39871809456156987, 'AAT': -0.1423614720727948}, {'idx_time': '2023-11', 'AAM': 0.07457522549140307, 'XPH': 0.07145896398214485, 'YEG': -0.03744279748377614, 'AAT': 0.09913273752197481}, {'idx_time': '2023-12', 'AAM': -0.05727749690052405, 'XPH': 0.033901551675681416, 'YEG': 0.19048758834015708, 'AAT': -0.016194685919980606}, {'idx_time': '2024-01', 'AAM': -0.047183738121158246, 'XPH': -0.10536051565782628, 'YEG': -0.15692076470107397, 'AAT': 0.06899287148695142}, {'idx_time': '2024-02', 'AAM': 0.047183738121158225, 'XPH': -0.1823215567939547, 'YEG': 0.0474022388945839, 'AAT': 0.011363758650315003}, {'idx_time': '2024-03', 'AAM': -0.003220614700042172, 'XPH': 0.5840760855055834, 'YEG': -0.03294415571935415, 'AAT': -0.011363758650314982}, {'idx_time': '2024-04', 'AAM': -0.043963123421116176, 'XPH': -0.19053362235432517, 'YEG': -0.14052778579761804, 'AAT': -0.13434805253107868}, {'idx_time': '2024-05', 'AAM': -0.06378973787533009, 'XPH': -0.03509131981127006, 'YEG': 0.010953012019197145, 'AAT': -0.010953012019197093}, {'idx_time': '2024-06', 'AAM': -0.01204833851617448, 'XPH': 0.009273636785329033, 'YEG': 0.0021762794225954484, 'AAT': -0.08981867781064956}, {'idx_time': '2024-07', 'AAM': -0.04969966855227265, 'XPH': -0.06351340572232586, 'YEG': 0.032088314551500664, 'AAT': -0.15616073075528267}, {'idx_time': '2024-08', 'AAM': -0.0726391836399716, 'XPH': 0.17958557697507987, 'YEG': -0.023430251808385996, 'AAT': 0.12681877247126722}], 'symbols': ['AAM', 'XPH', 'YEG', 'AAT'], 'n': 6}, 'id': 'call_RrTzeYq3oepLuFvfYvKjqkWa', 'type': 'tool_call'}], usage_metadata={'input_tokens': 2735, 'output_tokens': 701, 'total_tokens': 3436})"
      ]
     },
     "execution_count": 9,
     "metadata": {},
     "output_type": "execute_result"
    }
   ],
   "source": [
    "llm_with_tools.invoke(messages)\n"
   ]
  },
  {
   "cell_type": "markdown",
   "metadata": {},
   "source": [
    "#### Few-short prompting"
   ]
  },
  {
   "cell_type": "code",
   "execution_count": 7,
   "metadata": {},
   "outputs": [],
   "source": [
    "examples = [\n",
    "    # HumanMessage(content=\"Mã cổ phiếu của công ty AAA ngày hôm nay đang ở mức bao nhiêu\", name=\"example_user\"),\n",
    "    # AIMessage(content=\"\", name=\"example_assistant\", tool_calls=[{\"name\": \"symbols\", \"args\": {\"symbols\": \"AAA\", \"startday\": datetime.now().strftime('%Y-%m-%d'), \"endday\":datetime.now().strftime('%Y-%m-%d')}, \"id\": \"1\"}]),\n",
    "    # ToolMessage(content='Có lẽ ngày này ngân hàng không làm việc, do đây có thể là thứ bảy chủ nhật hoặc ngày lễ', tool_call_id=\"1\"),\n",
    "    # AIMessage(content=\"Thị trường chứng khoán ngày giao dịch hôm nay hiện tại không hoạt động, nên chúng tôi không thể kiểm tra hoặc phân tích dữ liệu cho bạn được, nếu có thể bạn vui lòng quay lại vào ngày mai\", name=\"example_assistant\"),\n",
    "    \n",
    "    HumanMessage(content=\"Hiện nay, một danh mục đầu tư của tôi bao gồm các mã cổ phiếu của sàn VNINDEX như là AAA, A32 và risk free state là 0.01. Tôi nên phân bổ vốn của mình như nào để tối ưu hóa danh mục đầu tư sao cho lợi nhuận được tối đa nhất trong chiến lược đầu tư dài hạn 6 tháng tới như thế nào?\", name=\"example_user1\"),\n",
    "    AIMessage(content=\"\", name=\"example_assistant1\", tool_calls=[{\"name\": \"get_api_portfolio\", \"args\": {\"symbols\": ['AAA', 'A32'], \"n\": 6}, \"id\": \"1\"}]),\n",
    "    ToolMessage(content='[{\"idx_time\": \"2023-09\", \"AAA\": -0.05144315555216674, \"A32\": 0.0884884106784579}, {\"idx_time\": \"2023-10\", \"AAA\": -0.14542232114660703, \"A32\": -0.0963458098223358}, {\"idx_time\": \"2023-11\", \"AAA\": 0.022231032778677464, \"A32\": 0.03697967078334708}, {\"idx_time\": \"2023-12\", \"AAA\": 0.03516170679547651, \"A32\": 0.031034356695593013}, {\"idx_time\": \"2024-01\", \"AAA\": 0.03523565930437369, \"A32\": 0.0753295051569786}, {\"idx_time\": \"2024-02\", \"AAA\": 0.11900386259347105, \"A32\": 0.3768284474520035}, {\"idx_time\": \"2024-03\", \"AAA\": -0.003568951221208245, \"A32\": -0.2758677123166095}, {\"idx_time\": \"2024-04\", \"AAA\": -0.043706234983660705, \"A32\": 0.08584764872201436}, {\"idx_time\": \"2024-05\", \"AAA\": 0.06614997833044046, \"A32\": -0.17193531125845293}, {\"idx_time\": \"2024-06\", \"AAA\": 0.027219402108996846, \"A32\": 0.04964901833003382}, {\"idx_time\": \"2024-07\", \"AAA\": 0.023138676922500895, \"A32\": -0.003968290420115657}, {\"idx_time\": \"2024-08\", \"AAA\": -0.1058755282870188, \"A32\": 0.05798319264886414}]', tool_call_id=\"1\"),\n",
    "    AIMessage(content=\"\", name=\"example_assistant1\", tool_calls=[{\"name\": \"predict_future_prices\", \"args\": {\"symbols\": ['AAM', 'XPH', 'YEG', 'AAT'], \"n\": 6}, \"id\": \"2\"}]),\n",
    "    ToolMessage(content='{\"AAA\": -0.4000549560521612, \"A32\": -0.020533696676693372}', tool_call_id=\"2\"),\n",
    "    AIMessage(content=\"\", name=\"example_assistant1\", tool_calls=[{\"name\": \"portfolio_optimize\", \"args\": {\"returns\": {\"AAA\": -0.4000549560521612, \"A32\": -0.020533696676693372}, \"sharpe_ratio_or_variance\": True,\"risk_free_rate\":0.01}, \"id\": \"3\"}]),\n",
    "    ToolMessage(content=\"{'AAA': 0.5, 'A32': 0.5}\", tool_call_id=\"3\"),\n",
    "    AIMessage(content=\"Có thể thấy, sau khi chạy mô hình dự đoán của hệ thống, tình hình cổ phiếu sẽ có sự biến động khá cao. Như vậy dựa vào kết quả dự đoán tình hình từng mã sau 6 tháng tới, bạn cần phân bố đều vốn cá nhân 50% ứng với mỗi loại cổ phiếu, để có được lợi nhuận cao nhất\", name=\"example_assistant1\"),\n",
    "\n",
    "    # HumanMessage(content=\"Hiện nay, một danh mục đầu tư của tôi bao gồm các mã cổ phiếu của sàn VNINDEX như là AAM, XPH, YEG, AAT. Tôi nên phân bổ vốn của mình như nào để tối ưu hóa danh mục đầu tư sao giảm thiểu rủi ro nhất trong chiến lược đầu tư dài hạn 6 tháng tới như thế nào?\", name=\"example_user2\"),\n",
    "    # AIMessage(content=\"\", name=\"example_assistant2\", tool_calls=[{\"name\": \"predict_future_prices\", \"args\": {\"symbols\": ['AAM', 'XPH', 'YEG', 'AAT'], \"n\": 6}, \"id\": \"1\"}]),\n",
    "    # ToolMessage(content=json.dumps({'AAM': 123, 'XPH': 123, 'YEG': 12, 'AAT': 134}), tool_call_id=\"1\"),\n",
    "    # AIMessage(content=\"\", name=\"example_assistant2\", tool_calls=[{\"name\": \"portfolio_optimize\", \"args\": {\"return\": {'AAM': 123, 'XPH': 123, 'YEG': 12, 'AAT': 134}, \"sharpe_ratio_or_variance\": False}, \"id\": \"2\"}]),\n",
    "    # ToolMessage(content=json.dumps({'AAM': 0.15, 'XPH': -0.05, 'YEG': 0.45, 'AAT': 0.45}), tool_call_id=\"2\"),\n",
    "    # AIMessage(content=\"Có thể thấy, sau khi chạy mô hình dự đoán của hệ thống, tình hình cổ phiếu sẽ có sự biến động khá cao. Như vậy dựa vào kết quả dự đoán tình hình từng mã sau 6 tháng tới, bạn cần phân bố đều vốn cá nhân lần lượt là, đầu tiên, rút 5% vốn hiện tại khỏi XPH, sử dụng 15% vốn vào AAM, 45% vốn cho cả YEG và AAT ứng với mỗi loại cổ phiếu, để có được lợi nhuận cao nhất\", name=\"example_assistant2\"),\n",
    "\n",
    "    # HumanMessage(content=\"Đánh giá công ty mã AAA có hoạt động ổn định hay không trong suốt 6 tháng qua, check lại sự kiện kèm tin tức để đánh giá mức độ của công ty.\", name=\"example_user3\"),\n",
    "    # AIMessage(content=\"Để đánh giá công ty, tôi sẽ kiểm tra các chỉ số tài chính chính của công ty trong 6 tháng qua và xem xét các sự kiện quan trọng, cũng như tin tức ảnh hưởng đến công ty. Hãy chờ trong giây lát...\"),\n",
    "    # AIMessage(content=\"\", name=\"example_assistant3\", tool_calls=[{\"name\": \"get_company_information\", \"args\": {\"symbol\": \"AAA\"}, \"id\": \"1\"}]),\n",
    "    # ToolMessage(content=\"Thông tin công ty mã AAA và các sự kiện quan trọng đã được thu thập.\", tool_call_id=\"1\"),\n",
    "    # AIMessage(content=\"Sau khi kiểm tra, tôi thấy rằng công ty mã AAA có tình hình hoạt động tương đối ổn định trong 6 tháng qua, tuy nhiên, có một số sự kiện và tin tức quan trọng cần lưu ý...\", name=\"example_assistant3\"),\n",
    "]\n"
   ]
  },
  {
   "cell_type": "code",
   "execution_count": 11,
   "metadata": {},
   "outputs": [
    {
     "name": "stdout",
     "output_type": "stream",
     "text": [
      "{'name': 'get_api_portfolio', 'args': {'symbols': ['AAA', 'A32']}, 'id': 'call_zZzCbEUSl49ZuBJFwGCHMreG', 'type': 'tool_call'}\n",
      "{'symbols': ['AAA', 'A32']}\n",
      "<class 'str'> [{\"idx_time\": \"2023-09\", \"AAA\": -0.14523988188942288, \"A32\": 0.08596840011665516}, {\"idx_time\": \"2023-10\", \"AAA\": -0.1548647105609153, \"A32\": -0.11660209920534634}, {\"idx_time\": \"2023-11\", \"AAA\": 0.12553072244720934, \"A32\": -0.006851949152552592}, {\"idx_time\": \"2023-12\", \"AAA\": 0.04104247737860604, \"A32\": 0.06649420875558121}, {\"idx_time\": \"2024-01\", \"AAA\": 0.06652068234156243, \"A32\": 0.3123921189458654}, {\"idx_time\": \"2024-02\", \"AAA\": 0.11226730187108121, \"A32\": -0.18724999963294467}, {\"idx_time\": \"2024-03\", \"AAA\": -0.008888947417246152, \"A32\": 0.13985791627033278}, {\"idx_time\": \"2024-04\", \"AAA\": -0.13557429425432288, \"A32\": -0.028648879083708646}, {\"idx_time\": \"2024-05\", \"AAA\": 0.1919883835344143, \"A32\": -0.01851113657302951}, {\"idx_time\": \"2024-06\", \"AAA\": -0.06989743961737832, \"A32\": -0.06379145906794437}, {\"idx_time\": \"2024-07\", \"AAA\": 0.052875752047947776, \"A32\": -0.0027611614413281683}, {\"idx_time\": \"2024-08\", \"AAA\": -0.13783247452391328, \"A32\": 0.04944827541398133}]\n"
     ]
    },
    {
     "data": {
      "text/plain": [
       "[HumanMessage(content='Hiện nay, một danh mục đầu tư của tôi bao gồm các mã cổ phiếu của sàn VNINDEX như là AAA, A32 và risk free state là 0.01. Tôi nên phân bổ vốn của mình như nào để tối ưu hóa danh mục đầu tư sao cho lợi nhuận được tối đa nhất trong chiến lược đầu tư dài hạn 6 tháng tới như thế nào?'),\n",
       " AIMessage(content='', additional_kwargs={'tool_calls': [{'id': 'call_zZzCbEUSl49ZuBJFwGCHMreG', 'function': {'arguments': '{\"symbols\":[\"AAA\",\"A32\"]}', 'name': 'get_api_portfolio'}, 'type': 'function'}], 'refusal': None}, response_metadata={'token_usage': {'completion_tokens': 18, 'prompt_tokens': 2869, 'total_tokens': 2887}, 'model_name': 'gpt-4-1106-preview', 'system_fingerprint': None, 'finish_reason': 'tool_calls', 'logprobs': None}, id='run-d0e959fc-6f78-4239-a3e4-6f8df8a30f61-0', tool_calls=[{'name': 'get_api_portfolio', 'args': {'symbols': ['AAA', 'A32']}, 'id': 'call_zZzCbEUSl49ZuBJFwGCHMreG', 'type': 'tool_call'}], usage_metadata={'input_tokens': 2869, 'output_tokens': 18, 'total_tokens': 2887}),\n",
       " ToolMessage(content='[{\"idx_time\": \"2023-09\", \"AAA\": -0.14523988188942288, \"A32\": 0.08596840011665516}, {\"idx_time\": \"2023-10\", \"AAA\": -0.1548647105609153, \"A32\": -0.11660209920534634}, {\"idx_time\": \"2023-11\", \"AAA\": 0.12553072244720934, \"A32\": -0.006851949152552592}, {\"idx_time\": \"2023-12\", \"AAA\": 0.04104247737860604, \"A32\": 0.06649420875558121}, {\"idx_time\": \"2024-01\", \"AAA\": 0.06652068234156243, \"A32\": 0.3123921189458654}, {\"idx_time\": \"2024-02\", \"AAA\": 0.11226730187108121, \"A32\": -0.18724999963294467}, {\"idx_time\": \"2024-03\", \"AAA\": -0.008888947417246152, \"A32\": 0.13985791627033278}, {\"idx_time\": \"2024-04\", \"AAA\": -0.13557429425432288, \"A32\": -0.028648879083708646}, {\"idx_time\": \"2024-05\", \"AAA\": 0.1919883835344143, \"A32\": -0.01851113657302951}, {\"idx_time\": \"2024-06\", \"AAA\": -0.06989743961737832, \"A32\": -0.06379145906794437}, {\"idx_time\": \"2024-07\", \"AAA\": 0.052875752047947776, \"A32\": -0.0027611614413281683}, {\"idx_time\": \"2024-08\", \"AAA\": -0.13783247452391328, \"A32\": 0.04944827541398133}]', tool_call_id='call_zZzCbEUSl49ZuBJFwGCHMreG')]"
      ]
     },
     "execution_count": 11,
     "metadata": {},
     "output_type": "execute_result"
    }
   ],
   "source": [
    "# llm = ChatOpenAI(model=\"gpt-4-1106-preview\" , api_key=os.getenv(\"OPEN_API_KEY\"))\n",
    "# llm_with_tools = llm.bind_tools(tools)\n",
    "\n",
    "system=f\"\"\"Bạn là một chuyên gia chơi chứng khoán trong lĩnh vực kinh tế đầu tư tại thị trường chứng khoán Việt Nam. Hôm nay là ngày {datetime.now().strftime('%Y-%m-%d')}. Sử dụng các tool được cung cấp như một ví dụ để đưa ra những lời khuyên hữu ích để người chơi mới tại Việt Nam lựa chọn và tối ưu hóa danh mục đầu tư, đầu tư chứng khoán thành công\n",
    "\"\"\"\n",
    "few_shot_prompt = ChatPromptTemplate.from_messages(\n",
    "    [\n",
    "        (\"system\", system),\n",
    "        *examples,\n",
    "        (\"human\", \"{query}\"),\n",
    "    ]\n",
    "    \n",
    ")\n",
    "\n",
    "tool_mapping = {\n",
    "    \"calculate_utility\": calculate_utility,\n",
    "    \"calculate_expected_utility\": calculate_expected_utility,\n",
    "    \"calculate_portfolio_return\": calculate_portfolio_return,\n",
    "    \"calculate_portfolio_volatility\": calculate_portfolio_volatility,\n",
    "    \"calculate_sharpe_ratio\": calculate_sharpe_ratio,\n",
    "    \"calculate_beta\": calculate_beta,\n",
    "    \"calculate_capm\": calculate_capm,\n",
    "    \"generate_prompt_with_date\": generate_prompt_with_date,\n",
    "    \"get_company_information\": get_company_information,\n",
    "    \"get_api_stock\": get_api_stock,\n",
    "    \"get_api_income_statement\": get_api_income_statement,\n",
    "    \"get_api_balance_sheet\": get_api_balance_sheet,\n",
    "    \"predict_future_prices\": predict_future_prices,\n",
    "    \"get_api_portfolio\": get_api_portfolio,\n",
    "    \"portfolio_optimize\": portfolio_optimize,\n",
    "}\n",
    "\n",
    "\n",
    "messages = [HumanMessage(\"Hiện nay, một danh mục đầu tư của tôi bao gồm các mã cổ phiếu của sàn VNINDEX như là AAA, A32 và risk free state là 0.01. Tôi nên phân bổ vốn của mình như nào để tối ưu hóa danh mục đầu tư sao cho lợi nhuận được tối đa nhất trong chiến lược đầu tư dài hạn 6 tháng tới như thế nào?\")]\n",
    "# ai_msg = llm_with_tools.invoke(messages)\n",
    "\n",
    "\n",
    "chain = {\"query\": RunnablePassthrough()} | few_shot_prompt | llm_with_tools\n",
    "ai_msg=chain.invoke(\"Hiện nay, một danh mục đầu tư của tôi bao gồm các mã cổ phiếu của sàn VNINDEX như là AAA, A32 và risk free state là 0.01. Tôi nên phân bổ vốn của mình như nào để tối ưu hóa danh mục đầu tư sao cho lợi nhuận được tối đa nhất trong chiến lược đầu tư dài hạn 6 tháng tới như thế nào?\")\n",
    "messages.append(ai_msg)\n",
    "\n",
    "for tool_call in ai_msg.tool_calls:\n",
    "    print(tool_call)\n",
    "    selected_tool = tool_mapping[tool_call[\"name\"].lower()]\n",
    "    print(tool_call[\"args\"])\n",
    "    tool_output = selected_tool.invoke(dict(tool_call[\"args\"]))\n",
    "    print(type(tool_output), tool_output)\n",
    "    messages.append(ToolMessage(tool_output, tool_call_id=tool_call[\"id\"]))\n",
    "\n",
    "messages"
   ]
  },
  {
   "cell_type": "code",
   "execution_count": 12,
   "metadata": {},
   "outputs": [
    {
     "data": {
      "text/plain": [
       "AIMessage(content='Dựa trên dữ liệu lịch sử và dự đoán tương lai của danh mục đầu tư bao gồm cổ phiếu AAA và A32 trên sàn VNINDEX, để tối ưu hóa danh mục đầu tư và đạt được lợi nhuận tối đa trong chiến lược đầu tư dài hạn 6 tháng tới, bạn nên phân bổ vốn theo tỷ lệ 50% cho mỗi loại cổ phiếu.\\n\\nNhư vậy, bạn sẽ đầu tư một nửa vốn vào cổ phiếu AAA và nửa còn lại vào cổ phiếu A32. Điều này giả định rằng mô hình dự đoán là chính xác và cả hai loại cổ phiếu đều được kỳ vọng sẽ có sự đóng góp ngang nhau về lợi nhuận cho danh mục đầu tư của bạn. Tuy nhiên, hãy nhớ rằng dự đoán không phải lúc nào cũng chính xác và đầu tư chứng khoán luôn đi kèm với rủi ro. Do đó, bạn cũng cần xem xét đến các yếu tố khác như thông tin tài chính của công ty, tin tức thị trường và sự biến động của thị trường trước khi đưa ra quyết định cuối cùng.', additional_kwargs={'refusal': None}, response_metadata={'token_usage': {'completion_tokens': 395, 'prompt_tokens': 3599, 'total_tokens': 3994}, 'model_name': 'gpt-4-1106-preview', 'system_fingerprint': None, 'finish_reason': 'stop', 'logprobs': None}, id='run-8a149b43-5825-40f7-8e31-ed0de3dc5896-0', usage_metadata={'input_tokens': 3599, 'output_tokens': 395, 'total_tokens': 3994})"
      ]
     },
     "execution_count": 12,
     "metadata": {},
     "output_type": "execute_result"
    }
   ],
   "source": [
    "chain.invoke(messages)"
   ]
  },
  {
   "cell_type": "markdown",
   "metadata": {},
   "source": [
    "#### Img with RAG"
   ]
  },
  {
   "cell_type": "markdown",
   "metadata": {},
   "source": [
    "1. Img to Text"
   ]
  },
  {
   "cell_type": "code",
   "execution_count": null,
   "metadata": {},
   "outputs": [],
   "source": [
    "def extract_text_with_prompt_from_image(image_url, prompt):\n",
    "    # Send request to Together API using the provided image URL and prompt\n",
    "    response = client.chat.completions.create(\n",
    "        model=\"meta-llama/Llama-3.2-90B-Vision-Instruct-Turbo\",\n",
    "        messages=[\n",
    "            {\n",
    "                \"role\": \"user\",\n",
    "                \"content\": [\n",
    "                    {\n",
    "                        \"type\": \"text\",\n",
    "                        \"text\": prompt if prompt else \"Extract the text from the image\"\n",
    "                    },\n",
    "                    {\n",
    "                        \"type\": \"image_url\",  # Provide the image URL from JSON\n",
    "                        \"image_url\": {\n",
    "                            \"url\": image_url\n",
    "                        }\n",
    "                    }\n",
    "                ]\n",
    "            }\n",
    "        ],\n",
    "        max_tokens=512,\n",
    "        temperature=0.7,\n",
    "        top_p=0.7,\n",
    "        top_k=50,\n",
    "        repetition_penalty=1,\n",
    "        stop=[\"<|eot_id|>\", \"<|eom_id|>\"],\n",
    "    )\n",
    "\n",
    "    return response.choices[0].message.content if response.choices else \"Unable to process the image with the provided prompt.\""
   ]
  },
  {
   "cell_type": "code",
   "execution_count": null,
   "metadata": {},
   "outputs": [],
   "source": [
    "from together import Together\n",
    "api_token = os.getenv(\"API_TOKEN\")\n",
    "\n",
    "# Initialize Together client\n",
    "client = Together(api_key=api_token)"
   ]
  },
  {
   "cell_type": "code",
   "execution_count": null,
   "metadata": {},
   "outputs": [],
   "source": [
    "\n",
    "\n",
    "# URL của hình ảnh\n",
    "img_path=\"https://einvoice.vn/FileUpload/ArticleMaterials/images/v%C3%AD%20d%E1%BB%A5%20v%E1%BB%81%20b%E1%BA%A3n%20th%E1%BB%83%20hi%E1%BB%87n%20c%E1%BB%A7a%20h%C3%B3a%20%C4%91%C6%A1n%20%C4%91i%E1%BB%87n%20t%E1%BB%AD.png\"\n",
    "\n",
    "# Tải hình ảnh từ URL\n",
    "response = requests.get(img_path)\n",
    "img = Image.open(BytesIO(response.content))\n",
    "\n",
    "# Hiển thị hình ảnh\n",
    "plt.imshow(img)\n",
    "plt.axis('off')  # Ẩn các trục\n",
    "plt.show()\n"
   ]
  },
  {
   "cell_type": "code",
   "execution_count": null,
   "metadata": {},
   "outputs": [],
   "source": [
    "extract_text_with_prompt_from_image(image_url=img_path,prompt)"
   ]
  }
 ],
 "metadata": {
  "kernelspec": {
   "display_name": "AI_prj_final",
   "language": "python",
   "name": "python3"
  },
  "language_info": {
   "codemirror_mode": {
    "name": "ipython",
    "version": 3
   },
   "file_extension": ".py",
   "mimetype": "text/x-python",
   "name": "python",
   "nbconvert_exporter": "python",
   "pygments_lexer": "ipython3",
   "version": "3.10.14"
  }
 },
 "nbformat": 4,
 "nbformat_minor": 2
}
