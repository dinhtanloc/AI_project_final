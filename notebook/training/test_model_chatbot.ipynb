{
 "cells": [
  {
   "cell_type": "code",
   "execution_count": 1,
   "metadata": {},
   "outputs": [
    {
     "name": "stdout",
     "output_type": "stream",
     "text": [
      "c:\\Users\\Admin\\Data\\AI_project\\AI_final\n",
      "c:/Users/Admin/Data/AI_project/AI_final\n"
     ]
    }
   ],
   "source": [
    "import sys,os\n",
    "__script_path=os.path.abspath(globals().get('__file__','.'))\n",
    "__script_dir = os.path.dirname(__script_path)\n",
    "root_dir = os.path.abspath(f'{__script_dir}/..')\n",
    "print(root_dir)\n",
    "for lib in [root_dir][::-1]:\n",
    "    if lib in sys.path:\n",
    "        sys.path.remove(lib)\n",
    "    sys.path.insert(0,lib)\n",
    "from libs.common import *\n",
    "from config.config import *"
   ]
  },
  {
   "cell_type": "code",
   "execution_count": 2,
   "metadata": {},
   "outputs": [
    {
     "data": {
      "text/plain": [
       "True"
      ]
     },
     "execution_count": 2,
     "metadata": {},
     "output_type": "execute_result"
    }
   ],
   "source": [
    "load_dotenv(find_dotenv())"
   ]
  },
  {
   "cell_type": "code",
   "execution_count": 3,
   "metadata": {},
   "outputs": [],
   "source": [
    "# llm = ChatVertexAI(model=\"gemini-pro\", api_key= os.getenv('GEMINI_API_KEY'))\n"
   ]
  },
  {
   "cell_type": "code",
   "execution_count": null,
   "metadata": {},
   "outputs": [],
   "source": []
  },
  {
   "cell_type": "markdown",
   "metadata": {},
   "source": [
    "### __1. LLM__"
   ]
  },
  {
   "cell_type": "code",
   "execution_count": 24,
   "metadata": {},
   "outputs": [],
   "source": [
    "llm = ChatOpenAI(\n",
    "    model_name=\"gpt-3.5-turbo\",\n",
    "    openai_api_key=os.getenv('OPEN_API_KEY'))\n",
    "\n"
   ]
  },
  {
   "cell_type": "code",
   "execution_count": 5,
   "metadata": {},
   "outputs": [
    {
     "data": {
      "text/plain": [
       "'c:/Users/Admin/Data/AI_project/AI_final/data'"
      ]
     },
     "execution_count": 5,
     "metadata": {},
     "output_type": "execute_result"
    }
   ],
   "source": [
    "data_dir"
   ]
  },
  {
   "cell_type": "markdown",
   "metadata": {},
   "source": [
    "### __2. Rag with SQL__"
   ]
  },
  {
   "cell_type": "code",
   "execution_count": 10,
   "metadata": {},
   "outputs": [
    {
     "name": "stdout",
     "output_type": "stream",
     "text": [
      "Đã đẩy dữ liệu từ events.xlsx vào bảng events thành công!\n",
      "Đã đẩy dữ liệu từ finance_ratio.xlsx vào bảng finance_ratio thành công!\n",
      "Đã đẩy dữ liệu từ news.xlsx vào bảng news thành công!\n",
      "Đã đẩy dữ liệu từ profiles_vie.xlsx vào bảng profiles_vie thành công!\n"
     ]
    }
   ],
   "source": [
    "file_paths=['events.xlsx', 'finance_ratio.xlsx','news.xlsx', 'profiles_vie.xlsx']\n",
    "engine=create_engine(os.getenv('POSTGRESQL_DBMS_KEY'))\n",
    "for file_path in file_paths:\n",
    "    df=pd.read_excel(f'{data_dir}/{file_path}')\n",
    "    table_name = os.path.splitext(os.path.basename(file_path))[0]    \n",
    "    df.to_sql(table_name, engine, if_exists='replace', index=False)\n",
    "    \n",
    "    print(f\"Đã đẩy dữ liệu từ {file_path} vào bảng {table_name} thành công!\")\n"
   ]
  },
  {
   "cell_type": "code",
   "execution_count": 11,
   "metadata": {},
   "outputs": [
    {
     "data": {
      "text/plain": [
       "<langchain_community.utilities.sql_database.SQLDatabase at 0x18469e529e0>"
      ]
     },
     "execution_count": 11,
     "metadata": {},
     "output_type": "execute_result"
    }
   ],
   "source": [
    "db = SQLDatabase.from_uri(os.getenv('POSTGRESQL_DBMS_KEY'))\n",
    "db"
   ]
  },
  {
   "cell_type": "code",
   "execution_count": 12,
   "metadata": {},
   "outputs": [
    {
     "name": "stdout",
     "output_type": "stream",
     "text": [
      "postgresql\n",
      "['events', 'finance_ratio', 'news', 'profiles_vie']\n"
     ]
    }
   ],
   "source": [
    "print(db.dialect)\n",
    "print(db.get_usable_table_names())"
   ]
  },
  {
   "cell_type": "code",
   "execution_count": 25,
   "metadata": {},
   "outputs": [
    {
     "name": "stdout",
     "output_type": "stream",
     "text": [
      "SELECT \"event_name\", \"event_desc\" \n",
      "FROM events \n",
      "WHERE ticker = 'A32' AND event_desc ILIKE '%2024%'\n",
      "LIMIT 5;\n"
     ]
    }
   ],
   "source": [
    "chain = create_sql_query_chain(llm, db)\n",
    "response = chain.invoke({\"question\": \"Năm 2024 có những sự kiện gì nổi bật đối với công ty mã A32\"})\n",
    "print(response)"
   ]
  },
  {
   "cell_type": "code",
   "execution_count": 26,
   "metadata": {},
   "outputs": [
    {
     "data": {
      "text/plain": [
       "\"[('A32 - Trả cổ tức Đợt 2 năm 2023 bằng tiền 2500 đồng/cổ phiếu', 'Công ty Cổ phần 32 (A32) trả cổ tức Đợt 2 năm 2023 bằng tiền:_x000D_ Ngày giao dịch không hưởng quyền: 16/08/2024_x000D_ Ngày đăng ký cuối cùng: 19/08/2024_x000D_ Thời gian thanh toán: 06/09/2024_x000D_ Tỷ lệ thực hiện: 25%/mệnh giá (2500 đồng/cổ phiếu). '), ('A32 - Tổ chức ĐHĐCĐ thường niên 2024', 'Công ty Cổ phần 32 (A32) tổ chức ĐHĐCĐ thường niên năm 2024:_x000D_ Ngày giao dịch không hưởng quyền: 29/03/2024_x000D_ Ngày đăng ký cuối cùng: 01/04/2024_x000D_ Thời gian thực hiện: 02/08/2024 08:00_x000D_ Địa điểm thực hiện: Công ty cổ phần 32- 170 Quang Trung, Phường 10, Quận Gò Vấp, Thành...'), ('A32 - Trả cổ tức Đợt 1 năm 2023 bằng tiền 1000 đồng/cổ phiếu', 'Công ty Cổ phần 32 (A32) trả cổ tức Đợt 1 năm 2023 bằng tiền:_x000D_ Ngày giao dịch không hưởng quyền: 21/12/2023_x000D_ Ngày đăng ký cuối cùng: 22/12/2023_x000D_ Thời gian thanh toán: 15/01/2024_x000D_ Tỷ lệ thực hiện: 10%/mệnh giá (1000 đồng/cổ phiếu). ')]\""
      ]
     },
     "execution_count": 26,
     "metadata": {},
     "output_type": "execute_result"
    }
   ],
   "source": [
    "db.run(response)"
   ]
  },
  {
   "cell_type": "code",
   "execution_count": 27,
   "metadata": {},
   "outputs": [
    {
     "name": "stdout",
     "output_type": "stream",
     "text": [
      "You are a PostgreSQL expert. Given an input question, first create a syntactically correct PostgreSQL query to run, then look at the results of the query and return the answer to the input question.\n",
      "Unless the user specifies in the question a specific number of examples to obtain, query for at most 5 results using the LIMIT clause as per PostgreSQL. You can order the results to return the most informative data in the database.\n",
      "Never query for all columns from a table. You must query only the columns that are needed to answer the question. Wrap each column name in double quotes (\") to denote them as delimited identifiers.\n",
      "Pay attention to use only the column names you can see in the tables below. Be careful to not query for columns that do not exist. Also, pay attention to which column is in which table.\n",
      "Pay attention to use CURRENT_DATE function to get the current date, if the question involves \"today\".\n",
      "\n",
      "Use the following format:\n",
      "\n",
      "Question: Question here\n",
      "SQLQuery: SQL Query to run\n",
      "SQLResult: Result of the SQLQuery\n",
      "Answer: Final answer here\n",
      "\n",
      "Only use the following tables:\n",
      "\u001b[33;1m\u001b[1;3m{table_info}\u001b[0m\n",
      "\n",
      "Question: \u001b[33;1m\u001b[1;3m{input}\u001b[0m\n"
     ]
    }
   ],
   "source": [
    "chain.get_prompts()[0].pretty_print()\n"
   ]
  },
  {
   "cell_type": "code",
   "execution_count": 28,
   "metadata": {},
   "outputs": [
    {
     "data": {
      "text/plain": [
       "\"[('A32 - Trả cổ tức Đợt 2 năm 2023 bằng tiền 2500 đồng/cổ phiếu', 'Công ty Cổ phần 32 (A32) trả cổ tức Đợt 2 năm 2023 bằng tiền:_x000D_ Ngày giao dịch không hưởng quyền: 16/08/2024_x000D_ Ngày đăng ký cuối cùng: 19/08/2024_x000D_ Thời gian thanh toán: 06/09/2024_x000D_ Tỷ lệ thực hiện: 25%/mệnh giá (2500 đồng/cổ phiếu). '), ('A32 - Tổ chức ĐHĐCĐ thường niên 2024', 'Công ty Cổ phần 32 (A32) tổ chức ĐHĐCĐ thường niên năm 2024:_x000D_ Ngày giao dịch không hưởng quyền: 29/03/2024_x000D_ Ngày đăng ký cuối cùng: 01/04/2024_x000D_ Thời gian thực hiện: 02/08/2024 08:00_x000D_ Địa điểm thực hiện: Công ty cổ phần 32- 170 Quang Trung, Phường 10, Quận Gò Vấp, Thành...'), ('A32 - Trả cổ tức Đợt 1 năm 2023 bằng tiền 1000 đồng/cổ phiếu', 'Công ty Cổ phần 32 (A32) trả cổ tức Đợt 1 năm 2023 bằng tiền:_x000D_ Ngày giao dịch không hưởng quyền: 21/12/2023_x000D_ Ngày đăng ký cuối cùng: 22/12/2023_x000D_ Thời gian thanh toán: 15/01/2024_x000D_ Tỷ lệ thực hiện: 10%/mệnh giá (1000 đồng/cổ phiếu). ')]\""
      ]
     },
     "execution_count": 28,
     "metadata": {},
     "output_type": "execute_result"
    }
   ],
   "source": [
    "from langchain_community.tools.sql_database.tool import QuerySQLDataBaseTool\n",
    "\n",
    "write_query = create_sql_query_chain(llm, db)\n",
    "execute_query = QuerySQLDataBaseTool(db=db)\n",
    "\n",
    "chain = write_query | execute_query\n",
    "\n",
    "chain.invoke({\"question\": \"Năm 2024 có những sự kiện gì nổi bật đối với công ty mã A32\"})"
   ]
  },
  {
   "cell_type": "code",
   "execution_count": 29,
   "metadata": {},
   "outputs": [
    {
     "data": {
      "text/plain": [
       "'Năm 2024, công ty mã A32 có các sự kiện nổi bật sau:\\n1. Trả cổ tức Đợt 2 năm 2023 bằng tiền 2500 đồng/cổ phiếu. Ngày giao dịch không hưởng quyền: 16/08/2024. Ngày đăng ký cuối cùng: 19/08/2024. Thời gian thanh toán: 06/09/2024. Tỷ lệ thực hiện: 25%/mệnh giá (2500 đồng/cổ phiếu).\\n2. Tổ chức ĐHĐCĐ thường niên 2024. Ngày giao dịch không hưởng quyền: 29/03/2024. Ngày đăng ký cuối cùng: 01/04/2024. Thời gian thực hiện: 02/08/2024 08:00. Địa điểm thực hiện: Công ty cổ phần 32- 170 Quang Trung, Phường 10, Quận Gò Vấp, Thành...\\n3. Trả cổ tức Đợt 1 năm 2023 bằng tiền 1000 đồng/cổ phiếu. Ngày giao dịch không hưởng quyền: 21/12/2023. Ngày đăng ký cuối cùng: 22/12/2023. Thời gian thanh toán: 15/01/2024. Tỷ lệ thực hiện: 10%/mệnh giá (1000 đồng/cổ phiếu).'"
      ]
     },
     "execution_count": 29,
     "metadata": {},
     "output_type": "execute_result"
    }
   ],
   "source": [
    "from operator import itemgetter\n",
    "from langchain_core.output_parsers import StrOutputParser\n",
    "from langchain_core.prompts import PromptTemplate\n",
    "from langchain_core.runnables import RunnablePassthrough\n",
    "\n",
    "answer_prompt = PromptTemplate.from_template(\n",
    "    \"\"\"Given the following user question, corresponding SQL query, and SQL result, answer the user question.\n",
    "\n",
    "Question: {question}\n",
    "SQL Query: {query}\n",
    "SQL Result: {result}\n",
    "Answer: \"\"\"\n",
    ")\n",
    "\n",
    "answer = answer_prompt | llm | StrOutputParser()\n",
    "chain = (\n",
    "    RunnablePassthrough.assign(query=write_query).assign(\n",
    "        result=itemgetter(\"query\") | execute_query\n",
    "    )\n",
    "    | answer\n",
    ")\n",
    "\n",
    "chain.invoke({\"question\": \"Năm 2024 có những sự kiện gì nổi bật đối với công ty mã A32\"})"
   ]
  },
  {
   "cell_type": "markdown",
   "metadata": {},
   "source": [
    "### __3. Function calling__"
   ]
  },
  {
   "cell_type": "code",
   "execution_count": 6,
   "metadata": {},
   "outputs": [],
   "source": [
    "###EUT\n",
    "@tool\n",
    "def calculate_utility(outcome: float, risk_aversion: float) -> float:\n",
    "    \"\"\"\n",
    "    Tính toán độ hữu ích dựa trên kết quả và hệ số ngại rủi ro.\n",
    "\n",
    "    Args:\n",
    "        outcome: Kết quả tài chính cần đánh giá.\n",
    "        risk_aversion: Hệ số ngại rủi ro.\n",
    "    \"\"\"\n",
    "    if risk_aversion != 1:\n",
    "        return (outcome ** (1 - risk_aversion)) / (1 - risk_aversion)\n",
    "    else:\n",
    "        return np.log(outcome)\n",
    "@tool\n",
    "def calculate_expected_utility(probabilities: List[float], utilities: List[float]) -> float:\n",
    "    \"\"\"\n",
    "    Tính toán độ hữu ích kỳ vọng.\n",
    "\n",
    "    Args:\n",
    "        probabilities:Danh sách xác suất liên quan đến các kết quả khác nhau.\n",
    "        utilities: Danh sách độ hữu ích tương ứng với các kết quả.\n",
    "\n",
    "    Raises:\n",
    "        ValueError:Nếu độ dài của probabilities và utilities không khớp nhau.\n",
    "    \"\"\"\n",
    "    if len(probabilities) != len(utilities):\n",
    "        raise ValueError(\"Probabilities and utilities must have the same length.\")\n",
    "    \n",
    "    expected_utility = np.dot(probabilities, utilities)\n",
    "    return expected_utility\n",
    "\n",
    "\n",
    "# @tool\n",
    "# def porfolio_optimize_EUT():\n",
    "#     pass\n",
    "\n",
    "###MVP\n",
    "@tool\n",
    "def calculate_portfolio_return(returns: List[float], weights: List[float]) -> float:\n",
    "    \"\"\"\n",
    "    Tính toán lợi nhuận hàng năm của danh mục đầu tư.\n",
    "\n",
    "    Args:\n",
    "        returns: Danh sách lợi nhuận lịch sử của các tài sản trong danh mục đầu tư.\n",
    "        weights: Danh sách tỷ trọng đại diện cho phần trăm của từng tài sản trong danh mục.\n",
    "    \"\"\"\n",
    "    return np.dot(returns.mean(), weights) * 252\n",
    "\n",
    "@tool\n",
    "def calculate_portfolio_volatility(returns: List[float], weights: List[float]) -> float:\n",
    "    \"\"\"\n",
    "    Tính toán biến động hàng năm của danh mục đầu tư.\n",
    "\n",
    "    Args:\n",
    "        returns:  Danh sách lợi nhuận lịch sử của các tài sản trong danh mục đầu tư.\n",
    "        weights:  Danh sách tỷ trọng đại diện cho phần trăm của từng tài sản trong danh mục.\n",
    "    \"\"\"\n",
    "    return np.dot(weights, np.dot(returns.cov() * 252, weights)) ** 0.5  # Annualized volatility\n",
    "\n",
    "@tool\n",
    "def calculate_sharpe_ratio(returns: List[float], weights: List[float], risk_free_rate: float) -> float:\n",
    "    \"\"\"\n",
    "    Tính toán tỷ lệ Sharpe của danh mục đầu tư.\n",
    "\n",
    "    Args:\n",
    "        returns: Danh sách lợi nhuận lịch sử của các tài sản trong danh mục đầu tư.\n",
    "        weights: Danh sách tỷ trọng đại diện cho phần trăm của từng tài sản trong danh mục.\n",
    "        risk_free_rate: Tỷ lệ lợi nhuận không rủi ro.\n",
    "    \"\"\"\n",
    "    port_return = calculate_portfolio_return(returns, weights)\n",
    "    port_volatility = calculate_portfolio_volatility(returns, weights)\n",
    "    sharpe_ratio = (port_return - risk_free_rate) / port_volatility\n",
    "    return sharpe_ratio\n",
    "\n",
    "@tool\n",
    "def portfolio_optimize(returns, sharpe_ratio_or_variance=True):\n",
    "    \"\"\"\n",
    "    Tối ưu hóa danh mục đầu tư dựa trên tối ưu lợi nhuận hoặc giảm thiểu rủi ro sau khi biết được tình hình doanh mục đầu tư được dự đoán trong tương lai trước đó.\n",
    "\n",
    "    Args:\n",
    "        returns: Thông tin tình hình danh mục đầu tư sau khi dùng hàm predict_future_prices .\n",
    "        sharpe_ratio_or_variance: Một giá trị boolean chỉ định có tối ưu hóa cho tỷ lệ Sharpe (True) hay biến động (False).\n",
    "    \"\"\"\n",
    "    returns = json.loads(returns)\n",
    "    returns = pd.DataFrame([returns])\n",
    "    # returns=returns[returns.columns[1:]]\n",
    "    # print(returns)\n",
    "    num_assets = len(returns.columns)\n",
    "    # print('haha',num_assets)\n",
    "    init_guess = num_assets * [1. / num_assets]\n",
    "    bounds = tuple((0, 1) for asset in range(num_assets))\n",
    "    constraints = ({'type': 'eq', 'fun': lambda x: np.sum(x) - 1})\n",
    "    \n",
    "    if sharpe_ratio_or_variance:\n",
    "        result = minimize(lambda x: -calculate_sharpe_ratio(x, returns), init_guess, method='SLSQP', bounds=bounds, constraints=constraints)\n",
    "    else:\n",
    "        result = minimize(lambda x: calculate_portfolio_volatility(x, returns), init_guess, method='SLSQP', bounds=bounds, constraints=constraints)\n",
    "    \n",
    "    # Chuyển đổi tỷ trọng tối ưu thành từ điển với tên cổ phiếu\n",
    "    optimal_weights = dict(zip(returns.columns, result.x))\n",
    "    \n",
    "    return optimal_weights\n",
    "\n",
    "### CAPM\n",
    "@tool\n",
    "def calculate_beta(asset_returns: List[float], market_returns: List[float]) -> float:\n",
    "    \"\"\"\n",
    "    Tính toán hệ số beta của một tài sản.\n",
    "\n",
    "    Args:\n",
    "        asset_returns: Danh sách lợi nhuận của tài sản.\n",
    "        market_returns: Danh sách lợi nhuận của thị trường.\n",
    "    \"\"\"\n",
    "    covariance_matrix = np.cov(asset_returns, market_returns)\n",
    "    beta = covariance_matrix[0, 1] / covariance_matrix[1, 1]\n",
    "    return beta\n",
    "\n",
    "@tool\n",
    "def calculate_capm(risk_free_rate: float, beta: float, market_return: float) -> float:\n",
    "    \"\"\"\n",
    "    Tính toán lợi nhuận kỳ vọng của một tài sản bằng công thức CAPM.\n",
    "\n",
    "    Args:\n",
    "        risk_free_rate: Tỷ lệ lợi nhuận không rủi ro.\n",
    "        beta: Hệ số beta của tài sản.\n",
    "        market_return: Lợi nhuận kỳ vọng của thị trường.\n",
    "    \"\"\"\n",
    "    expected_return = risk_free_rate + beta * (market_return - risk_free_rate)\n",
    "    return expected_return\n",
    "\n",
    "\n",
    "#### Make prediction\n",
    "@tool\n",
    "def predict_future_prices(api_portfolio,symbols, n):\n",
    "    \"\"\"\n",
    "    Dự đoán giá danh mục đầu tư trong n tháng tới dựa trên dữ liệu đầu vào. Phù hợp cho việc dự báo tình hình của danh mục \n",
    "\n",
    "    Args:\n",
    "        api_portfolio: dữ liệu về một danh mục đầu tư gồm nhiều mã cổ phiếu khác nhau trong một khoảng thời gian\n",
    "        symbols: Danh sách các mã cổ phiếu khác nhau thuộc danh mục đầu tư đó\n",
    "        n: Số tháng từ ngày hiện tại để dự đoán.\n",
    "    \"\"\"\n",
    "    data = api_portfolio\n",
    "\n",
    "    try:\n",
    "        df = pd.DataFrame(eval(data))\n",
    "    except (ValueError, SyntaxError) as e:\n",
    "        print(f\"Error creating DataFrame: {e}\")\n",
    "        return\n",
    "    \n",
    "    if df.empty or not {'idx_time', 'AAA', 'A32'}.issubset(df.columns):\n",
    "        print(\"Data không hợp lệ. Đảm bảo dữ liệu chứa các cột 'idx_time', 'AAA', và 'A32'.\")\n",
    "        return\n",
    "    \n",
    "    df['idx_time'] = pd.to_datetime(df['idx_time'] + '-01', format='%Y-%m-%d')\n",
    "    \n",
    "    df['days'] = (df['idx_time'] - df['idx_time'].min()).dt.days\n",
    "    \n",
    "    df = df.dropna(subset=symbols)\n",
    "    \n",
    "    degree = 2\n",
    "    coeffs = {}\n",
    "\n",
    "    for symbol in symbols:\n",
    "        coeffs[symbol] = np.polyfit(df['days'], df[symbol], degree)\n",
    "    \n",
    "    future_dates = pd.date_range(start=pd.to_datetime('today').replace(day=1), periods=n, freq='MS')\n",
    "    future_days = (future_dates - df['idx_time'].min()).days\n",
    "    \n",
    "    predictions = {}\n",
    "    for symbol in symbols:\n",
    "        predictions[symbol] = np.polyval(coeffs[symbol], future_days)\n",
    "    \n",
    "    future_df = pd.DataFrame({\n",
    "        'idx_time': future_dates.strftime('%Y-%m'),  \n",
    "        **predictions\n",
    "    })\n",
    "    \n",
    "    last_prediction = future_df.iloc[-1]\n",
    "    \n",
    "    result = {symbol: last_prediction[symbol] for symbol in symbols}\n",
    "    \n",
    "    return json.dumps(result, default=str)\n",
    "\n",
    "####Get API\n",
    "@tool\n",
    "def generate_prompt_with_date(prompt):\n",
    "    \"\"\"\n",
    "    Tạo một prompt có kèm theo ngày hiện tại.\n",
    "\n",
    "    Args:\n",
    "        prompt: Chuỗi prompt ban đầu.\n",
    "    \"\"\"\n",
    "    from datetime import datetime\n",
    "    current_date = datetime.now().strftime(\"%Y-%m-%d\")\n",
    "    full_prompt = f\"{prompt} Today's date is {current_date}.\"\n",
    "    return full_prompt\n",
    "\n",
    "@tool\n",
    "def get_company_information(symbol):\n",
    "    \"\"\"\n",
    "    Lấy thông tin công ty bao gồm tổng quan, hồ sơ, cổ đông, công ty con, và cán bộ. Phù hợp cho việc điều tra thông tin cụ thể của một doanh nghiệp trước khi đưa ra quyết định\n",
    "\n",
    "    Args:\n",
    "        symbol: Mã cổ phiếu của công ty.\n",
    "    \"\"\"\n",
    "    company = Vnstock().stock(symbol=symbol, source='TCBS').company\n",
    "    \n",
    "    try:\n",
    "        overview = company.overview()\n",
    "        profile = company.profile()  # Assuming profile is another method; adjust if incorrect\n",
    "        shareholders = company.shareholders()\n",
    "        subsidiaries = company.subsidiaries()\n",
    "        officers = company.officers()\n",
    "        \n",
    "        result = {\n",
    "            \"overview\": overview,\n",
    "            \"profile\": profile,\n",
    "            \"shareholders\": shareholders,\n",
    "            \"subsidiaries\": subsidiaries,\n",
    "            \"officers\": officers\n",
    "        }\n",
    "    except Exception as e:\n",
    "        result = {\"error\": str(e)}\n",
    "    \n",
    "    return json.dumps(result)\n",
    "\n",
    "\n",
    "@tool\n",
    "def get_api_stock(symbols, startday, endday):\n",
    "    \"\"\"\n",
    "    Lấy dữ liệu cổ phiếu cho một mã và khoảng thời gian cụ thể.\n",
    "\n",
    "    Args:\n",
    "        symbols: Mã cổ phiếu cần lấy dữ liệu.\n",
    "        startday: Ngày bắt đầu của khoảng thời gian.\n",
    "        endday: Ngày kết thúc của khoảng thời gian.\n",
    "    \"\"\"\n",
    "\n",
    "\n",
    "    stock = Vnstock().stock(symbol=symbols, source='TCBS')\n",
    "    \n",
    "    try:\n",
    "        startday = pd.to_datetime(startday).strftime('%Y-%m-%d')\n",
    "        endday = pd.to_datetime(endday).strftime('%Y-%m-%d')\n",
    "        df = stock.quote.history(start=startday, end=endday, interval='1D')\n",
    "        \n",
    "        if not df.empty:\n",
    "            df = df.map(lambda x: x.isoformat() if isinstance(x, (pd.Timestamp, pd.Timestamp)) else x)\n",
    "            result = df.to_dict(orient='records')\n",
    "        else:\n",
    "            result = {\"error\": \"Có lẽ ngày này ngân hàng không làm việc, do đây có thể là thứ bảy chủ nhật hoặc ngày lễ\"}\n",
    "        if startday==endday:\n",
    "            result = [record for record in result if record['time'].startswith(startday)]\n",
    "            if result.empty:\n",
    "                result={\"error\": \"Có lẽ ngày này ngân hàng không làm việc, do đây có thể là thứ bảy chủ nhật hoặc ngày lễ\"}\n",
    "\n",
    "    \n",
    "    except Exception as e:\n",
    "        result = {\"error\": \"Có lẽ ngày này ngân hàng không làm việc, do đây có thể là thứ bảy chủ nhật hoặc ngày lễ\"}\n",
    "\n",
    "    \n",
    "    return json.dumps(result, ensure_ascii=False)\n",
    "\n",
    "\n",
    "@tool\n",
    "def get_api_income_statement(symbols):\n",
    "    \"\"\"\n",
    "    Truy xuất bảng báo cáo tài chính theo năm của từng doanh nghiệp cụ thể\n",
    "\n",
    "    Args:\n",
    "        symbols: Mã doanh nghiệp được niêm yết trên sàn chuwnsg khoán.\n",
    "    \"\"\"\n",
    "    stock = Vnstock().stock(symbol=symbols, source='TCBS')\n",
    "    try:\n",
    "        df = stock.finance.income_statement(period='year', lang='en')\n",
    "        if not df.empty:\n",
    "            result = df.to_dict(orient='records')\n",
    "        else:\n",
    "            result = {\"error\": \"No data found for the given range\"}\n",
    "    except Exception as e:\n",
    "        result = {\"error\": str(e)}\n",
    "    \n",
    "    return json.dumps(result)\n",
    "\n",
    "@tool\n",
    "def get_api_portfolio(symbols):\n",
    "    \"\"\"\n",
    "    Lấy dữ liệu về một danh mục đầu tư gồm nhiều mã cổ phiếu khác nhau trong một khoảng thời gian.\n",
    "\n",
    "    Args:\n",
    "        symbols: Một danh sách các mã cổ phiếu trong danh mục đầu tư.\n",
    "    \"\"\"\n",
    "    endday = datetime.now()\n",
    "    startday = endday - timedelta(days=365)\n",
    "    \n",
    "    data = pd.DataFrame()\n",
    "    errors = []  # To store error messages for each symbol\n",
    "    for symbol in symbols:\n",
    "        stock = Vnstock().stock(symbol=symbol, source='TCBS')\n",
    "        try:\n",
    "            df = stock.quote.history(\n",
    "                start=startday.strftime('%Y-%m-%d'), \n",
    "                end=endday.strftime('%Y-%m-%d'), \n",
    "                interval='1D'\n",
    "            )\n",
    "            if df.empty:\n",
    "                errors.append(f\"No data found for symbol {symbol}\")\n",
    "                continue\n",
    "            \n",
    "            df['time'] = pd.to_datetime(df['time'])\n",
    "            df = df.sort_values(by='time', ascending=False)\n",
    "            df['month'] = df['time'].dt.month\n",
    "            df['year'] = df['time'].dt.year\n",
    "            df['idx_time'] = df['time'].dt.to_period('M')\n",
    "            \n",
    "            df = df.drop_duplicates(subset=['idx_time'])\n",
    "            df.set_index('idx_time', inplace=True)\n",
    "            df = df[['close']]\n",
    "            df.columns = [symbol]\n",
    "            data = pd.concat([data, df], axis=1)\n",
    "        except Exception as e:\n",
    "            errors.append(f\"Error for symbol {symbol}: {str(e)}\")\n",
    "\n",
    "    if data.empty:\n",
    "        return json.dumps({\"error\": \"No data found for the given symbols and range\"}, default=str)\n",
    "    \n",
    "    data = data[~data.index.duplicated(keep='first')]\n",
    "    data = data.groupby(data.index).mean()\n",
    "    rets = np.log(data / data.shift(1)).dropna()\n",
    "    \n",
    "    result = rets.reset_index().to_dict(orient='records')\n",
    "\n",
    "    # Convert the result and errors into a string for ToolMessage compatibility\n",
    "    output = {\"result\": result, \"errors\": errors} if errors else result\n",
    "    return json.dumps(output, default=str)\n",
    "\n",
    "@tool\n",
    "def get_api_balance_sheet(symbols):\n",
    "    \"\"\"\n",
    "    Truy xuất bảng cân đối kế toán của từng doanh nghiệp cụ thể\n",
    "\n",
    "    Args:\n",
    "        symbols: Mã doanh nghiệp được định giá trên sàn chứng khoán\n",
    "    \"\"\"\n",
    "    stock = Vnstock().stock(symbol=symbols, source='TCBS')\n",
    "    try:\n",
    "        df = stock.finance.balance_sheet(period='year', lang='en')\n",
    "        if not df.empty:\n",
    "            result = df.to_dict(orient='records')\n",
    "        else:\n",
    "            result = {\"error\": \"No data found for the given range\"}\n",
    "    except Exception as e:\n",
    "        result = {\"error\": str(e)}\n",
    "    \n",
    "    return json.dumps(result)\n",
    "\n",
    "\n",
    "tools = [\n",
    "    calculate_utility,\n",
    "    calculate_expected_utility,\n",
    "    calculate_portfolio_return,\n",
    "    calculate_portfolio_volatility,\n",
    "    calculate_sharpe_ratio,\n",
    "    calculate_beta,\n",
    "    calculate_capm,\n",
    "    generate_prompt_with_date,\n",
    "    get_company_information,\n",
    "    get_api_stock,\n",
    "    get_api_portfolio,\n",
    "    get_api_income_statement,\n",
    "    get_api_balance_sheet,\n",
    "    predict_future_prices,\n",
    "    portfolio_optimize,\n",
    "]\n",
    "\n",
    "llm_with_tools = llm.bind_tools(tools)\n"
   ]
  },
  {
   "cell_type": "code",
   "execution_count": 6,
   "metadata": {},
   "outputs": [
    {
     "name": "stdout",
     "output_type": "stream",
     "text": [
      "{'name': 'get_api_portfolio', 'args': {'symbols': ['AAM', 'XPH', 'YEG', 'AAT']}, 'id': 'call_C5MbS9tIpwuEl2GFSLlB6rsL', 'type': 'tool_call'}\n",
      "{'symbols': ['AAM', 'XPH', 'YEG', 'AAT']}\n",
      "<class 'str'> [{\"idx_time\": \"2023-09\", \"AAM\": -0.028170876966696335, \"XPH\": -0.12188981760903676, \"YEG\": -0.07626702301041496, \"AAT\": -0.09531017980432477}, {\"idx_time\": \"2023-10\", \"AAM\": -0.13543797089510426, \"XPH\": 0.0, \"YEG\": 0.39871809456156987, \"AAT\": -0.1423614720727948}, {\"idx_time\": \"2023-11\", \"AAM\": 0.07457522549140307, \"XPH\": 0.07145896398214485, \"YEG\": -0.03744279748377614, \"AAT\": 0.09913273752197481}, {\"idx_time\": \"2023-12\", \"AAM\": -0.05727749690052405, \"XPH\": 0.033901551675681416, \"YEG\": 0.19048758834015708, \"AAT\": -0.016194685919980606}, {\"idx_time\": \"2024-01\", \"AAM\": -0.047183738121158246, \"XPH\": -0.10536051565782628, \"YEG\": -0.15692076470107397, \"AAT\": 0.06899287148695142}, {\"idx_time\": \"2024-02\", \"AAM\": 0.047183738121158225, \"XPH\": -0.1823215567939547, \"YEG\": 0.0474022388945839, \"AAT\": 0.011363758650315003}, {\"idx_time\": \"2024-03\", \"AAM\": -0.003220614700042172, \"XPH\": 0.5840760855055834, \"YEG\": -0.03294415571935415, \"AAT\": -0.011363758650314982}, {\"idx_time\": \"2024-04\", \"AAM\": -0.043963123421116176, \"XPH\": -0.19053362235432517, \"YEG\": -0.14052778579761804, \"AAT\": -0.13434805253107868}, {\"idx_time\": \"2024-05\", \"AAM\": -0.06378973787533009, \"XPH\": -0.03509131981127006, \"YEG\": 0.010953012019197145, \"AAT\": -0.010953012019197093}, {\"idx_time\": \"2024-06\", \"AAM\": -0.01204833851617448, \"XPH\": 0.009273636785329033, \"YEG\": 0.0021762794225954484, \"AAT\": -0.08981867781064956}, {\"idx_time\": \"2024-07\", \"AAM\": -0.04969966855227265, \"XPH\": -0.06351340572232586, \"YEG\": 0.032088314551500664, \"AAT\": -0.15616073075528267}, {\"idx_time\": \"2024-08\", \"AAM\": -0.0726391836399716, \"XPH\": 0.17958557697507987, \"YEG\": -0.023430251808385996, \"AAT\": 0.12681877247126722}]\n"
     ]
    },
    {
     "data": {
      "text/plain": [
       "[HumanMessage(content='Bạn là một chuyên gia chơi chứng khoán trong lĩnh vực kinh tế đầu tư tại thị trường chứng khoán Việt Nam. Hôm nay là ngày 2024-08-28 Sử dụng các tool được cung cấp như một ví dụ để đưa ra những lời khuyên hữu ích để người chơi mới tại Việt Nam lựa chọn và tối ưu hóa danh mục đầu tư, đầu tư chứng khoán thành công. Dự đoán một danh mục đầu tư của tôi bao gồm các mã cổ phiếu của sàn VNINDEX như là AAM, XPH, YEG, AAT trong 6 tháng tới và tối ưu hóa danh mục đầu tư để cho tôi biết tôi nên phân bổ vốn như thế nào.\\n'),\n",
       " AIMessage(content='', additional_kwargs={'tool_calls': [{'id': 'call_C5MbS9tIpwuEl2GFSLlB6rsL', 'function': {'arguments': '{\"symbols\":[\"AAM\",\"XPH\",\"YEG\",\"AAT\"]}', 'name': 'get_api_portfolio'}, 'type': 'function'}], 'refusal': None}, response_metadata={'token_usage': {'completion_tokens': 25, 'prompt_tokens': 1922, 'total_tokens': 1947}, 'model_name': 'gpt-4-1106-preview', 'system_fingerprint': None, 'finish_reason': 'tool_calls', 'logprobs': None}, id='run-4641d2f1-97f7-41b8-924a-bd57c7779159-0', tool_calls=[{'name': 'get_api_portfolio', 'args': {'symbols': ['AAM', 'XPH', 'YEG', 'AAT']}, 'id': 'call_C5MbS9tIpwuEl2GFSLlB6rsL', 'type': 'tool_call'}], usage_metadata={'input_tokens': 1922, 'output_tokens': 25, 'total_tokens': 1947}),\n",
       " ToolMessage(content='[{\"idx_time\": \"2023-09\", \"AAM\": -0.028170876966696335, \"XPH\": -0.12188981760903676, \"YEG\": -0.07626702301041496, \"AAT\": -0.09531017980432477}, {\"idx_time\": \"2023-10\", \"AAM\": -0.13543797089510426, \"XPH\": 0.0, \"YEG\": 0.39871809456156987, \"AAT\": -0.1423614720727948}, {\"idx_time\": \"2023-11\", \"AAM\": 0.07457522549140307, \"XPH\": 0.07145896398214485, \"YEG\": -0.03744279748377614, \"AAT\": 0.09913273752197481}, {\"idx_time\": \"2023-12\", \"AAM\": -0.05727749690052405, \"XPH\": 0.033901551675681416, \"YEG\": 0.19048758834015708, \"AAT\": -0.016194685919980606}, {\"idx_time\": \"2024-01\", \"AAM\": -0.047183738121158246, \"XPH\": -0.10536051565782628, \"YEG\": -0.15692076470107397, \"AAT\": 0.06899287148695142}, {\"idx_time\": \"2024-02\", \"AAM\": 0.047183738121158225, \"XPH\": -0.1823215567939547, \"YEG\": 0.0474022388945839, \"AAT\": 0.011363758650315003}, {\"idx_time\": \"2024-03\", \"AAM\": -0.003220614700042172, \"XPH\": 0.5840760855055834, \"YEG\": -0.03294415571935415, \"AAT\": -0.011363758650314982}, {\"idx_time\": \"2024-04\", \"AAM\": -0.043963123421116176, \"XPH\": -0.19053362235432517, \"YEG\": -0.14052778579761804, \"AAT\": -0.13434805253107868}, {\"idx_time\": \"2024-05\", \"AAM\": -0.06378973787533009, \"XPH\": -0.03509131981127006, \"YEG\": 0.010953012019197145, \"AAT\": -0.010953012019197093}, {\"idx_time\": \"2024-06\", \"AAM\": -0.01204833851617448, \"XPH\": 0.009273636785329033, \"YEG\": 0.0021762794225954484, \"AAT\": -0.08981867781064956}, {\"idx_time\": \"2024-07\", \"AAM\": -0.04969966855227265, \"XPH\": -0.06351340572232586, \"YEG\": 0.032088314551500664, \"AAT\": -0.15616073075528267}, {\"idx_time\": \"2024-08\", \"AAM\": -0.0726391836399716, \"XPH\": 0.17958557697507987, \"YEG\": -0.023430251808385996, \"AAT\": 0.12681877247126722}]', tool_call_id='call_C5MbS9tIpwuEl2GFSLlB6rsL')]"
      ]
     },
     "execution_count": 6,
     "metadata": {},
     "output_type": "execute_result"
    }
   ],
   "source": [
    "query = f\"\"\"Bạn là một chuyên gia chơi chứng khoán trong lĩnh vực kinh tế đầu tư tại thị trường chứng khoán Việt Nam. Hôm nay là ngày {datetime.now().strftime('%Y-%m-%d')} Sử dụng các tool được cung cấp như một ví dụ để đưa ra những lời khuyên hữu ích để người chơi mới tại Việt Nam lựa chọn và tối ưu hóa danh mục đầu tư, đầu tư chứng khoán thành công. Dự đoán một danh mục đầu tư của tôi bao gồm các mã cổ phiếu của sàn VNINDEX như là AAM, XPH, YEG, AAT trong 6 tháng tới và tối ưu hóa danh mục đầu tư để cho tôi biết tôi nên phân bổ vốn như thế nào.\n",
    "\"\"\"\n",
    "llm = ChatOpenAI(model=\"gpt-4-1106-preview\" , api_key=os.getenv(\"OPEN_API_KEY\"))\n",
    "\n",
    "\n",
    "messages = [HumanMessage(query)]\n",
    "ai_msg = llm_with_tools.invoke(messages)\n",
    "messages.append(ai_msg)\n",
    "\n",
    "tool_mapping = {\n",
    "    \"calculate_utility\": calculate_utility,\n",
    "    \"calculate_expected_utility\": calculate_expected_utility,\n",
    "    \"calculate_portfolio_return\": calculate_portfolio_return,\n",
    "    \"calculate_portfolio_volatility\": calculate_portfolio_volatility,\n",
    "    \"calculate_sharpe_ratio\": calculate_sharpe_ratio,\n",
    "    \"calculate_beta\": calculate_beta,\n",
    "    \"calculate_capm\": calculate_capm,\n",
    "    \"generate_prompt_with_date\": generate_prompt_with_date,\n",
    "    \"get_company_information\": get_company_information,\n",
    "    \"get_api_stock\": get_api_stock,\n",
    "    \"get_api_income_statement\": get_api_income_statement,\n",
    "    \"get_api_balance_sheet\": get_api_balance_sheet,\n",
    "    \"predict_future_prices\": predict_future_prices,\n",
    "    \"get_api_portfolio\": get_api_portfolio,\n",
    "    \"portfolio_optimize\": portfolio_optimize,\n",
    "}\n",
    "\n",
    "\n",
    "for tool_call in ai_msg.tool_calls:\n",
    "    print(tool_call)\n",
    "    selected_tool = tool_mapping[tool_call[\"name\"].lower()]\n",
    "    print(tool_call[\"args\"])\n",
    "    tool_output = selected_tool.invoke(dict(tool_call[\"args\"]))\n",
    "    print(type(tool_output), tool_output)\n",
    "    messages.append(ToolMessage(tool_output, tool_call_id=tool_call[\"id\"]))\n",
    "\n",
    "messages"
   ]
  },
  {
   "cell_type": "code",
   "execution_count": null,
   "metadata": {},
   "outputs": [],
   "source": [
    "# selected_tool"
   ]
  },
  {
   "cell_type": "code",
   "execution_count": null,
   "metadata": {},
   "outputs": [
    {
     "data": {
      "text/plain": [
       "AIMessage(content='', additional_kwargs={'tool_calls': [{'id': 'call_RrTzeYq3oepLuFvfYvKjqkWa', 'function': {'arguments': '{\"api_portfolio\":[{\"idx_time\":\"2023-09\",\"AAM\":-0.028170876966696335,\"XPH\":-0.12188981760903676,\"YEG\":-0.07626702301041496,\"AAT\":-0.09531017980432477},{\"idx_time\":\"2023-10\",\"AAM\":-0.13543797089510426,\"XPH\":0.0,\"YEG\":0.39871809456156987,\"AAT\":-0.1423614720727948},{\"idx_time\":\"2023-11\",\"AAM\":0.07457522549140307,\"XPH\":0.07145896398214485,\"YEG\":-0.03744279748377614,\"AAT\":0.09913273752197481},{\"idx_time\":\"2023-12\",\"AAM\":-0.05727749690052405,\"XPH\":0.033901551675681416,\"YEG\":0.19048758834015708,\"AAT\":-0.016194685919980606},{\"idx_time\":\"2024-01\",\"AAM\":-0.047183738121158246,\"XPH\":-0.10536051565782628,\"YEG\":-0.15692076470107397,\"AAT\":0.06899287148695142},{\"idx_time\":\"2024-02\",\"AAM\":0.047183738121158225,\"XPH\":-0.1823215567939547,\"YEG\":0.0474022388945839,\"AAT\":0.011363758650315003},{\"idx_time\":\"2024-03\",\"AAM\":-0.003220614700042172,\"XPH\":0.5840760855055834,\"YEG\":-0.03294415571935415,\"AAT\":-0.011363758650314982},{\"idx_time\":\"2024-04\",\"AAM\":-0.043963123421116176,\"XPH\":-0.19053362235432517,\"YEG\":-0.14052778579761804,\"AAT\":-0.13434805253107868},{\"idx_time\":\"2024-05\",\"AAM\":-0.06378973787533009,\"XPH\":-0.03509131981127006,\"YEG\":0.010953012019197145,\"AAT\":-0.010953012019197093},{\"idx_time\":\"2024-06\",\"AAM\":-0.01204833851617448,\"XPH\":0.009273636785329033,\"YEG\":0.0021762794225954484,\"AAT\":-0.08981867781064956},{\"idx_time\":\"2024-07\",\"AAM\":-0.04969966855227265,\"XPH\":-0.06351340572232586,\"YEG\":0.032088314551500664,\"AAT\":-0.15616073075528267},{\"idx_time\":\"2024-08\",\"AAM\":-0.0726391836399716,\"XPH\":0.17958557697507987,\"YEG\":-0.023430251808385996,\"AAT\":0.12681877247126722}],\"symbols\":[\"AAM\",\"XPH\",\"YEG\",\"AAT\"],\"n\":6}', 'name': 'predict_future_prices'}, 'type': 'function'}], 'refusal': None}, response_metadata={'token_usage': {'completion_tokens': 701, 'prompt_tokens': 2735, 'total_tokens': 3436}, 'model_name': 'gpt-4-1106-preview', 'system_fingerprint': None, 'finish_reason': 'tool_calls', 'logprobs': None}, id='run-c9f3dab2-a135-4abb-82e3-5db1efa265dd-0', tool_calls=[{'name': 'predict_future_prices', 'args': {'api_portfolio': [{'idx_time': '2023-09', 'AAM': -0.028170876966696335, 'XPH': -0.12188981760903676, 'YEG': -0.07626702301041496, 'AAT': -0.09531017980432477}, {'idx_time': '2023-10', 'AAM': -0.13543797089510426, 'XPH': 0.0, 'YEG': 0.39871809456156987, 'AAT': -0.1423614720727948}, {'idx_time': '2023-11', 'AAM': 0.07457522549140307, 'XPH': 0.07145896398214485, 'YEG': -0.03744279748377614, 'AAT': 0.09913273752197481}, {'idx_time': '2023-12', 'AAM': -0.05727749690052405, 'XPH': 0.033901551675681416, 'YEG': 0.19048758834015708, 'AAT': -0.016194685919980606}, {'idx_time': '2024-01', 'AAM': -0.047183738121158246, 'XPH': -0.10536051565782628, 'YEG': -0.15692076470107397, 'AAT': 0.06899287148695142}, {'idx_time': '2024-02', 'AAM': 0.047183738121158225, 'XPH': -0.1823215567939547, 'YEG': 0.0474022388945839, 'AAT': 0.011363758650315003}, {'idx_time': '2024-03', 'AAM': -0.003220614700042172, 'XPH': 0.5840760855055834, 'YEG': -0.03294415571935415, 'AAT': -0.011363758650314982}, {'idx_time': '2024-04', 'AAM': -0.043963123421116176, 'XPH': -0.19053362235432517, 'YEG': -0.14052778579761804, 'AAT': -0.13434805253107868}, {'idx_time': '2024-05', 'AAM': -0.06378973787533009, 'XPH': -0.03509131981127006, 'YEG': 0.010953012019197145, 'AAT': -0.010953012019197093}, {'idx_time': '2024-06', 'AAM': -0.01204833851617448, 'XPH': 0.009273636785329033, 'YEG': 0.0021762794225954484, 'AAT': -0.08981867781064956}, {'idx_time': '2024-07', 'AAM': -0.04969966855227265, 'XPH': -0.06351340572232586, 'YEG': 0.032088314551500664, 'AAT': -0.15616073075528267}, {'idx_time': '2024-08', 'AAM': -0.0726391836399716, 'XPH': 0.17958557697507987, 'YEG': -0.023430251808385996, 'AAT': 0.12681877247126722}], 'symbols': ['AAM', 'XPH', 'YEG', 'AAT'], 'n': 6}, 'id': 'call_RrTzeYq3oepLuFvfYvKjqkWa', 'type': 'tool_call'}], usage_metadata={'input_tokens': 2735, 'output_tokens': 701, 'total_tokens': 3436})"
      ]
     },
     "execution_count": 9,
     "metadata": {},
     "output_type": "execute_result"
    }
   ],
   "source": [
    "llm_with_tools.invoke(messages)\n"
   ]
  },
  {
   "cell_type": "markdown",
   "metadata": {},
   "source": [
    "#### Few-short prompting"
   ]
  },
  {
   "cell_type": "code",
   "execution_count": 7,
   "metadata": {},
   "outputs": [],
   "source": [
    "examples = [\n",
    "    # HumanMessage(content=\"Mã cổ phiếu của công ty AAA ngày hôm nay đang ở mức bao nhiêu\", name=\"example_user\"),\n",
    "    # AIMessage(content=\"\", name=\"example_assistant\", tool_calls=[{\"name\": \"symbols\", \"args\": {\"symbols\": \"AAA\", \"startday\": datetime.now().strftime('%Y-%m-%d'), \"endday\":datetime.now().strftime('%Y-%m-%d')}, \"id\": \"1\"}]),\n",
    "    # ToolMessage(content='Có lẽ ngày này ngân hàng không làm việc, do đây có thể là thứ bảy chủ nhật hoặc ngày lễ', tool_call_id=\"1\"),\n",
    "    # AIMessage(content=\"Thị trường chứng khoán ngày giao dịch hôm nay hiện tại không hoạt động, nên chúng tôi không thể kiểm tra hoặc phân tích dữ liệu cho bạn được, nếu có thể bạn vui lòng quay lại vào ngày mai\", name=\"example_assistant\"),\n",
    "    \n",
    "    HumanMessage(content=\"Hiện nay, một danh mục đầu tư của tôi bao gồm các mã cổ phiếu của sàn VNINDEX như là AAA, A32 và risk free state là 0.01. Tôi nên phân bổ vốn của mình như nào để tối ưu hóa danh mục đầu tư sao cho lợi nhuận được tối đa nhất trong chiến lược đầu tư dài hạn 6 tháng tới như thế nào?\", name=\"example_user1\"),\n",
    "    AIMessage(content=\"\", name=\"example_assistant1\", tool_calls=[{\"name\": \"get_api_portfolio\", \"args\": {\"symbols\": ['AAA', 'A32'], \"n\": 6}, \"id\": \"1\"}]),\n",
    "    ToolMessage(content='[{\"idx_time\": \"2023-09\", \"AAA\": -0.05144315555216674, \"A32\": 0.0884884106784579}, {\"idx_time\": \"2023-10\", \"AAA\": -0.14542232114660703, \"A32\": -0.0963458098223358}, {\"idx_time\": \"2023-11\", \"AAA\": 0.022231032778677464, \"A32\": 0.03697967078334708}, {\"idx_time\": \"2023-12\", \"AAA\": 0.03516170679547651, \"A32\": 0.031034356695593013}, {\"idx_time\": \"2024-01\", \"AAA\": 0.03523565930437369, \"A32\": 0.0753295051569786}, {\"idx_time\": \"2024-02\", \"AAA\": 0.11900386259347105, \"A32\": 0.3768284474520035}, {\"idx_time\": \"2024-03\", \"AAA\": -0.003568951221208245, \"A32\": -0.2758677123166095}, {\"idx_time\": \"2024-04\", \"AAA\": -0.043706234983660705, \"A32\": 0.08584764872201436}, {\"idx_time\": \"2024-05\", \"AAA\": 0.06614997833044046, \"A32\": -0.17193531125845293}, {\"idx_time\": \"2024-06\", \"AAA\": 0.027219402108996846, \"A32\": 0.04964901833003382}, {\"idx_time\": \"2024-07\", \"AAA\": 0.023138676922500895, \"A32\": -0.003968290420115657}, {\"idx_time\": \"2024-08\", \"AAA\": -0.1058755282870188, \"A32\": 0.05798319264886414}]', tool_call_id=\"1\"),\n",
    "    AIMessage(content=\"\", name=\"example_assistant1\", tool_calls=[{\"name\": \"predict_future_prices\", \"args\": {\"symbols\": ['AAM', 'XPH', 'YEG', 'AAT'], \"n\": 6}, \"id\": \"2\"}]),\n",
    "    ToolMessage(content='{\"AAA\": -0.4000549560521612, \"A32\": -0.020533696676693372}', tool_call_id=\"2\"),\n",
    "    AIMessage(content=\"\", name=\"example_assistant1\", tool_calls=[{\"name\": \"portfolio_optimize\", \"args\": {\"returns\": {\"AAA\": -0.4000549560521612, \"A32\": -0.020533696676693372}, \"sharpe_ratio_or_variance\": True,\"risk_free_rate\":0.01}, \"id\": \"3\"}]),\n",
    "    ToolMessage(content=\"{'AAA': 0.5, 'A32': 0.5}\", tool_call_id=\"3\"),\n",
    "    AIMessage(content=\"Có thể thấy, sau khi chạy mô hình dự đoán của hệ thống, tình hình cổ phiếu sẽ có sự biến động khá cao. Như vậy dựa vào kết quả dự đoán tình hình từng mã sau 6 tháng tới, bạn cần phân bố đều vốn cá nhân 50% ứng với mỗi loại cổ phiếu, để có được lợi nhuận cao nhất\", name=\"example_assistant1\"),\n",
    "\n",
    "    # HumanMessage(content=\"Hiện nay, một danh mục đầu tư của tôi bao gồm các mã cổ phiếu của sàn VNINDEX như là AAM, XPH, YEG, AAT. Tôi nên phân bổ vốn của mình như nào để tối ưu hóa danh mục đầu tư sao giảm thiểu rủi ro nhất trong chiến lược đầu tư dài hạn 6 tháng tới như thế nào?\", name=\"example_user2\"),\n",
    "    # AIMessage(content=\"\", name=\"example_assistant2\", tool_calls=[{\"name\": \"predict_future_prices\", \"args\": {\"symbols\": ['AAM', 'XPH', 'YEG', 'AAT'], \"n\": 6}, \"id\": \"1\"}]),\n",
    "    # ToolMessage(content=json.dumps({'AAM': 123, 'XPH': 123, 'YEG': 12, 'AAT': 134}), tool_call_id=\"1\"),\n",
    "    # AIMessage(content=\"\", name=\"example_assistant2\", tool_calls=[{\"name\": \"portfolio_optimize\", \"args\": {\"return\": {'AAM': 123, 'XPH': 123, 'YEG': 12, 'AAT': 134}, \"sharpe_ratio_or_variance\": False}, \"id\": \"2\"}]),\n",
    "    # ToolMessage(content=json.dumps({'AAM': 0.15, 'XPH': -0.05, 'YEG': 0.45, 'AAT': 0.45}), tool_call_id=\"2\"),\n",
    "    # AIMessage(content=\"Có thể thấy, sau khi chạy mô hình dự đoán của hệ thống, tình hình cổ phiếu sẽ có sự biến động khá cao. Như vậy dựa vào kết quả dự đoán tình hình từng mã sau 6 tháng tới, bạn cần phân bố đều vốn cá nhân lần lượt là, đầu tiên, rút 5% vốn hiện tại khỏi XPH, sử dụng 15% vốn vào AAM, 45% vốn cho cả YEG và AAT ứng với mỗi loại cổ phiếu, để có được lợi nhuận cao nhất\", name=\"example_assistant2\"),\n",
    "\n",
    "    # HumanMessage(content=\"Đánh giá công ty mã AAA có hoạt động ổn định hay không trong suốt 6 tháng qua, check lại sự kiện kèm tin tức để đánh giá mức độ của công ty.\", name=\"example_user3\"),\n",
    "    # AIMessage(content=\"Để đánh giá công ty, tôi sẽ kiểm tra các chỉ số tài chính chính của công ty trong 6 tháng qua và xem xét các sự kiện quan trọng, cũng như tin tức ảnh hưởng đến công ty. Hãy chờ trong giây lát...\"),\n",
    "    # AIMessage(content=\"\", name=\"example_assistant3\", tool_calls=[{\"name\": \"get_company_information\", \"args\": {\"symbol\": \"AAA\"}, \"id\": \"1\"}]),\n",
    "    # ToolMessage(content=\"Thông tin công ty mã AAA và các sự kiện quan trọng đã được thu thập.\", tool_call_id=\"1\"),\n",
    "    # AIMessage(content=\"Sau khi kiểm tra, tôi thấy rằng công ty mã AAA có tình hình hoạt động tương đối ổn định trong 6 tháng qua, tuy nhiên, có một số sự kiện và tin tức quan trọng cần lưu ý...\", name=\"example_assistant3\"),\n",
    "]\n"
   ]
  },
  {
   "cell_type": "code",
   "execution_count": 11,
   "metadata": {},
   "outputs": [
    {
     "name": "stdout",
     "output_type": "stream",
     "text": [
      "{'name': 'get_api_portfolio', 'args': {'symbols': ['AAA', 'A32']}, 'id': 'call_zZzCbEUSl49ZuBJFwGCHMreG', 'type': 'tool_call'}\n",
      "{'symbols': ['AAA', 'A32']}\n",
      "<class 'str'> [{\"idx_time\": \"2023-09\", \"AAA\": -0.14523988188942288, \"A32\": 0.08596840011665516}, {\"idx_time\": \"2023-10\", \"AAA\": -0.1548647105609153, \"A32\": -0.11660209920534634}, {\"idx_time\": \"2023-11\", \"AAA\": 0.12553072244720934, \"A32\": -0.006851949152552592}, {\"idx_time\": \"2023-12\", \"AAA\": 0.04104247737860604, \"A32\": 0.06649420875558121}, {\"idx_time\": \"2024-01\", \"AAA\": 0.06652068234156243, \"A32\": 0.3123921189458654}, {\"idx_time\": \"2024-02\", \"AAA\": 0.11226730187108121, \"A32\": -0.18724999963294467}, {\"idx_time\": \"2024-03\", \"AAA\": -0.008888947417246152, \"A32\": 0.13985791627033278}, {\"idx_time\": \"2024-04\", \"AAA\": -0.13557429425432288, \"A32\": -0.028648879083708646}, {\"idx_time\": \"2024-05\", \"AAA\": 0.1919883835344143, \"A32\": -0.01851113657302951}, {\"idx_time\": \"2024-06\", \"AAA\": -0.06989743961737832, \"A32\": -0.06379145906794437}, {\"idx_time\": \"2024-07\", \"AAA\": 0.052875752047947776, \"A32\": -0.0027611614413281683}, {\"idx_time\": \"2024-08\", \"AAA\": -0.13783247452391328, \"A32\": 0.04944827541398133}]\n"
     ]
    },
    {
     "data": {
      "text/plain": [
       "[HumanMessage(content='Hiện nay, một danh mục đầu tư của tôi bao gồm các mã cổ phiếu của sàn VNINDEX như là AAA, A32 và risk free state là 0.01. Tôi nên phân bổ vốn của mình như nào để tối ưu hóa danh mục đầu tư sao cho lợi nhuận được tối đa nhất trong chiến lược đầu tư dài hạn 6 tháng tới như thế nào?'),\n",
       " AIMessage(content='', additional_kwargs={'tool_calls': [{'id': 'call_zZzCbEUSl49ZuBJFwGCHMreG', 'function': {'arguments': '{\"symbols\":[\"AAA\",\"A32\"]}', 'name': 'get_api_portfolio'}, 'type': 'function'}], 'refusal': None}, response_metadata={'token_usage': {'completion_tokens': 18, 'prompt_tokens': 2869, 'total_tokens': 2887}, 'model_name': 'gpt-4-1106-preview', 'system_fingerprint': None, 'finish_reason': 'tool_calls', 'logprobs': None}, id='run-d0e959fc-6f78-4239-a3e4-6f8df8a30f61-0', tool_calls=[{'name': 'get_api_portfolio', 'args': {'symbols': ['AAA', 'A32']}, 'id': 'call_zZzCbEUSl49ZuBJFwGCHMreG', 'type': 'tool_call'}], usage_metadata={'input_tokens': 2869, 'output_tokens': 18, 'total_tokens': 2887}),\n",
       " ToolMessage(content='[{\"idx_time\": \"2023-09\", \"AAA\": -0.14523988188942288, \"A32\": 0.08596840011665516}, {\"idx_time\": \"2023-10\", \"AAA\": -0.1548647105609153, \"A32\": -0.11660209920534634}, {\"idx_time\": \"2023-11\", \"AAA\": 0.12553072244720934, \"A32\": -0.006851949152552592}, {\"idx_time\": \"2023-12\", \"AAA\": 0.04104247737860604, \"A32\": 0.06649420875558121}, {\"idx_time\": \"2024-01\", \"AAA\": 0.06652068234156243, \"A32\": 0.3123921189458654}, {\"idx_time\": \"2024-02\", \"AAA\": 0.11226730187108121, \"A32\": -0.18724999963294467}, {\"idx_time\": \"2024-03\", \"AAA\": -0.008888947417246152, \"A32\": 0.13985791627033278}, {\"idx_time\": \"2024-04\", \"AAA\": -0.13557429425432288, \"A32\": -0.028648879083708646}, {\"idx_time\": \"2024-05\", \"AAA\": 0.1919883835344143, \"A32\": -0.01851113657302951}, {\"idx_time\": \"2024-06\", \"AAA\": -0.06989743961737832, \"A32\": -0.06379145906794437}, {\"idx_time\": \"2024-07\", \"AAA\": 0.052875752047947776, \"A32\": -0.0027611614413281683}, {\"idx_time\": \"2024-08\", \"AAA\": -0.13783247452391328, \"A32\": 0.04944827541398133}]', tool_call_id='call_zZzCbEUSl49ZuBJFwGCHMreG')]"
      ]
     },
     "execution_count": 11,
     "metadata": {},
     "output_type": "execute_result"
    }
   ],
   "source": [
    "# llm = ChatOpenAI(model=\"gpt-4-1106-preview\" , api_key=os.getenv(\"OPEN_API_KEY\"))\n",
    "# llm_with_tools = llm.bind_tools(tools)\n",
    "\n",
    "system=f\"\"\"Bạn là một chuyên gia chơi chứng khoán trong lĩnh vực kinh tế đầu tư tại thị trường chứng khoán Việt Nam. Hôm nay là ngày {datetime.now().strftime('%Y-%m-%d')}. Sử dụng các tool được cung cấp như một ví dụ để đưa ra những lời khuyên hữu ích để người chơi mới tại Việt Nam lựa chọn và tối ưu hóa danh mục đầu tư, đầu tư chứng khoán thành công\n",
    "\"\"\"\n",
    "few_shot_prompt = ChatPromptTemplate.from_messages(\n",
    "    [\n",
    "        (\"system\", system),\n",
    "        *examples,\n",
    "        (\"human\", \"{query}\"),\n",
    "    ]\n",
    "    \n",
    ")\n",
    "\n",
    "tool_mapping = {\n",
    "    \"calculate_utility\": calculate_utility,\n",
    "    \"calculate_expected_utility\": calculate_expected_utility,\n",
    "    \"calculate_portfolio_return\": calculate_portfolio_return,\n",
    "    \"calculate_portfolio_volatility\": calculate_portfolio_volatility,\n",
    "    \"calculate_sharpe_ratio\": calculate_sharpe_ratio,\n",
    "    \"calculate_beta\": calculate_beta,\n",
    "    \"calculate_capm\": calculate_capm,\n",
    "    \"generate_prompt_with_date\": generate_prompt_with_date,\n",
    "    \"get_company_information\": get_company_information,\n",
    "    \"get_api_stock\": get_api_stock,\n",
    "    \"get_api_income_statement\": get_api_income_statement,\n",
    "    \"get_api_balance_sheet\": get_api_balance_sheet,\n",
    "    \"predict_future_prices\": predict_future_prices,\n",
    "    \"get_api_portfolio\": get_api_portfolio,\n",
    "    \"portfolio_optimize\": portfolio_optimize,\n",
    "}\n",
    "\n",
    "\n",
    "messages = [HumanMessage(\"Hiện nay, một danh mục đầu tư của tôi bao gồm các mã cổ phiếu của sàn VNINDEX như là AAA, A32 và risk free state là 0.01. Tôi nên phân bổ vốn của mình như nào để tối ưu hóa danh mục đầu tư sao cho lợi nhuận được tối đa nhất trong chiến lược đầu tư dài hạn 6 tháng tới như thế nào?\")]\n",
    "# ai_msg = llm_with_tools.invoke(messages)\n",
    "\n",
    "\n",
    "chain = {\"query\": RunnablePassthrough()} | few_shot_prompt | llm_with_tools\n",
    "ai_msg=chain.invoke(\"Hiện nay, một danh mục đầu tư của tôi bao gồm các mã cổ phiếu của sàn VNINDEX như là AAA, A32 và risk free state là 0.01. Tôi nên phân bổ vốn của mình như nào để tối ưu hóa danh mục đầu tư sao cho lợi nhuận được tối đa nhất trong chiến lược đầu tư dài hạn 6 tháng tới như thế nào?\")\n",
    "messages.append(ai_msg)\n",
    "\n",
    "for tool_call in ai_msg.tool_calls:\n",
    "    print(tool_call)\n",
    "    selected_tool = tool_mapping[tool_call[\"name\"].lower()]\n",
    "    print(tool_call[\"args\"])\n",
    "    tool_output = selected_tool.invoke(dict(tool_call[\"args\"]))\n",
    "    print(type(tool_output), tool_output)\n",
    "    messages.append(ToolMessage(tool_output, tool_call_id=tool_call[\"id\"]))\n",
    "\n",
    "messages"
   ]
  },
  {
   "cell_type": "code",
   "execution_count": 12,
   "metadata": {},
   "outputs": [
    {
     "data": {
      "text/plain": [
       "AIMessage(content='Dựa trên dữ liệu lịch sử và dự đoán tương lai của danh mục đầu tư bao gồm cổ phiếu AAA và A32 trên sàn VNINDEX, để tối ưu hóa danh mục đầu tư và đạt được lợi nhuận tối đa trong chiến lược đầu tư dài hạn 6 tháng tới, bạn nên phân bổ vốn theo tỷ lệ 50% cho mỗi loại cổ phiếu.\\n\\nNhư vậy, bạn sẽ đầu tư một nửa vốn vào cổ phiếu AAA và nửa còn lại vào cổ phiếu A32. Điều này giả định rằng mô hình dự đoán là chính xác và cả hai loại cổ phiếu đều được kỳ vọng sẽ có sự đóng góp ngang nhau về lợi nhuận cho danh mục đầu tư của bạn. Tuy nhiên, hãy nhớ rằng dự đoán không phải lúc nào cũng chính xác và đầu tư chứng khoán luôn đi kèm với rủi ro. Do đó, bạn cũng cần xem xét đến các yếu tố khác như thông tin tài chính của công ty, tin tức thị trường và sự biến động của thị trường trước khi đưa ra quyết định cuối cùng.', additional_kwargs={'refusal': None}, response_metadata={'token_usage': {'completion_tokens': 395, 'prompt_tokens': 3599, 'total_tokens': 3994}, 'model_name': 'gpt-4-1106-preview', 'system_fingerprint': None, 'finish_reason': 'stop', 'logprobs': None}, id='run-8a149b43-5825-40f7-8e31-ed0de3dc5896-0', usage_metadata={'input_tokens': 3599, 'output_tokens': 395, 'total_tokens': 3994})"
      ]
     },
     "execution_count": 12,
     "metadata": {},
     "output_type": "execute_result"
    }
   ],
   "source": [
    "chain.invoke(messages)"
   ]
  },
  {
   "cell_type": "code",
   "execution_count": null,
   "metadata": {},
   "outputs": [
    {
     "data": {
      "text/plain": [
       "AIMessage(content='', additional_kwargs={'tool_calls': [{'id': 'call_2X7adKf7S8MzmpVbR37co6I9', 'function': {'arguments': '{\"symbols\":\"AAA\",\"startday\":\"2024-08-28\",\"endday\":\"2024-08-28\"}', 'name': 'get_api_stock'}, 'type': 'function'}], 'refusal': None}, response_metadata={'token_usage': {'completion_tokens': 35, 'prompt_tokens': 2278, 'total_tokens': 2313}, 'model_name': 'gpt-4-1106-preview', 'system_fingerprint': None, 'finish_reason': 'tool_calls', 'logprobs': None}, id='run-3828f296-176e-434a-b8ad-4df4061a863c-0', tool_calls=[{'name': 'get_api_stock', 'args': {'symbols': 'AAA', 'startday': '2024-08-28', 'endday': '2024-08-28'}, 'id': 'call_2X7adKf7S8MzmpVbR37co6I9', 'type': 'tool_call'}], usage_metadata={'input_tokens': 2278, 'output_tokens': 35, 'total_tokens': 2313})"
      ]
     },
     "execution_count": 13,
     "metadata": {},
     "output_type": "execute_result"
    }
   ],
   "source": [
    "chain.invoke(\"tình hình hiện tại cổ phiếu AAA nay giá bao nhiêu\")"
   ]
  },
  {
   "cell_type": "code",
   "execution_count": 32,
   "metadata": {},
   "outputs": [
    {
     "ename": "TypeError",
     "evalue": "unhashable type: 'dict'",
     "output_type": "error",
     "traceback": [
      "\u001b[1;31m---------------------------------------------------------------------------\u001b[0m",
      "\u001b[1;31mTypeError\u001b[0m                                 Traceback (most recent call last)",
      "Cell \u001b[1;32mIn[32], line 8\u001b[0m\n\u001b[0;32m      1\u001b[0m \u001b[38;5;28;01mfrom\u001b[39;00m \u001b[38;5;21;01mlangchain\u001b[39;00m \u001b[38;5;28;01mimport\u001b[39;00m PromptTemplate, FewShotPromptTemplate\n\u001b[0;32m      3\u001b[0m examples \u001b[38;5;241m=\u001b[39m [\n\u001b[0;32m      4\u001b[0m     \u001b[38;5;66;03m# Ví dụ cho người dùng hỏi về tối ưu hóa danh mục đầu tư\u001b[39;00m\n\u001b[0;32m      5\u001b[0m     {\n\u001b[0;32m      6\u001b[0m         \u001b[38;5;124m\"\u001b[39m\u001b[38;5;124mcommand\u001b[39m\u001b[38;5;124m\"\u001b[39m: \u001b[38;5;124m\"\u001b[39m\u001b[38;5;124mHiện nay, một danh mục đầu tư của tôi bao gồm các mã cổ phiếu của sàn VNINDEX như là AAM, XPH, YEG, AAT. Tôi nên phân bổ vốn của mình như nào để tối ưu hóa danh mục đầu tư sao cho lợi nhuận được tối đa nhất trong chiến lược đầu tư dài hạn 6 tháng tới như thế nào?\u001b[39m\u001b[38;5;124m\"\u001b[39m,\n\u001b[0;32m      7\u001b[0m         \u001b[38;5;124m\"\u001b[39m\u001b[38;5;124massistant\u001b[39m\u001b[38;5;124m\"\u001b[39m: [\n\u001b[1;32m----> 8\u001b[0m             {\u001b[38;5;124m\"\u001b[39m\u001b[38;5;124mget_api_portfolio\u001b[39m\u001b[38;5;124m\"\u001b[39m, {\u001b[38;5;124m\"\u001b[39m\u001b[38;5;124msymbols\u001b[39m\u001b[38;5;124m\"\u001b[39m: [\u001b[38;5;124m'\u001b[39m\u001b[38;5;124mAAM\u001b[39m\u001b[38;5;124m'\u001b[39m, \u001b[38;5;124m'\u001b[39m\u001b[38;5;124mXPH\u001b[39m\u001b[38;5;124m'\u001b[39m, \u001b[38;5;124m'\u001b[39m\u001b[38;5;124mYEG\u001b[39m\u001b[38;5;124m'\u001b[39m, \u001b[38;5;124m'\u001b[39m\u001b[38;5;124mAAT\u001b[39m\u001b[38;5;124m'\u001b[39m]}},\n\u001b[0;32m      9\u001b[0m             {\u001b[38;5;124m\"\u001b[39m\u001b[38;5;124mpredict_future_prices\u001b[39m\u001b[38;5;124m\"\u001b[39m, {\u001b[38;5;124m\"\u001b[39m\u001b[38;5;124mapi_portfolio\u001b[39m\u001b[38;5;124m\"\u001b[39m:\u001b[38;5;124m'\u001b[39m\u001b[38;5;124m[\u001b[39m\u001b[38;5;124m{\u001b[39m\u001b[38;5;124m\"\u001b[39m\u001b[38;5;124midx_time\u001b[39m\u001b[38;5;124m\"\u001b[39m\u001b[38;5;124m: \u001b[39m\u001b[38;5;124m\"\u001b[39m\u001b[38;5;124m2023-09\u001b[39m\u001b[38;5;124m\"\u001b[39m\u001b[38;5;124m, \u001b[39m\u001b[38;5;124m\"\u001b[39m\u001b[38;5;124mAAA\u001b[39m\u001b[38;5;124m\"\u001b[39m\u001b[38;5;124m: -0.05144315555216674, \u001b[39m\u001b[38;5;124m\"\u001b[39m\u001b[38;5;124mA32\u001b[39m\u001b[38;5;124m\"\u001b[39m\u001b[38;5;124m: 0.0884884106784579}, \u001b[39m\u001b[38;5;124m{\u001b[39m\u001b[38;5;124m\"\u001b[39m\u001b[38;5;124midx_time\u001b[39m\u001b[38;5;124m\"\u001b[39m\u001b[38;5;124m: \u001b[39m\u001b[38;5;124m\"\u001b[39m\u001b[38;5;124m2023-10\u001b[39m\u001b[38;5;124m\"\u001b[39m\u001b[38;5;124m, \u001b[39m\u001b[38;5;124m\"\u001b[39m\u001b[38;5;124mAAA\u001b[39m\u001b[38;5;124m\"\u001b[39m\u001b[38;5;124m: -0.14542232114660703, \u001b[39m\u001b[38;5;124m\"\u001b[39m\u001b[38;5;124mA32\u001b[39m\u001b[38;5;124m\"\u001b[39m\u001b[38;5;124m: -0.0963458098223358}, \u001b[39m\u001b[38;5;124m{\u001b[39m\u001b[38;5;124m\"\u001b[39m\u001b[38;5;124midx_time\u001b[39m\u001b[38;5;124m\"\u001b[39m\u001b[38;5;124m: \u001b[39m\u001b[38;5;124m\"\u001b[39m\u001b[38;5;124m2023-11\u001b[39m\u001b[38;5;124m\"\u001b[39m\u001b[38;5;124m, \u001b[39m\u001b[38;5;124m\"\u001b[39m\u001b[38;5;124mAAA\u001b[39m\u001b[38;5;124m\"\u001b[39m\u001b[38;5;124m: 0.022231032778677464, \u001b[39m\u001b[38;5;124m\"\u001b[39m\u001b[38;5;124mA32\u001b[39m\u001b[38;5;124m\"\u001b[39m\u001b[38;5;124m: 0.03697967078334708}, \u001b[39m\u001b[38;5;124m{\u001b[39m\u001b[38;5;124m\"\u001b[39m\u001b[38;5;124midx_time\u001b[39m\u001b[38;5;124m\"\u001b[39m\u001b[38;5;124m: \u001b[39m\u001b[38;5;124m\"\u001b[39m\u001b[38;5;124m2023-12\u001b[39m\u001b[38;5;124m\"\u001b[39m\u001b[38;5;124m, \u001b[39m\u001b[38;5;124m\"\u001b[39m\u001b[38;5;124mAAA\u001b[39m\u001b[38;5;124m\"\u001b[39m\u001b[38;5;124m: 0.03516170679547651, \u001b[39m\u001b[38;5;124m\"\u001b[39m\u001b[38;5;124mA32\u001b[39m\u001b[38;5;124m\"\u001b[39m\u001b[38;5;124m: 0.031034356695593013}, \u001b[39m\u001b[38;5;124m{\u001b[39m\u001b[38;5;124m\"\u001b[39m\u001b[38;5;124midx_time\u001b[39m\u001b[38;5;124m\"\u001b[39m\u001b[38;5;124m: \u001b[39m\u001b[38;5;124m\"\u001b[39m\u001b[38;5;124m2024-01\u001b[39m\u001b[38;5;124m\"\u001b[39m\u001b[38;5;124m, \u001b[39m\u001b[38;5;124m\"\u001b[39m\u001b[38;5;124mAAA\u001b[39m\u001b[38;5;124m\"\u001b[39m\u001b[38;5;124m: 0.03523565930437369, \u001b[39m\u001b[38;5;124m\"\u001b[39m\u001b[38;5;124mA32\u001b[39m\u001b[38;5;124m\"\u001b[39m\u001b[38;5;124m: 0.0753295051569786}, \u001b[39m\u001b[38;5;124m{\u001b[39m\u001b[38;5;124m\"\u001b[39m\u001b[38;5;124midx_time\u001b[39m\u001b[38;5;124m\"\u001b[39m\u001b[38;5;124m: \u001b[39m\u001b[38;5;124m\"\u001b[39m\u001b[38;5;124m2024-02\u001b[39m\u001b[38;5;124m\"\u001b[39m\u001b[38;5;124m, \u001b[39m\u001b[38;5;124m\"\u001b[39m\u001b[38;5;124mAAA\u001b[39m\u001b[38;5;124m\"\u001b[39m\u001b[38;5;124m: 0.11900386259347105, \u001b[39m\u001b[38;5;124m\"\u001b[39m\u001b[38;5;124mA32\u001b[39m\u001b[38;5;124m\"\u001b[39m\u001b[38;5;124m: 0.3768284474520035}, \u001b[39m\u001b[38;5;124m{\u001b[39m\u001b[38;5;124m\"\u001b[39m\u001b[38;5;124midx_time\u001b[39m\u001b[38;5;124m\"\u001b[39m\u001b[38;5;124m: \u001b[39m\u001b[38;5;124m\"\u001b[39m\u001b[38;5;124m2024-03\u001b[39m\u001b[38;5;124m\"\u001b[39m\u001b[38;5;124m, \u001b[39m\u001b[38;5;124m\"\u001b[39m\u001b[38;5;124mAAA\u001b[39m\u001b[38;5;124m\"\u001b[39m\u001b[38;5;124m: -0.003568951221208245, \u001b[39m\u001b[38;5;124m\"\u001b[39m\u001b[38;5;124mA32\u001b[39m\u001b[38;5;124m\"\u001b[39m\u001b[38;5;124m: -0.2758677123166095}, \u001b[39m\u001b[38;5;124m{\u001b[39m\u001b[38;5;124m\"\u001b[39m\u001b[38;5;124midx_time\u001b[39m\u001b[38;5;124m\"\u001b[39m\u001b[38;5;124m: \u001b[39m\u001b[38;5;124m\"\u001b[39m\u001b[38;5;124m2024-04\u001b[39m\u001b[38;5;124m\"\u001b[39m\u001b[38;5;124m, \u001b[39m\u001b[38;5;124m\"\u001b[39m\u001b[38;5;124mAAA\u001b[39m\u001b[38;5;124m\"\u001b[39m\u001b[38;5;124m: -0.043706234983660705, \u001b[39m\u001b[38;5;124m\"\u001b[39m\u001b[38;5;124mA32\u001b[39m\u001b[38;5;124m\"\u001b[39m\u001b[38;5;124m: 0.08584764872201436}, \u001b[39m\u001b[38;5;124m{\u001b[39m\u001b[38;5;124m\"\u001b[39m\u001b[38;5;124midx_time\u001b[39m\u001b[38;5;124m\"\u001b[39m\u001b[38;5;124m: \u001b[39m\u001b[38;5;124m\"\u001b[39m\u001b[38;5;124m2024-05\u001b[39m\u001b[38;5;124m\"\u001b[39m\u001b[38;5;124m, \u001b[39m\u001b[38;5;124m\"\u001b[39m\u001b[38;5;124mAAA\u001b[39m\u001b[38;5;124m\"\u001b[39m\u001b[38;5;124m: 0.06614997833044046, \u001b[39m\u001b[38;5;124m\"\u001b[39m\u001b[38;5;124mA32\u001b[39m\u001b[38;5;124m\"\u001b[39m\u001b[38;5;124m: -0.17193531125845293}, \u001b[39m\u001b[38;5;124m{\u001b[39m\u001b[38;5;124m\"\u001b[39m\u001b[38;5;124midx_time\u001b[39m\u001b[38;5;124m\"\u001b[39m\u001b[38;5;124m: \u001b[39m\u001b[38;5;124m\"\u001b[39m\u001b[38;5;124m2024-06\u001b[39m\u001b[38;5;124m\"\u001b[39m\u001b[38;5;124m, \u001b[39m\u001b[38;5;124m\"\u001b[39m\u001b[38;5;124mAAA\u001b[39m\u001b[38;5;124m\"\u001b[39m\u001b[38;5;124m: 0.027219402108996846, \u001b[39m\u001b[38;5;124m\"\u001b[39m\u001b[38;5;124mA32\u001b[39m\u001b[38;5;124m\"\u001b[39m\u001b[38;5;124m: 0.04964901833003382}, \u001b[39m\u001b[38;5;124m{\u001b[39m\u001b[38;5;124m\"\u001b[39m\u001b[38;5;124midx_time\u001b[39m\u001b[38;5;124m\"\u001b[39m\u001b[38;5;124m: \u001b[39m\u001b[38;5;124m\"\u001b[39m\u001b[38;5;124m2024-07\u001b[39m\u001b[38;5;124m\"\u001b[39m\u001b[38;5;124m, \u001b[39m\u001b[38;5;124m\"\u001b[39m\u001b[38;5;124mAAA\u001b[39m\u001b[38;5;124m\"\u001b[39m\u001b[38;5;124m: 0.023138676922500895, \u001b[39m\u001b[38;5;124m\"\u001b[39m\u001b[38;5;124mA32\u001b[39m\u001b[38;5;124m\"\u001b[39m\u001b[38;5;124m: -0.003968290420115657}, \u001b[39m\u001b[38;5;124m{\u001b[39m\u001b[38;5;124m\"\u001b[39m\u001b[38;5;124midx_time\u001b[39m\u001b[38;5;124m\"\u001b[39m\u001b[38;5;124m: \u001b[39m\u001b[38;5;124m\"\u001b[39m\u001b[38;5;124m2024-08\u001b[39m\u001b[38;5;124m\"\u001b[39m\u001b[38;5;124m, \u001b[39m\u001b[38;5;124m\"\u001b[39m\u001b[38;5;124mAAA\u001b[39m\u001b[38;5;124m\"\u001b[39m\u001b[38;5;124m: -0.1058755282870188, \u001b[39m\u001b[38;5;124m\"\u001b[39m\u001b[38;5;124mA32\u001b[39m\u001b[38;5;124m\"\u001b[39m\u001b[38;5;124m: 0.05798319264886414}]\u001b[39m\u001b[38;5;124m'\u001b[39m,\u001b[38;5;124m\"\u001b[39m\u001b[38;5;124msymbols\u001b[39m\u001b[38;5;124m\"\u001b[39m: [\u001b[38;5;124m'\u001b[39m\u001b[38;5;124mAAM\u001b[39m\u001b[38;5;124m'\u001b[39m, \u001b[38;5;124m'\u001b[39m\u001b[38;5;124mXPH\u001b[39m\u001b[38;5;124m'\u001b[39m, \u001b[38;5;124m'\u001b[39m\u001b[38;5;124mYEG\u001b[39m\u001b[38;5;124m'\u001b[39m, \u001b[38;5;124m'\u001b[39m\u001b[38;5;124mAAT\u001b[39m\u001b[38;5;124m'\u001b[39m], \u001b[38;5;124m\"\u001b[39m\u001b[38;5;124mn\u001b[39m\u001b[38;5;124m\"\u001b[39m: \u001b[38;5;241m6\u001b[39m}},\n\u001b[0;32m     10\u001b[0m             {\u001b[38;5;124m\"\u001b[39m\u001b[38;5;124mportfolio_optimize\u001b[39m\u001b[38;5;124m\"\u001b[39m, {\u001b[38;5;124m\"\u001b[39m\u001b[38;5;124mreturn\u001b[39m\u001b[38;5;124m\"\u001b[39m: {\u001b[38;5;124m'\u001b[39m\u001b[38;5;124mAAM\u001b[39m\u001b[38;5;124m'\u001b[39m: \u001b[38;5;241m123\u001b[39m, \u001b[38;5;124m'\u001b[39m\u001b[38;5;124mXPH\u001b[39m\u001b[38;5;124m'\u001b[39m: \u001b[38;5;241m123\u001b[39m, \u001b[38;5;124m'\u001b[39m\u001b[38;5;124mYEG\u001b[39m\u001b[38;5;124m'\u001b[39m: \u001b[38;5;241m12\u001b[39m, \u001b[38;5;124m'\u001b[39m\u001b[38;5;124mAAT\u001b[39m\u001b[38;5;124m'\u001b[39m: \u001b[38;5;241m134\u001b[39m}, \u001b[38;5;124m\"\u001b[39m\u001b[38;5;124msharpe_ratio_or_variance\u001b[39m\u001b[38;5;124m\"\u001b[39m: \u001b[38;5;28;01mTrue\u001b[39;00m}},\n\u001b[0;32m     11\u001b[0m         ],\n\u001b[0;32m     12\u001b[0m         \u001b[38;5;124m\"\u001b[39m\u001b[38;5;124mresponse\u001b[39m\u001b[38;5;124m\"\u001b[39m: \u001b[38;5;124m\"\u001b[39m\u001b[38;5;124mSau khi chạy mô hình dự đoán, cần phân bổ vốn đều 25\u001b[39m\u001b[38;5;132;01m% c\u001b[39;00m\u001b[38;5;124mho mỗi mã cổ phiếu để đạt lợi nhuận cao nhất.\u001b[39m\u001b[38;5;124m\"\u001b[39m\n\u001b[0;32m     13\u001b[0m     },\n\u001b[0;32m     14\u001b[0m ]\n\u001b[0;32m     16\u001b[0m example_formatter_template \u001b[38;5;241m=\u001b[39m \u001b[38;5;124m\"\"\"\u001b[39m\n\u001b[0;32m     17\u001b[0m \u001b[38;5;124m    \u001b[39m\u001b[38;5;124m\"\u001b[39m\u001b[38;5;124mcommand\u001b[39m\u001b[38;5;124m\"\u001b[39m\u001b[38;5;124m: \u001b[39m\u001b[38;5;132;01m{command}\u001b[39;00m\u001b[38;5;124m,\u001b[39m\n\u001b[0;32m     18\u001b[0m \u001b[38;5;124m    \u001b[39m\u001b[38;5;124m\"\u001b[39m\u001b[38;5;124massistant\u001b[39m\u001b[38;5;124m\"\u001b[39m\u001b[38;5;124m: \u001b[39m\u001b[38;5;132;01m{assistant}\u001b[39;00m\u001b[38;5;124m,\u001b[39m\n\u001b[0;32m     19\u001b[0m \u001b[38;5;124m    \u001b[39m\u001b[38;5;124m\"\u001b[39m\u001b[38;5;124mresponse\u001b[39m\u001b[38;5;124m\"\u001b[39m\u001b[38;5;124m: \u001b[39m\u001b[38;5;132;01m{response}\u001b[39;00m\u001b[38;5;124m,\u001b[39m\n\u001b[0;32m     20\u001b[0m \u001b[38;5;124m\"\"\"\u001b[39m\n\u001b[0;32m     22\u001b[0m example_prompt \u001b[38;5;241m=\u001b[39m PromptTemplate(\n\u001b[0;32m     23\u001b[0m     input_variables\u001b[38;5;241m=\u001b[39m[\u001b[38;5;124m\"\u001b[39m\u001b[38;5;124mcommand\u001b[39m\u001b[38;5;124m\"\u001b[39m, \u001b[38;5;124m\"\u001b[39m\u001b[38;5;124massistant\u001b[39m\u001b[38;5;124m\"\u001b[39m, \u001b[38;5;124m\"\u001b[39m\u001b[38;5;124mresponse\u001b[39m\u001b[38;5;124m\"\u001b[39m],\n\u001b[0;32m     24\u001b[0m     template\u001b[38;5;241m=\u001b[39mexample_formatter_template,\n\u001b[0;32m     25\u001b[0m )\n",
      "\u001b[1;31mTypeError\u001b[0m: unhashable type: 'dict'"
     ]
    }
   ],
   "source": [
    "from langchain import PromptTemplate, FewShotPromptTemplate\n",
    "\n",
    "examples = [\n",
    "    # Ví dụ cho người dùng hỏi về tối ưu hóa danh mục đầu tư\n",
    "    {\n",
    "        \"command\": \"Hiện nay, một danh mục đầu tư của tôi bao gồm các mã cổ phiếu của sàn VNINDEX như là AAM, XPH, YEG, AAT. Tôi nên phân bổ vốn của mình như nào để tối ưu hóa danh mục đầu tư sao cho lợi nhuận được tối đa nhất trong chiến lược đầu tư dài hạn 6 tháng tới như thế nào?\",\n",
    "        \"assistant\": [\n",
    "            {\"get_api_portfolio\", {\"symbols\": ['AAM', 'XPH', 'YEG', 'AAT']}},\n",
    "            {\"predict_future_prices\", {\"api_portfolio\":'[{\"idx_time\": \"2023-09\", \"AAA\": -0.05144315555216674, \"A32\": 0.0884884106784579}, {\"idx_time\": \"2023-10\", \"AAA\": -0.14542232114660703, \"A32\": -0.0963458098223358}, {\"idx_time\": \"2023-11\", \"AAA\": 0.022231032778677464, \"A32\": 0.03697967078334708}, {\"idx_time\": \"2023-12\", \"AAA\": 0.03516170679547651, \"A32\": 0.031034356695593013}, {\"idx_time\": \"2024-01\", \"AAA\": 0.03523565930437369, \"A32\": 0.0753295051569786}, {\"idx_time\": \"2024-02\", \"AAA\": 0.11900386259347105, \"A32\": 0.3768284474520035}, {\"idx_time\": \"2024-03\", \"AAA\": -0.003568951221208245, \"A32\": -0.2758677123166095}, {\"idx_time\": \"2024-04\", \"AAA\": -0.043706234983660705, \"A32\": 0.08584764872201436}, {\"idx_time\": \"2024-05\", \"AAA\": 0.06614997833044046, \"A32\": -0.17193531125845293}, {\"idx_time\": \"2024-06\", \"AAA\": 0.027219402108996846, \"A32\": 0.04964901833003382}, {\"idx_time\": \"2024-07\", \"AAA\": 0.023138676922500895, \"A32\": -0.003968290420115657}, {\"idx_time\": \"2024-08\", \"AAA\": -0.1058755282870188, \"A32\": 0.05798319264886414}]',\"symbols\": ['AAM', 'XPH', 'YEG', 'AAT'], \"n\": 6}},\n",
    "            {\"portfolio_optimize\", {\"return\": {'AAM': 123, 'XPH': 123, 'YEG': 12, 'AAT': 134}, \"sharpe_ratio_or_variance\": True}},\n",
    "        ],\n",
    "        \"response\": \"Sau khi chạy mô hình dự đoán, cần phân bổ vốn đều 25% cho mỗi mã cổ phiếu để đạt lợi nhuận cao nhất.\"\n",
    "    },\n",
    "]\n",
    "\n",
    "example_formatter_template = \"\"\"\n",
    "    \"command\": {command},\n",
    "    \"assistant\": {assistant},\n",
    "    \"response\": {response},\n",
    "\"\"\"\n",
    "\n",
    "example_prompt = PromptTemplate(\n",
    "    input_variables=[\"command\", \"assistant\", \"response\"],\n",
    "    template=example_formatter_template,\n",
    ")\n",
    "\n",
    "system = f\"\"\"\n",
    "Bạn là một chuyên gia chơi chứng khoán trong lĩnh vực kinh tế đầu tư tại thị trường chứng khoán Việt Nam. Hôm nay là ngày {datetime.now().strftime('%Y-%m-%d')}. \n",
    "Sử dụng các tool được cung cấp để đưa ra lời khuyên tối ưu cho người chơi mới tại Việt Nam.\n",
    "\"\"\"\n",
    "\n",
    "few_shot_prompt = FewShotPromptTemplate(\n",
    "    # These are the examples we want to insert into the prompt.\n",
    "    examples=examples,\n",
    "    # This is how we want to format the examples when we insert them into the prompt.\n",
    "    example_prompt=example_prompt,\n",
    "    # The prefix is some text that goes before the examples in the prompt.\n",
    "    # Usually, this consists of intructions.\n",
    "    prefix=\"Dựa vào các công cụ, hãy đưa ra kết quả chính xác đáp ứng nhu cầu người dùng nhập vào. Trả về kết quả mà các công cụ trả về kèm theo giải thích chi tiết\",\n",
    "    # The suffix is some text that goes after the examples in the prompt.\n",
    "    # Usually, this is where the user input will go\n",
    "    suffix=\"Câu lệnh đầu vào từ người dùng: {command}\\nPhản hồi và hành động của trợ lý là::\",\n",
    "    # The input variables are the variables that the overall prompt expects.\n",
    "    input_variables=[\"command\"],\n",
    "    # The example_separator is the string we will use to join the prefix, examples, and suffix together with.\n",
    "    example_separator=\"\\n\\n\",\n",
    ")\n",
    "\n",
    "few_shot_prompt\n"
   ]
  },
  {
   "cell_type": "code",
   "execution_count": 31,
   "metadata": {},
   "outputs": [
    {
     "ename": "KeyError",
     "evalue": "\"'symbols'\"",
     "output_type": "error",
     "traceback": [
      "\u001b[1;31m---------------------------------------------------------------------------\u001b[0m",
      "\u001b[1;31mKeyError\u001b[0m                                  Traceback (most recent call last)",
      "Cell \u001b[1;32mIn[31], line 2\u001b[0m\n\u001b[0;32m      1\u001b[0m \u001b[38;5;66;03m# Kiểm tra xem kết quả của chain.invoke() trả về gì\u001b[39;00m\n\u001b[1;32m----> 2\u001b[0m result \u001b[38;5;241m=\u001b[39m \u001b[43mchain\u001b[49m\u001b[38;5;241;43m.\u001b[39;49m\u001b[43minvoke\u001b[49m\u001b[43m(\u001b[49m\u001b[43m{\u001b[49m\u001b[38;5;124;43m\"\u001b[39;49m\u001b[38;5;124;43mcommand\u001b[39;49m\u001b[38;5;124;43m\"\u001b[39;49m\u001b[43m:\u001b[49m\u001b[43m \u001b[49m\u001b[38;5;124;43m\"\u001b[39;49m\u001b[38;5;124;43mHiện nay, một danh mục đầu tư của tôi bao gồm các mã cổ phiếu của sàn VNINDEX như là AAM, XPH, YEG, AAT. Tôi nên phân bổ vốn của mình như nào để tối ưu hóa danh mục đầu tư sao cho lợi nhuận được tối đa nhất trong chiến lược đầu tư dài hạn 6 tháng tới như thế nào?\u001b[39;49m\u001b[38;5;124;43m\"\u001b[39;49m\u001b[43m}\u001b[49m\u001b[43m)\u001b[49m\n\u001b[0;32m      4\u001b[0m \u001b[38;5;66;03m# In kết quả để kiểm tra cấu trúc trả về\u001b[39;00m\n\u001b[0;32m      5\u001b[0m \u001b[38;5;28mprint\u001b[39m(result)\n",
      "File \u001b[1;32mc:\\Users\\Admin\\miniconda3\\envs\\AI_prj_final\\lib\\site-packages\\langchain_core\\runnables\\base.py:2878\u001b[0m, in \u001b[0;36mRunnableSequence.invoke\u001b[1;34m(self, input, config, **kwargs)\u001b[0m\n\u001b[0;32m   2876\u001b[0m             \u001b[38;5;28minput\u001b[39m \u001b[38;5;241m=\u001b[39m context\u001b[38;5;241m.\u001b[39mrun(step\u001b[38;5;241m.\u001b[39minvoke, \u001b[38;5;28minput\u001b[39m, config, \u001b[38;5;241m*\u001b[39m\u001b[38;5;241m*\u001b[39mkwargs)\n\u001b[0;32m   2877\u001b[0m         \u001b[38;5;28;01melse\u001b[39;00m:\n\u001b[1;32m-> 2878\u001b[0m             \u001b[38;5;28minput\u001b[39m \u001b[38;5;241m=\u001b[39m \u001b[43mcontext\u001b[49m\u001b[38;5;241;43m.\u001b[39;49m\u001b[43mrun\u001b[49m\u001b[43m(\u001b[49m\u001b[43mstep\u001b[49m\u001b[38;5;241;43m.\u001b[39;49m\u001b[43minvoke\u001b[49m\u001b[43m,\u001b[49m\u001b[43m \u001b[49m\u001b[38;5;28;43minput\u001b[39;49m\u001b[43m,\u001b[49m\u001b[43m \u001b[49m\u001b[43mconfig\u001b[49m\u001b[43m)\u001b[49m\n\u001b[0;32m   2879\u001b[0m \u001b[38;5;66;03m# finish the root run\u001b[39;00m\n\u001b[0;32m   2880\u001b[0m \u001b[38;5;28;01mexcept\u001b[39;00m \u001b[38;5;167;01mBaseException\u001b[39;00m \u001b[38;5;28;01mas\u001b[39;00m e:\n",
      "File \u001b[1;32mc:\\Users\\Admin\\miniconda3\\envs\\AI_prj_final\\lib\\site-packages\\langchain_core\\prompts\\base.py:179\u001b[0m, in \u001b[0;36mBasePromptTemplate.invoke\u001b[1;34m(self, input, config)\u001b[0m\n\u001b[0;32m    177\u001b[0m \u001b[38;5;28;01mif\u001b[39;00m \u001b[38;5;28mself\u001b[39m\u001b[38;5;241m.\u001b[39mtags:\n\u001b[0;32m    178\u001b[0m     config[\u001b[38;5;124m\"\u001b[39m\u001b[38;5;124mtags\u001b[39m\u001b[38;5;124m\"\u001b[39m] \u001b[38;5;241m=\u001b[39m config[\u001b[38;5;124m\"\u001b[39m\u001b[38;5;124mtags\u001b[39m\u001b[38;5;124m\"\u001b[39m] \u001b[38;5;241m+\u001b[39m \u001b[38;5;28mself\u001b[39m\u001b[38;5;241m.\u001b[39mtags\n\u001b[1;32m--> 179\u001b[0m \u001b[38;5;28;01mreturn\u001b[39;00m \u001b[38;5;28;43mself\u001b[39;49m\u001b[38;5;241;43m.\u001b[39;49m\u001b[43m_call_with_config\u001b[49m\u001b[43m(\u001b[49m\n\u001b[0;32m    180\u001b[0m \u001b[43m    \u001b[49m\u001b[38;5;28;43mself\u001b[39;49m\u001b[38;5;241;43m.\u001b[39;49m\u001b[43m_format_prompt_with_error_handling\u001b[49m\u001b[43m,\u001b[49m\n\u001b[0;32m    181\u001b[0m \u001b[43m    \u001b[49m\u001b[38;5;28;43minput\u001b[39;49m\u001b[43m,\u001b[49m\n\u001b[0;32m    182\u001b[0m \u001b[43m    \u001b[49m\u001b[43mconfig\u001b[49m\u001b[43m,\u001b[49m\n\u001b[0;32m    183\u001b[0m \u001b[43m    \u001b[49m\u001b[43mrun_type\u001b[49m\u001b[38;5;241;43m=\u001b[39;49m\u001b[38;5;124;43m\"\u001b[39;49m\u001b[38;5;124;43mprompt\u001b[39;49m\u001b[38;5;124;43m\"\u001b[39;49m\u001b[43m,\u001b[49m\n\u001b[0;32m    184\u001b[0m \u001b[43m\u001b[49m\u001b[43m)\u001b[49m\n",
      "File \u001b[1;32mc:\\Users\\Admin\\miniconda3\\envs\\AI_prj_final\\lib\\site-packages\\langchain_core\\runnables\\base.py:1785\u001b[0m, in \u001b[0;36mRunnable._call_with_config\u001b[1;34m(self, func, input, config, run_type, **kwargs)\u001b[0m\n\u001b[0;32m   1781\u001b[0m     context \u001b[38;5;241m=\u001b[39m copy_context()\n\u001b[0;32m   1782\u001b[0m     context\u001b[38;5;241m.\u001b[39mrun(_set_config_context, child_config)\n\u001b[0;32m   1783\u001b[0m     output \u001b[38;5;241m=\u001b[39m cast(\n\u001b[0;32m   1784\u001b[0m         Output,\n\u001b[1;32m-> 1785\u001b[0m         context\u001b[38;5;241m.\u001b[39mrun(\n\u001b[0;32m   1786\u001b[0m             call_func_with_variable_args,  \u001b[38;5;66;03m# type: ignore[arg-type]\u001b[39;00m\n\u001b[0;32m   1787\u001b[0m             func,  \u001b[38;5;66;03m# type: ignore[arg-type]\u001b[39;00m\n\u001b[0;32m   1788\u001b[0m             \u001b[38;5;28minput\u001b[39m,  \u001b[38;5;66;03m# type: ignore[arg-type]\u001b[39;00m\n\u001b[0;32m   1789\u001b[0m             config,\n\u001b[0;32m   1790\u001b[0m             run_manager,\n\u001b[0;32m   1791\u001b[0m             \u001b[38;5;241m*\u001b[39m\u001b[38;5;241m*\u001b[39mkwargs,\n\u001b[0;32m   1792\u001b[0m         ),\n\u001b[0;32m   1793\u001b[0m     )\n\u001b[0;32m   1794\u001b[0m \u001b[38;5;28;01mexcept\u001b[39;00m \u001b[38;5;167;01mBaseException\u001b[39;00m \u001b[38;5;28;01mas\u001b[39;00m e:\n\u001b[0;32m   1795\u001b[0m     run_manager\u001b[38;5;241m.\u001b[39mon_chain_error(e)\n",
      "File \u001b[1;32mc:\\Users\\Admin\\miniconda3\\envs\\AI_prj_final\\lib\\site-packages\\langchain_core\\runnables\\config.py:397\u001b[0m, in \u001b[0;36mcall_func_with_variable_args\u001b[1;34m(func, input, config, run_manager, **kwargs)\u001b[0m\n\u001b[0;32m    395\u001b[0m \u001b[38;5;28;01mif\u001b[39;00m run_manager \u001b[38;5;129;01mis\u001b[39;00m \u001b[38;5;129;01mnot\u001b[39;00m \u001b[38;5;28;01mNone\u001b[39;00m \u001b[38;5;129;01mand\u001b[39;00m accepts_run_manager(func):\n\u001b[0;32m    396\u001b[0m     kwargs[\u001b[38;5;124m\"\u001b[39m\u001b[38;5;124mrun_manager\u001b[39m\u001b[38;5;124m\"\u001b[39m] \u001b[38;5;241m=\u001b[39m run_manager\n\u001b[1;32m--> 397\u001b[0m \u001b[38;5;28;01mreturn\u001b[39;00m func(\u001b[38;5;28minput\u001b[39m, \u001b[38;5;241m*\u001b[39m\u001b[38;5;241m*\u001b[39mkwargs)\n",
      "File \u001b[1;32mc:\\Users\\Admin\\miniconda3\\envs\\AI_prj_final\\lib\\site-packages\\langchain_core\\prompts\\base.py:154\u001b[0m, in \u001b[0;36mBasePromptTemplate._format_prompt_with_error_handling\u001b[1;34m(self, inner_input)\u001b[0m\n\u001b[0;32m    152\u001b[0m \u001b[38;5;28;01mdef\u001b[39;00m \u001b[38;5;21m_format_prompt_with_error_handling\u001b[39m(\u001b[38;5;28mself\u001b[39m, inner_input: Dict) \u001b[38;5;241m-\u001b[39m\u001b[38;5;241m>\u001b[39m PromptValue:\n\u001b[0;32m    153\u001b[0m     _inner_input \u001b[38;5;241m=\u001b[39m \u001b[38;5;28mself\u001b[39m\u001b[38;5;241m.\u001b[39m_validate_input(inner_input)\n\u001b[1;32m--> 154\u001b[0m     \u001b[38;5;28;01mreturn\u001b[39;00m \u001b[38;5;28mself\u001b[39m\u001b[38;5;241m.\u001b[39mformat_prompt(\u001b[38;5;241m*\u001b[39m\u001b[38;5;241m*\u001b[39m_inner_input)\n",
      "File \u001b[1;32mc:\\Users\\Admin\\miniconda3\\envs\\AI_prj_final\\lib\\site-packages\\langchain_core\\prompts\\string.py:277\u001b[0m, in \u001b[0;36mStringPromptTemplate.format_prompt\u001b[1;34m(self, **kwargs)\u001b[0m\n\u001b[0;32m    268\u001b[0m \u001b[38;5;28;01mdef\u001b[39;00m \u001b[38;5;21mformat_prompt\u001b[39m(\u001b[38;5;28mself\u001b[39m, \u001b[38;5;241m*\u001b[39m\u001b[38;5;241m*\u001b[39mkwargs: Any) \u001b[38;5;241m-\u001b[39m\u001b[38;5;241m>\u001b[39m PromptValue:\n\u001b[0;32m    269\u001b[0m \u001b[38;5;250m    \u001b[39m\u001b[38;5;124;03m\"\"\"Format the prompt with the inputs.\u001b[39;00m\n\u001b[0;32m    270\u001b[0m \n\u001b[0;32m    271\u001b[0m \u001b[38;5;124;03m    Args:\u001b[39;00m\n\u001b[1;32m   (...)\u001b[0m\n\u001b[0;32m    275\u001b[0m \u001b[38;5;124;03m        A formatted string.\u001b[39;00m\n\u001b[0;32m    276\u001b[0m \u001b[38;5;124;03m    \"\"\"\u001b[39;00m\n\u001b[1;32m--> 277\u001b[0m     \u001b[38;5;28;01mreturn\u001b[39;00m StringPromptValue(text\u001b[38;5;241m=\u001b[39m\u001b[38;5;28mself\u001b[39m\u001b[38;5;241m.\u001b[39mformat(\u001b[38;5;241m*\u001b[39m\u001b[38;5;241m*\u001b[39mkwargs))\n",
      "File \u001b[1;32mc:\\Users\\Admin\\miniconda3\\envs\\AI_prj_final\\lib\\site-packages\\langchain_core\\prompts\\few_shot.py:191\u001b[0m, in \u001b[0;36mFewShotPromptTemplate.format\u001b[1;34m(self, **kwargs)\u001b[0m\n\u001b[0;32m    188\u001b[0m template \u001b[38;5;241m=\u001b[39m \u001b[38;5;28mself\u001b[39m\u001b[38;5;241m.\u001b[39mexample_separator\u001b[38;5;241m.\u001b[39mjoin([piece \u001b[38;5;28;01mfor\u001b[39;00m piece \u001b[38;5;129;01min\u001b[39;00m pieces \u001b[38;5;28;01mif\u001b[39;00m piece])\n\u001b[0;32m    190\u001b[0m \u001b[38;5;66;03m# Format the template with the input variables.\u001b[39;00m\n\u001b[1;32m--> 191\u001b[0m \u001b[38;5;28;01mreturn\u001b[39;00m DEFAULT_FORMATTER_MAPPING[\u001b[38;5;28mself\u001b[39m\u001b[38;5;241m.\u001b[39mtemplate_format](template, \u001b[38;5;241m*\u001b[39m\u001b[38;5;241m*\u001b[39mkwargs)\n",
      "File \u001b[1;32mc:\\Users\\Admin\\miniconda3\\envs\\AI_prj_final\\lib\\string.py:161\u001b[0m, in \u001b[0;36mFormatter.format\u001b[1;34m(self, format_string, *args, **kwargs)\u001b[0m\n\u001b[0;32m    160\u001b[0m \u001b[38;5;28;01mdef\u001b[39;00m \u001b[38;5;21mformat\u001b[39m(\u001b[38;5;28mself\u001b[39m, format_string, \u001b[38;5;241m/\u001b[39m, \u001b[38;5;241m*\u001b[39margs, \u001b[38;5;241m*\u001b[39m\u001b[38;5;241m*\u001b[39mkwargs):\n\u001b[1;32m--> 161\u001b[0m     \u001b[38;5;28;01mreturn\u001b[39;00m \u001b[38;5;28;43mself\u001b[39;49m\u001b[38;5;241;43m.\u001b[39;49m\u001b[43mvformat\u001b[49m\u001b[43m(\u001b[49m\u001b[43mformat_string\u001b[49m\u001b[43m,\u001b[49m\u001b[43m \u001b[49m\u001b[43margs\u001b[49m\u001b[43m,\u001b[49m\u001b[43m \u001b[49m\u001b[43mkwargs\u001b[49m\u001b[43m)\u001b[49m\n",
      "File \u001b[1;32mc:\\Users\\Admin\\miniconda3\\envs\\AI_prj_final\\lib\\site-packages\\langchain_core\\utils\\formatting.py:31\u001b[0m, in \u001b[0;36mStrictFormatter.vformat\u001b[1;34m(self, format_string, args, kwargs)\u001b[0m\n\u001b[0;32m     26\u001b[0m \u001b[38;5;28;01mif\u001b[39;00m \u001b[38;5;28mlen\u001b[39m(args) \u001b[38;5;241m>\u001b[39m \u001b[38;5;241m0\u001b[39m:\n\u001b[0;32m     27\u001b[0m     \u001b[38;5;28;01mraise\u001b[39;00m \u001b[38;5;167;01mValueError\u001b[39;00m(\n\u001b[0;32m     28\u001b[0m         \u001b[38;5;124m\"\u001b[39m\u001b[38;5;124mNo arguments should be provided, \u001b[39m\u001b[38;5;124m\"\u001b[39m\n\u001b[0;32m     29\u001b[0m         \u001b[38;5;124m\"\u001b[39m\u001b[38;5;124meverything should be passed as keyword arguments.\u001b[39m\u001b[38;5;124m\"\u001b[39m\n\u001b[0;32m     30\u001b[0m     )\n\u001b[1;32m---> 31\u001b[0m \u001b[38;5;28;01mreturn\u001b[39;00m \u001b[38;5;28;43msuper\u001b[39;49m\u001b[43m(\u001b[49m\u001b[43m)\u001b[49m\u001b[38;5;241;43m.\u001b[39;49m\u001b[43mvformat\u001b[49m\u001b[43m(\u001b[49m\u001b[43mformat_string\u001b[49m\u001b[43m,\u001b[49m\u001b[43m \u001b[49m\u001b[43margs\u001b[49m\u001b[43m,\u001b[49m\u001b[43m \u001b[49m\u001b[43mkwargs\u001b[49m\u001b[43m)\u001b[49m\n",
      "File \u001b[1;32mc:\\Users\\Admin\\miniconda3\\envs\\AI_prj_final\\lib\\string.py:165\u001b[0m, in \u001b[0;36mFormatter.vformat\u001b[1;34m(self, format_string, args, kwargs)\u001b[0m\n\u001b[0;32m    163\u001b[0m \u001b[38;5;28;01mdef\u001b[39;00m \u001b[38;5;21mvformat\u001b[39m(\u001b[38;5;28mself\u001b[39m, format_string, args, kwargs):\n\u001b[0;32m    164\u001b[0m     used_args \u001b[38;5;241m=\u001b[39m \u001b[38;5;28mset\u001b[39m()\n\u001b[1;32m--> 165\u001b[0m     result, _ \u001b[38;5;241m=\u001b[39m \u001b[38;5;28;43mself\u001b[39;49m\u001b[38;5;241;43m.\u001b[39;49m\u001b[43m_vformat\u001b[49m\u001b[43m(\u001b[49m\u001b[43mformat_string\u001b[49m\u001b[43m,\u001b[49m\u001b[43m \u001b[49m\u001b[43margs\u001b[49m\u001b[43m,\u001b[49m\u001b[43m \u001b[49m\u001b[43mkwargs\u001b[49m\u001b[43m,\u001b[49m\u001b[43m \u001b[49m\u001b[43mused_args\u001b[49m\u001b[43m,\u001b[49m\u001b[43m \u001b[49m\u001b[38;5;241;43m2\u001b[39;49m\u001b[43m)\u001b[49m\n\u001b[0;32m    166\u001b[0m     \u001b[38;5;28mself\u001b[39m\u001b[38;5;241m.\u001b[39mcheck_unused_args(used_args, args, kwargs)\n\u001b[0;32m    167\u001b[0m     \u001b[38;5;28;01mreturn\u001b[39;00m result\n",
      "File \u001b[1;32mc:\\Users\\Admin\\miniconda3\\envs\\AI_prj_final\\lib\\string.py:205\u001b[0m, in \u001b[0;36mFormatter._vformat\u001b[1;34m(self, format_string, args, kwargs, used_args, recursion_depth, auto_arg_index)\u001b[0m\n\u001b[0;32m    201\u001b[0m     auto_arg_index \u001b[38;5;241m=\u001b[39m \u001b[38;5;28;01mFalse\u001b[39;00m\n\u001b[0;32m    203\u001b[0m \u001b[38;5;66;03m# given the field_name, find the object it references\u001b[39;00m\n\u001b[0;32m    204\u001b[0m \u001b[38;5;66;03m#  and the argument it came from\u001b[39;00m\n\u001b[1;32m--> 205\u001b[0m obj, arg_used \u001b[38;5;241m=\u001b[39m \u001b[38;5;28;43mself\u001b[39;49m\u001b[38;5;241;43m.\u001b[39;49m\u001b[43mget_field\u001b[49m\u001b[43m(\u001b[49m\u001b[43mfield_name\u001b[49m\u001b[43m,\u001b[49m\u001b[43m \u001b[49m\u001b[43margs\u001b[49m\u001b[43m,\u001b[49m\u001b[43m \u001b[49m\u001b[43mkwargs\u001b[49m\u001b[43m)\u001b[49m\n\u001b[0;32m    206\u001b[0m used_args\u001b[38;5;241m.\u001b[39madd(arg_used)\n\u001b[0;32m    208\u001b[0m \u001b[38;5;66;03m# do any conversion on the resulting object\u001b[39;00m\n",
      "File \u001b[1;32mc:\\Users\\Admin\\miniconda3\\envs\\AI_prj_final\\lib\\string.py:270\u001b[0m, in \u001b[0;36mFormatter.get_field\u001b[1;34m(self, field_name, args, kwargs)\u001b[0m\n\u001b[0;32m    267\u001b[0m \u001b[38;5;28;01mdef\u001b[39;00m \u001b[38;5;21mget_field\u001b[39m(\u001b[38;5;28mself\u001b[39m, field_name, args, kwargs):\n\u001b[0;32m    268\u001b[0m     first, rest \u001b[38;5;241m=\u001b[39m _string\u001b[38;5;241m.\u001b[39mformatter_field_name_split(field_name)\n\u001b[1;32m--> 270\u001b[0m     obj \u001b[38;5;241m=\u001b[39m \u001b[38;5;28;43mself\u001b[39;49m\u001b[38;5;241;43m.\u001b[39;49m\u001b[43mget_value\u001b[49m\u001b[43m(\u001b[49m\u001b[43mfirst\u001b[49m\u001b[43m,\u001b[49m\u001b[43m \u001b[49m\u001b[43margs\u001b[49m\u001b[43m,\u001b[49m\u001b[43m \u001b[49m\u001b[43mkwargs\u001b[49m\u001b[43m)\u001b[49m\n\u001b[0;32m    272\u001b[0m     \u001b[38;5;66;03m# loop through the rest of the field_name, doing\u001b[39;00m\n\u001b[0;32m    273\u001b[0m     \u001b[38;5;66;03m#  getattr or getitem as needed\u001b[39;00m\n\u001b[0;32m    274\u001b[0m     \u001b[38;5;28;01mfor\u001b[39;00m is_attr, i \u001b[38;5;129;01min\u001b[39;00m rest:\n",
      "File \u001b[1;32mc:\\Users\\Admin\\miniconda3\\envs\\AI_prj_final\\lib\\string.py:227\u001b[0m, in \u001b[0;36mFormatter.get_value\u001b[1;34m(self, key, args, kwargs)\u001b[0m\n\u001b[0;32m    225\u001b[0m     \u001b[38;5;28;01mreturn\u001b[39;00m args[key]\n\u001b[0;32m    226\u001b[0m \u001b[38;5;28;01melse\u001b[39;00m:\n\u001b[1;32m--> 227\u001b[0m     \u001b[38;5;28;01mreturn\u001b[39;00m \u001b[43mkwargs\u001b[49m\u001b[43m[\u001b[49m\u001b[43mkey\u001b[49m\u001b[43m]\u001b[49m\n",
      "\u001b[1;31mKeyError\u001b[0m: \"'symbols'\""
     ]
    }
   ],
   "source": [
    "chain = {\"command\": RunnablePassthrough()} | few_shot_prompt | llm_with_tools\n",
    "chain.invoke({\"command\": \"Hiện nay, một danh mục đầu tư của tôi bao gồm các mã cổ phiếu của sàn VNINDEX như là AAM, XPH, YEG, AAT. Tôi nên phân bổ vốn của mình như nào để tối ưu hóa danh mục đầu tư sao cho lợi nhuận được tối đa nhất trong chiến lược đầu tư dài hạn 6 tháng tới như thế nào?\"})\n"
   ]
  },
  {
   "cell_type": "code",
   "execution_count": null,
   "metadata": {},
   "outputs": [],
   "source": [
    "# from langchain_chroma import Chroma\n",
    "# from langchain_core.example_selectors import SemanticSimilarityExampleSelector\n",
    "# from langchain_openai import OpenAIEmbeddings\n",
    "\n",
    "# example_selector = SemanticSimilarityExampleSelector.from_examples(\n",
    "#     # This is the list of examples available to select from.\n",
    "#     examples,\n",
    "#     # This is the embedding class used to produce embeddings which are used to measure semantic similarity.\n",
    "#     OpenAIEmbeddings(),\n",
    "#     # This is the VectorStore class that is used to store the embeddings and do a similarity search over.\n",
    "#     Chroma,\n",
    "#     # This is the number of examples to produce.\n",
    "#     k=1,\n",
    "# )\n",
    "\n",
    "# # Select the most similar example to the input.\n",
    "# question = \"Who was the father of Mary Ball Washington?\"\n",
    "# selected_examples = example_selector.select_examples({\"question\": question})\n",
    "# print(f\"Examples most similar to the input: {question}\")\n",
    "# for example in selected_examples:\n",
    "#     print(\"\\n\")\n",
    "#     for k, v in example.items():\n",
    "#         print(f\"{k}: {v}\")"
   ]
  },
  {
   "cell_type": "code",
   "execution_count": null,
   "metadata": {},
   "outputs": [],
   "source": [
    "# # Giả sử bạn đã gọi công cụ và nhận được phản hồi\n",
    "# def process_tool_response(response):\n",
    "#     if 'tool_calls' in response:\n",
    "#         for tool_call in response['tool_calls']:\n",
    "#             print(f\"Công cụ: {tool_call['name']}\")\n",
    "#             print(f\"Tham số: {tool_call['args']}\")\n",
    "#     else:\n",
    "#         print(\"Phản hồi không chứa dữ liệu từ công cụ.\")\n",
    "\n",
    "# # Xử lý phản hồi\n",
    "# process_tool_response(response)\n"
   ]
  },
  {
   "cell_type": "code",
   "execution_count": null,
   "metadata": {},
   "outputs": [
    {
     "data": {
      "text/plain": [
       "'{\"error\": \"Có lẽ ngày này ngân hàng không làm việc, do đây có thể là thứ bảy chủ nhật hoặc ngày lễ\"}'"
      ]
     },
     "execution_count": 9,
     "metadata": {},
     "output_type": "execute_result"
    }
   ],
   "source": [
    "def get_api_stock(symbols, startday, endday):\n",
    "\n",
    "    stock = Vnstock().stock(symbol=symbols, source='TCBS')\n",
    "    \n",
    "    try:\n",
    "        startday = pd.to_datetime(startday).strftime('%Y-%m-%d')\n",
    "        endday = pd.to_datetime(endday).strftime('%Y-%m-%d')\n",
    "        df = stock.quote.history(start=startday, end=endday, interval='1D')\n",
    "        \n",
    "        if not df.empty:\n",
    "            df = df.map(lambda x: x.isoformat() if isinstance(x, (pd.Timestamp, pd.Timestamp)) else x)\n",
    "            result = df.to_dict(orient='records')\n",
    "        else:\n",
    "            result = {\"error\": \"Có lẽ ngày này ngân hàng không làm việc, do đây có thể là thứ bảy chủ nhật hoặc ngày lễ\"}\n",
    "        if startday==endday:\n",
    "            result = [record for record in result if record['time'].startswith(startday)]\n",
    "            if result.empty:\n",
    "                result={\"error\": \"Có lẽ ngày này ngân hàng không làm việc, do đây có thể là thứ bảy chủ nhật hoặc ngày lễ\"}\n",
    "\n",
    "    \n",
    "    except Exception as e:\n",
    "        result = {\"error\": \"Có lẽ ngày này ngân hàng không làm việc, do đây có thể là thứ bảy chủ nhật hoặc ngày lễ\"}\n",
    "\n",
    "    \n",
    "    return json.dumps(result, ensure_ascii=False)\n",
    "stock_data = get_api_stock(symbols=\"AAA\", startday=datetime.now().strftime('%Y-%m-%d'), endday=datetime.now().strftime('%Y-%m-%d'))\n",
    "stock_data"
   ]
  },
  {
   "cell_type": "code",
   "execution_count": null,
   "metadata": {},
   "outputs": [],
   "source": []
  }
 ],
 "metadata": {
  "kernelspec": {
   "display_name": "AI_prj_final",
   "language": "python",
   "name": "python3"
  },
  "language_info": {
   "codemirror_mode": {
    "name": "ipython",
    "version": 3
   },
   "file_extension": ".py",
   "mimetype": "text/x-python",
   "name": "python",
   "nbconvert_exporter": "python",
   "pygments_lexer": "ipython3",
   "version": "3.10.14"
  }
 },
 "nbformat": 4,
 "nbformat_minor": 2
}
