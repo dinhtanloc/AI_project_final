{
 "cells": [
  {
   "cell_type": "code",
   "execution_count": 5,
   "metadata": {},
   "outputs": [
    {
     "name": "stdout",
     "output_type": "stream",
     "text": [
      "Requirement already satisfied: torch in c:\\programdata\\miniconda3\\envs\\pytorch_gpu\\lib\\site-packages (2.4.0)\n",
      "Requirement already satisfied: torchvision in c:\\programdata\\miniconda3\\envs\\pytorch_gpu\\lib\\site-packages (0.19.0)\n",
      "Requirement already satisfied: transformers in c:\\programdata\\miniconda3\\envs\\pytorch_gpu\\lib\\site-packages (4.44.0)\n",
      "Requirement already satisfied: tiktoken in c:\\programdata\\miniconda3\\envs\\pytorch_gpu\\lib\\site-packages (0.7.0)\n",
      "Requirement already satisfied: verovio in c:\\programdata\\miniconda3\\envs\\pytorch_gpu\\lib\\site-packages (4.3.1)\n",
      "Requirement already satisfied: accelerate in c:\\programdata\\miniconda3\\envs\\pytorch_gpu\\lib\\site-packages (0.34.2)\n",
      "Requirement already satisfied: filelock in c:\\programdata\\miniconda3\\envs\\pytorch_gpu\\lib\\site-packages (from torch) (3.13.1)\n",
      "Requirement already satisfied: typing-extensions>=4.8.0 in c:\\programdata\\miniconda3\\envs\\pytorch_gpu\\lib\\site-packages (from torch) (4.12.2)\n",
      "Requirement already satisfied: sympy in c:\\programdata\\miniconda3\\envs\\pytorch_gpu\\lib\\site-packages (from torch) (1.12)\n",
      "Requirement already satisfied: networkx in c:\\programdata\\miniconda3\\envs\\pytorch_gpu\\lib\\site-packages (from torch) (3.1)\n",
      "Requirement already satisfied: jinja2 in c:\\programdata\\miniconda3\\envs\\pytorch_gpu\\lib\\site-packages (from torch) (3.1.4)\n",
      "Requirement already satisfied: fsspec in c:\\programdata\\miniconda3\\envs\\pytorch_gpu\\lib\\site-packages (from torch) (2024.6.1)\n",
      "Requirement already satisfied: numpy in c:\\programdata\\miniconda3\\envs\\pytorch_gpu\\lib\\site-packages (from torchvision) (1.24.3)\n",
      "Requirement already satisfied: pillow!=8.3.*,>=5.3.0 in c:\\programdata\\miniconda3\\envs\\pytorch_gpu\\lib\\site-packages (from torchvision) (10.2.0)\n",
      "Requirement already satisfied: huggingface-hub<1.0,>=0.23.2 in c:\\programdata\\miniconda3\\envs\\pytorch_gpu\\lib\\site-packages (from transformers) (0.24.5)\n",
      "Requirement already satisfied: packaging>=20.0 in c:\\programdata\\miniconda3\\envs\\pytorch_gpu\\lib\\site-packages (from transformers) (24.1)\n",
      "Requirement already satisfied: pyyaml>=5.1 in c:\\programdata\\miniconda3\\envs\\pytorch_gpu\\lib\\site-packages (from transformers) (6.0.1)\n",
      "Requirement already satisfied: regex!=2019.12.17 in c:\\programdata\\miniconda3\\envs\\pytorch_gpu\\lib\\site-packages (from transformers) (2024.7.24)\n",
      "Requirement already satisfied: requests in c:\\programdata\\miniconda3\\envs\\pytorch_gpu\\lib\\site-packages (from transformers) (2.32.3)\n",
      "Requirement already satisfied: safetensors>=0.4.1 in c:\\programdata\\miniconda3\\envs\\pytorch_gpu\\lib\\site-packages (from transformers) (0.4.4)\n",
      "Requirement already satisfied: tokenizers<0.20,>=0.19 in c:\\programdata\\miniconda3\\envs\\pytorch_gpu\\lib\\site-packages (from transformers) (0.19.1)\n",
      "Requirement already satisfied: tqdm>=4.27 in c:\\programdata\\miniconda3\\envs\\pytorch_gpu\\lib\\site-packages (from transformers) (4.66.4)\n",
      "Requirement already satisfied: psutil in c:\\programdata\\miniconda3\\envs\\pytorch_gpu\\lib\\site-packages (from accelerate) (6.0.0)\n",
      "Requirement already satisfied: charset-normalizer<4,>=2 in c:\\programdata\\miniconda3\\envs\\pytorch_gpu\\lib\\site-packages (from requests->transformers) (3.3.2)\n",
      "Requirement already satisfied: idna<4,>=2.5 in c:\\programdata\\miniconda3\\envs\\pytorch_gpu\\lib\\site-packages (from requests->transformers) (3.7)\n",
      "Requirement already satisfied: urllib3<3,>=1.21.1 in c:\\programdata\\miniconda3\\envs\\pytorch_gpu\\lib\\site-packages (from requests->transformers) (2.2.2)\n",
      "Requirement already satisfied: certifi>=2017.4.17 in c:\\programdata\\miniconda3\\envs\\pytorch_gpu\\lib\\site-packages (from requests->transformers) (2024.7.4)\n",
      "Requirement already satisfied: colorama in c:\\programdata\\miniconda3\\envs\\pytorch_gpu\\lib\\site-packages (from tqdm>=4.27->transformers) (0.4.6)\n",
      "Requirement already satisfied: MarkupSafe>=2.0 in c:\\programdata\\miniconda3\\envs\\pytorch_gpu\\lib\\site-packages (from jinja2->torch) (2.1.3)\n",
      "Requirement already satisfied: mpmath>=0.19 in c:\\programdata\\miniconda3\\envs\\pytorch_gpu\\lib\\site-packages (from sympy->torch) (1.3.0)\n",
      "Requirement already satisfied: verovio in c:\\programdata\\miniconda3\\envs\\pytorch_gpu\\lib\\site-packages (4.3.1)\n",
      "Collecting importlib_resources\n",
      "  Using cached importlib_resources-6.4.5-py3-none-any.whl.metadata (4.0 kB)\n",
      "Requirement already satisfied: zipp>=3.1.0 in c:\\programdata\\miniconda3\\envs\\pytorch_gpu\\lib\\site-packages (from importlib_resources) (3.19.2)\n",
      "Using cached importlib_resources-6.4.5-py3-none-any.whl (36 kB)\n",
      "Installing collected packages: importlib_resources\n",
      "Successfully installed importlib_resources-6.4.5\n"
     ]
    }
   ],
   "source": [
    "!pip install torch torchvision transformers tiktoken verovio accelerate\n",
    "!pip install verovio importlib_resources"
   ]
  },
  {
   "cell_type": "code",
   "execution_count": 6,
   "metadata": {},
   "outputs": [
    {
     "name": "stdout",
     "output_type": "stream",
     "text": [
      "Sun Oct  6 02:26:01 2024       \n",
      "+-----------------------------------------------------------------------------------------+\n",
      "| NVIDIA-SMI 555.85                 Driver Version: 555.85         CUDA Version: 12.5     |\n",
      "|-----------------------------------------+------------------------+----------------------+\n",
      "| GPU  Name                  Driver-Model | Bus-Id          Disp.A | Volatile Uncorr. ECC |\n",
      "| Fan  Temp   Perf          Pwr:Usage/Cap |           Memory-Usage | GPU-Util  Compute M. |\n",
      "|                                         |                        |               MIG M. |\n",
      "|=========================================+========================+======================|\n",
      "|   0  NVIDIA GeForce RTX 4060 Ti   WDDM  |   00000000:01:00.0  On |                  N/A |\n",
      "|  0%   43C    P8             19W /  165W |    1771MiB /  16380MiB |      2%      Default |\n",
      "|                                         |                        |                  N/A |\n",
      "+-----------------------------------------+------------------------+----------------------+\n",
      "                                                                                         \n",
      "+-----------------------------------------------------------------------------------------+\n",
      "| Processes:                                                                              |\n",
      "|  GPU   GI   CI        PID   Type   Process name                              GPU Memory |\n",
      "|        ID   ID                                                               Usage      |\n",
      "|=========================================================================================|\n",
      "|    0   N/A  N/A       928    C+G   ...617_x64__8wekyb3d8bbwe\\ms-teams.exe      N/A      |\n",
      "|    0   N/A  N/A      2920    C+G   ...nt.CBS_cw5n1h2txyewy\\SearchHost.exe      N/A      |\n",
      "|    0   N/A  N/A      3196    C+G   ...GeForce Experience\\NVIDIA Share.exe      N/A      |\n",
      "|    0   N/A  N/A      8388    C+G   ...GeForce Experience\\NVIDIA Share.exe      N/A      |\n",
      "|    0   N/A  N/A      8940    C+G   ...CBS_cw5n1h2txyewy\\TextInputHost.exe      N/A      |\n",
      "|    0   N/A  N/A     10352    C+G   C:\\Windows\\System32\\dwm.exe                 N/A      |\n",
      "|    0   N/A  N/A     11796    C+G   ...siveControlPanel\\SystemSettings.exe      N/A      |\n",
      "|    0   N/A  N/A     12592    C+G   ...on\\129.0.2792.79\\msedgewebview2.exe      N/A      |\n",
      "|    0   N/A  N/A     13772    C+G   ...cal\\Microsoft\\OneDrive\\OneDrive.exe      N/A      |\n",
      "|    0   N/A  N/A     15032    C+G   ...cal\\Microsoft\\OneDrive\\OneDrive.exe      N/A      |\n",
      "|    0   N/A  N/A     15636    C+G   ...inaries\\Win64\\EpicGamesLauncher.exe      N/A      |\n",
      "|    0   N/A  N/A     17228    C+G   ...ekyb3d8bbwe\\PhoneExperienceHost.exe      N/A      |\n",
      "|    0   N/A  N/A     18328    C+G   ...C\\AppData\\Roaming\\Zoom\\bin\\Zoom.exe      N/A      |\n",
      "|    0   N/A  N/A     18800    C+G   ...24.9.3\\plugins\\capture\\ZaloCall.exe      N/A      |\n",
      "|    0   N/A  N/A     18820    C+G   ...on\\129.0.2792.79\\msedgewebview2.exe      N/A      |\n",
      "|    0   N/A  N/A     19792    C+G   ...\\Local\\slack\\app-4.40.128\\slack.exe      N/A      |\n",
      "|    0   N/A  N/A     20540    C+G   ...\\cef\\cef.win7x64\\steamwebhelper.exe      N/A      |\n",
      "|    0   N/A  N/A     22424    C+G   ...les\\microsoft shared\\ink\\TabTip.exe      N/A      |\n",
      "|    0   N/A  N/A     23120    C+G   ...617_x64__8wekyb3d8bbwe\\ms-teams.exe      N/A      |\n",
      "|    0   N/A  N/A     25456    C+G   ...on\\129.0.2792.79\\msedgewebview2.exe      N/A      |\n",
      "|    0   N/A  N/A     26064    C+G   ...oogle\\Chrome\\Application\\chrome.exe      N/A      |\n",
      "|    0   N/A  N/A     26944    C+G   ...Programs\\Microsoft VS Code\\Code.exe      N/A      |\n",
      "|    0   N/A  N/A     27444    C+G   ...\\cef\\cef.win7x64\\steamwebhelper.exe      N/A      |\n",
      "|    0   N/A  N/A     28216    C+G   ...ne\\Binaries\\Win64\\EpicWebHelper.exe      N/A      |\n",
      "|    0   N/A  N/A     29596    C+G   ...2txyewy\\StartMenuExperienceHost.exe      N/A      |\n",
      "|    0   N/A  N/A     35276    C+G   ...Data\\Local\\Programs\\Canva\\Canva.exe      N/A      |\n",
      "|    0   N/A  N/A     35308    C+G   ...617_x64__8wekyb3d8bbwe\\ms-teams.exe      N/A      |\n",
      "|    0   N/A  N/A     35464    C+G   ...oogle\\Chrome\\Application\\chrome.exe      N/A      |\n",
      "|    0   N/A  N/A     35612    C+G   ...e Stream\\97.0.1.0\\GoogleDriveFS.exe      N/A      |\n",
      "|    0   N/A  N/A     35660    C+G   ...5n1h2txyewy\\ShellExperienceHost.exe      N/A      |\n",
      "|    0   N/A  N/A     35696    C+G   ...al\\Discord\\app-1.0.9166\\Discord.exe      N/A      |\n",
      "|    0   N/A  N/A     37212    C+G   ...crosoft\\Edge\\Application\\msedge.exe      N/A      |\n",
      "|    0   N/A  N/A     39120    C+G   ...\\Programs\\Zalo\\Zalo-24.9.3\\Zalo.exe      N/A      |\n",
      "|    0   N/A  N/A     40844    C+G   C:\\Windows\\explorer.exe                     N/A      |\n",
      "+-----------------------------------------------------------------------------------------+\n"
     ]
    }
   ],
   "source": [
    "!nvidia-smi"
   ]
  },
  {
   "cell_type": "code",
   "execution_count": 7,
   "metadata": {},
   "outputs": [],
   "source": [
    "import verovio\n"
   ]
  },
  {
   "cell_type": "code",
   "execution_count": 9,
   "metadata": {},
   "outputs": [
    {
     "name": "stderr",
     "output_type": "stream",
     "text": [
      "A new version of the following files was downloaded from https://huggingface.co/stepfun-ai/GOT-OCR2_0:\n",
      "- got_vision_b.py\n",
      ". Make sure to double-check they do not contain any added malicious code. To avoid downloading new versions of the code file, you can pin a revision.\n",
      "A new version of the following files was downloaded from https://huggingface.co/stepfun-ai/GOT-OCR2_0:\n",
      "- render_tools.py\n",
      ". Make sure to double-check they do not contain any added malicious code. To avoid downloading new versions of the code file, you can pin a revision.\n",
      "A new version of the following files was downloaded from https://huggingface.co/stepfun-ai/GOT-OCR2_0:\n",
      "- modeling_GOT.py\n",
      "- got_vision_b.py\n",
      "- render_tools.py\n",
      ". Make sure to double-check they do not contain any added malicious code. To avoid downloading new versions of the code file, you can pin a revision.\n"
     ]
    }
   ],
   "source": [
    "from transformers import AutoModel, AutoTokenizer\n",
    "\n",
    "from transformers import AutoModel\n",
    "tokenizer = AutoTokenizer.from_pretrained('ucaslcl/GOT-OCR2_0', trust_remote_code=True)\n",
    "model = AutoModel.from_pretrained('ucaslcl/GOT-OCR2_0', trust_remote_code=True, low_cpu_mem_usage=True, device_map='cuda', use_safetensors=True, pad_token_id=tokenizer.eos_token_id)\n",
    "model = model.eval().cuda()"
   ]
  },
  {
   "cell_type": "code",
   "execution_count": 10,
   "metadata": {},
   "outputs": [
    {
     "name": "stderr",
     "output_type": "stream",
     "text": [
      "The attention mask and the pad token id were not set. As a consequence, you may observe unexpected behavior. Please pass your input's `attention_mask` to obtain reliable results.\n",
      "Setting `pad_token_id` to `eos_token_id`:151643 for open-end generation.\n",
      "The attention mask is not set and cannot be inferred from input because pad token is same as eos token. As a consequence, you may observe unexpected behavior. Please pass your input's `attention_mask` to obtain reliable results.\n",
      "The `seen_tokens` attribute is deprecated and will be removed in v4.41. Use the `cache_position` model input instead.\n",
      "c:\\ProgramData\\miniconda3\\envs\\pytorch_gpu\\lib\\site-packages\\transformers\\models\\qwen2\\modeling_qwen2.py:580: UserWarning: 1Torch was not compiled with flash attention. (Triggered internally at C:\\cb\\pytorch_1000000000000\\work\\aten\\src\\ATen\\native\\transformers\\cuda\\sdp_utils.cpp:555.)\n",
      "  attn_output = torch.nn.functional.scaled_dot_product_attention(\n"
     ]
    }
   ],
   "source": [
    "image_file = 'image.png'\n",
    "\n",
    "# plain texts OCR\n",
    "res = model.chat(tokenizer, image_file, ocr_type='ocr')"
   ]
  },
  {
   "cell_type": "code",
   "execution_count": 11,
   "metadata": {},
   "outputs": [
    {
     "name": "stdout",
     "output_type": "stream",
     "text": [
      "HÓA ĐÔN GIÁ TRI GIA TÂNG\n",
      "(Hóa dom chuyén dói tù hóa dom diên tù)\n",
      "Ngày 16 tháng 10 năm 2017\n",
      "Mã suś: 01GTKT0/001\n",
      "Ký hiču: HM/17E\n",
      "Ső: 0000003\n",
      "Don vì bàn hàng: Công ty có phàn ABC\n",
      "Mã só thuê: 0101243150\n",
      "Dja chi: Tăng 9 Technosoft, Duy Tân, Câu Giáy, Hà Nói\n",
      "Diên thoqi: 04 3795 9595\n",
      "Só tài khoán: 010236542365\n",
      "Họ tên người mua hàng: Nguyên Vân Tên\n",
      "Tên don vì: Công ty TNHH Báo Ngọc\n",
      "Mã só thuê: 0101243150\n",
      "Đja chi: 123 Trân Binh - Mai Dich - Câu Giáy - Há Nói\n",
      "Hình thúc̄̄ thanh toán: TM/CK\n",
      "Só tài khoán:\n",
      "SÍT\n",
      "Mã hàng\n",
      "Tên hàng háa, dich vụ\n",
      "Đôn vì tính\n",
      "Só lùrgng\n",
      "Đôn giá\n",
      "Thành tiên\n",
      "A\n",
      "B\n",
      "C\n",
      "D\n",
      "1\n",
      "2\n",
      "3 = 1 x 2\n",
      "1\n",
      "TL_HITACHI\n",
      "110\n",
      "Tù lanh Hitachi 110 lít\n",
      "Chićc\n",
      "1\n",
      "8.000.000\n",
      "8.000.000\n",
      "Công tiên hàng:\n",
      "8.000.000\n",
      "Thuê suất GTGT: 10 %\n",
      "Tiên thuê GTGT:\n",
      "800.000\n",
      "Tông tiên thanh toán:\n",
      "8.800.000\n",
      "Só tiên véit bằng chù: Tám tr groupe tam trăm nghìn dòng chân.\n",
      "Nguròi chuyên dói\n",
      "(Ký, ghi rō họ, tên)\n",
      "Nguròi mua hàng\n",
      "(Ký, ghi rō họ, tên)\n",
      "Nguròi bán hàng\n",
      "(Ký, ghi rō họ, tên)\n",
      "Lê Thanh Nam\n",
      "Ngày chuyên dói: 17/10/2017\n",
      "Ký bái: CONG TY OOPHÁN ABC\n",
      "Ký ngày: Ngay 16 tháng 10 nám 2017\n"
     ]
    }
   ],
   "source": [
    "print(res)\n"
   ]
  },
  {
   "cell_type": "code",
   "execution_count": null,
   "metadata": {},
   "outputs": [],
   "source": []
  }
 ],
 "metadata": {
  "kernelspec": {
   "display_name": "pytorch_gpu",
   "language": "python",
   "name": "python3"
  },
  "language_info": {
   "codemirror_mode": {
    "name": "ipython",
    "version": 3
   },
   "file_extension": ".py",
   "mimetype": "text/x-python",
   "name": "python",
   "nbconvert_exporter": "python",
   "pygments_lexer": "ipython3",
   "version": "3.8.19"
  }
 },
 "nbformat": 4,
 "nbformat_minor": 2
}
