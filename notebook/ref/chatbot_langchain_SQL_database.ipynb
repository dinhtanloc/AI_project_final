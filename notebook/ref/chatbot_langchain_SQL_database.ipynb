{
 "cells": [
  {
   "cell_type": "code",
   "execution_count": 1,
   "metadata": {},
   "outputs": [
    {
     "name": "stdout",
     "output_type": "stream",
     "text": [
      "e:\\User\\PC\\AI_project\\AI_final\n"
     ]
    }
   ],
   "source": [
    "import sys,os\n",
    "__script_path=os.path.abspath(globals().get('__file__','.'))\n",
    "__script_dir = os.path.dirname(__script_path)\n",
    "root_dir = os.path.abspath(f'{__script_dir}')\n",
    "print(root_dir)\n",
    "for lib in [root_dir][::-1]:\n",
    "    if lib in sys.path:\n",
    "        sys.path.remove(lib)\n",
    "    sys.path.insert(0,lib)"
   ]
  },
  {
   "cell_type": "code",
   "execution_count": 2,
   "metadata": {},
   "outputs": [],
   "source": [
    "from libs.common import *\n"
   ]
  },
  {
   "cell_type": "code",
   "execution_count": 3,
   "metadata": {},
   "outputs": [
    {
     "data": {
      "text/plain": [
       "True"
      ]
     },
     "execution_count": 3,
     "metadata": {},
     "output_type": "execute_result"
    }
   ],
   "source": [
    "load_dotenv(find_dotenv())\n"
   ]
  },
  {
   "cell_type": "code",
   "execution_count": 1,
   "metadata": {},
   "outputs": [],
   "source": [
    "# os.getenv('POSTGRESQL_DBMS_KEY')\n"
   ]
  },
  {
   "cell_type": "code",
   "execution_count": 5,
   "metadata": {},
   "outputs": [
    {
     "name": "stdout",
     "output_type": "stream",
     "text": [
      "<langchain_community.utilities.sql_database.SQLDatabase object at 0x00000264236CA170>\n"
     ]
    }
   ],
   "source": [
    "db = SQLDatabase.from_uri(os.getenv('POSTGRESQL_DBMS_KEY'))\n",
    "print(db)\n"
   ]
  },
  {
   "cell_type": "code",
   "execution_count": 6,
   "metadata": {},
   "outputs": [
    {
     "name": "stdout",
     "output_type": "stream",
     "text": [
      "postgresql\n",
      "['company_events', 'company_news', 'company_profiles', 'company_ratio_finance']\n"
     ]
    }
   ],
   "source": [
    "print(db.dialect)\n",
    "print(db.get_usable_table_names())\n",
    "\n",
    "\n",
    "\n",
    "\n",
    "\n",
    "\n",
    "\n",
    "\n",
    "\n"
   ]
  },
  {
   "cell_type": "code",
   "execution_count": 7,
   "metadata": {},
   "outputs": [],
   "source": [
    "llm = ChatOpenAI(\n",
    "    model_name=\"gpt-3.5-turbo\",\n",
    "    openai_api_key=os.getenv('OPEN_API_KEY'))\n"
   ]
  },
  {
   "cell_type": "code",
   "execution_count": 11,
   "metadata": {},
   "outputs": [
    {
     "name": "stdout",
     "output_type": "stream",
     "text": [
      "SELECT \"title\", \"source\", \"publish_date\"\n",
      "FROM company_news\n",
      "WHERE ticker = 'A32' AND publish_date >= '2024-01-01' AND publish_date < '2025-01-01'\n",
      "ORDER BY publish_date DESC\n",
      "LIMIT 5;\n"
     ]
    }
   ],
   "source": [
    "chain = create_sql_query_chain(llm, db)\n",
    "response = chain.invoke({\"question\": \"Năm 2024 có những sự kiện gì nổi bật đối với công ty mã A32\"})\n",
    "print(response)"
   ]
  },
  {
   "cell_type": "code",
   "execution_count": 12,
   "metadata": {},
   "outputs": [
    {
     "data": {
      "text/plain": [
       "\"[('A32: Ngày đăng ký cuối cùng trả cổ tức bằng tiền mặt', 'TCBS', '2024-08-09 10:53:00'), ('A32: Thông báo ngày đăng ký cuối cùng thực hiện trả cổ tức còn lại năm 2023 bằng tiền', 'TCBS', '2024-08-07 15:43:00'), ('A32: Nghị quyết Hội đồng quản trị', 'TCBS', '2024-08-07 15:42:00'), ('A32: Nghị quyết Đại hội đồng cổ đông thường niên năm 2024', 'TCBS', '2024-08-07 10:44:00'), ('A32: Điều lệ tổ chức và hoạt động sửa đổi lần thứ 6', 'TCBS', '2024-08-06 14:49:00')]\""
      ]
     },
     "execution_count": 12,
     "metadata": {},
     "output_type": "execute_result"
    }
   ],
   "source": [
    "db.run(response)\n"
   ]
  },
  {
   "cell_type": "code",
   "execution_count": null,
   "metadata": {},
   "outputs": [],
   "source": [
    "chain.get_prompts()[0].pretty_print()\n"
   ]
  },
  {
   "cell_type": "code",
   "execution_count": 13,
   "metadata": {},
   "outputs": [
    {
     "data": {
      "text/plain": [
       "\"[('A32: Ngày đăng ký cuối cùng trả cổ tức bằng tiền mặt', 'TCBS', '2024-08-09 10:53:00'), ('A32: Thông báo ngày đăng ký cuối cùng thực hiện trả cổ tức còn lại năm 2023 bằng tiền', 'TCBS', '2024-08-07 15:43:00'), ('A32: Nghị quyết Hội đồng quản trị', 'TCBS', '2024-08-07 15:42:00'), ('A32: Nghị quyết Đại hội đồng cổ đông thường niên năm 2024', 'TCBS', '2024-08-07 10:44:00'), ('A32: Điều lệ tổ chức và hoạt động sửa đổi lần thứ 6', 'TCBS', '2024-08-06 14:49:00')]\""
      ]
     },
     "execution_count": 13,
     "metadata": {},
     "output_type": "execute_result"
    }
   ],
   "source": [
    "from langchain_community.tools.sql_database.tool import QuerySQLDataBaseTool\n",
    "\n",
    "write_query = create_sql_query_chain(llm, db)\n",
    "execute_query = QuerySQLDataBaseTool(db=db)\n",
    "\n",
    "chain = write_query | execute_query\n",
    "\n",
    "chain.invoke({\"question\": \"Năm 2024 có những sự kiện gì nổi bật đối với công ty mã A32\"})"
   ]
  },
  {
   "cell_type": "code",
   "execution_count": 14,
   "metadata": {},
   "outputs": [
    {
     "data": {
      "text/plain": [
       "'Trong năm 2024, các sự kiện nổi bật đối với công ty mã A32 bao gồm:\\n1. Ngày đăng ký cuối cùng trả cổ tức bằng tiền mặt\\n2. Thông báo ngày đăng ký cuối cùng thực hiện trả cổ tức còn lại năm 2023 bằng tiền\\n3. Nghị quyết Hội đồng quản trị\\n4. Nghị quyết Đại hội đồng cổ đông thường niên năm 2024\\n5. Điều lệ tổ chức và hoạt động sửa đổi lần thứ 6\\n\\nCác thông tin này được đăng trên trang web TCBS vào các ngày trong tháng 8 năm 2024.'"
      ]
     },
     "execution_count": 14,
     "metadata": {},
     "output_type": "execute_result"
    }
   ],
   "source": [
    "from operator import itemgetter\n",
    "from langchain_core.output_parsers import StrOutputParser\n",
    "from langchain_core.prompts import PromptTemplate\n",
    "from langchain_core.runnables import RunnablePassthrough\n",
    "\n",
    "answer_prompt = PromptTemplate.from_template(\n",
    "    \"\"\"Given the following user question, corresponding SQL query, and SQL result, answer the user question.\n",
    "\n",
    "Question: {question}\n",
    "SQL Query: {query}\n",
    "SQL Result: {result}\n",
    "Answer: \"\"\"\n",
    ")\n",
    "\n",
    "answer = answer_prompt | llm | StrOutputParser()\n",
    "chain = (\n",
    "    RunnablePassthrough.assign(query=write_query).assign(\n",
    "        result=itemgetter(\"query\") | execute_query\n",
    "    )\n",
    "    | answer\n",
    ")\n",
    "\n",
    "chain.invoke({\"question\": \"Năm 2024 có những sự kiện gì nổi bật đối với công ty mã A32\"})"
   ]
  },
  {
   "cell_type": "code",
   "execution_count": null,
   "metadata": {},
   "outputs": [],
   "source": [
    "from langchain_community.agent_toolkits import create_sql_agent\n",
    "\n",
    "agent_executor = create_sql_agent(llm, db=db, agent_type=\"openai-tools\", verbose=True)"
   ]
  },
  {
   "cell_type": "code",
   "execution_count": null,
   "metadata": {},
   "outputs": [],
   "source": [
    "agent_executor.invoke(\n",
    "    {\n",
    "        \"input\": \"List the total sales per country. Which country's customers spent the most?\"\n",
    "    }\n",
    ")"
   ]
  }
 ],
 "metadata": {
  "kernelspec": {
   "display_name": "AI_prj_final",
   "language": "python",
   "name": "python3"
  },
  "language_info": {
   "codemirror_mode": {
    "name": "ipython",
    "version": 3
   },
   "file_extension": ".py",
   "mimetype": "text/x-python",
   "name": "python",
   "nbconvert_exporter": "python",
   "pygments_lexer": "ipython3",
   "version": "3.10.14"
  }
 },
 "nbformat": 4,
 "nbformat_minor": 2
}
