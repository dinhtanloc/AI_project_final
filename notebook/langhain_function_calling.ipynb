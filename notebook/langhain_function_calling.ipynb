{
 "cells": [
  {
   "cell_type": "code",
   "execution_count": 1,
   "metadata": {},
   "outputs": [
    {
     "data": {
      "text/plain": [
       "{'tool_calls': [{'id': 'id_value',\n",
       "   'function': {'arguments': '{\"arg_name\": \"arg_value\"}', 'name': 'tool_name'},\n",
       "   'type': 'function'}]}"
      ]
     },
     "execution_count": 1,
     "metadata": {},
     "output_type": "execute_result"
    }
   ],
   "source": [
    "{\n",
    "  \"tool_calls\": [\n",
    "    {\n",
    "      \"id\": \"id_value\",\n",
    "      \"function\": {\n",
    "        \"arguments\": '{\"arg_name\": \"arg_value\"}',\n",
    "        \"name\": \"tool_name\"\n",
    "      },\n",
    "      \"type\": \"function\"\n",
    "    }\n",
    "  ]\n",
    "}"
   ]
  },
  {
   "cell_type": "code",
   "execution_count": 4,
   "metadata": {},
   "outputs": [],
   "source": [
    "from langchain_core.tools import tool\n",
    "\n",
    "\n",
    "@tool\n",
    "def add(a: int, b: int) -> int:\n",
    "    \"\"\"Adds a and b.\n",
    "\n",
    "    Args:\n",
    "        a: first int\n",
    "        b: second int\n",
    "    \"\"\"\n",
    "    return a + b\n",
    "\n",
    "\n",
    "@tool\n",
    "def multiply(a: int, b: int) -> int:\n",
    "    \"\"\"Multiplies a and b.\n",
    "\n",
    "    Args:\n",
    "        a: first int\n",
    "        b: second int\n",
    "    \"\"\"\n",
    "    return a * b\n",
    "\n",
    "\n",
    "tools = [add, multiply]"
   ]
  },
  {
   "cell_type": "markdown",
   "metadata": {},
   "source": [
    "#### Defining tool schemas: Pydantic class"
   ]
  },
  {
   "cell_type": "code",
   "execution_count": 3,
   "metadata": {},
   "outputs": [],
   "source": [
    "from langchain_core.pydantic_v1 import BaseModel, Field\n",
    "\n",
    "\n",
    "# Note that the docstrings here are crucial, as they will be passed along\n",
    "# to the model along with the class name.\n",
    "class add(BaseModel):\n",
    "    \"\"\"Add two integers together.\"\"\"\n",
    "\n",
    "    a: int = Field(..., description=\"First integer\")\n",
    "    b: int = Field(..., description=\"Second integer\")\n",
    "\n",
    "\n",
    "class multiply(BaseModel):\n",
    "    \"\"\"Multiply two integers together.\"\"\"\n",
    "\n",
    "    a: int = Field(..., description=\"First integer\")\n",
    "    b: int = Field(..., description=\"Second integer\")\n",
    "\n",
    "\n",
    "tools = [add, multiply]"
   ]
  },
  {
   "cell_type": "code",
   "execution_count": 4,
   "metadata": {},
   "outputs": [],
   "source": [
    "!pip install -qU langchain-openai"
   ]
  },
  {
   "cell_type": "code",
   "execution_count": 1,
   "metadata": {},
   "outputs": [],
   "source": [
    "import getpass\n",
    "import os\n",
    "from dotenv import load_dotenv, find_dotenv\n",
    "load_dotenv(find_dotenv())"
   ]
  },
  {
   "cell_type": "code",
   "execution_count": 2,
   "metadata": {},
   "outputs": [],
   "source": [
    "from langchain_openai import ChatOpenAI\n",
    "\n",
    "llm = ChatOpenAI(model=\"gpt-3.5-turbo-0125\", api_key=os.getenv(\"OPEN_API_KEY\"))"
   ]
  },
  {
   "cell_type": "code",
   "execution_count": 5,
   "metadata": {},
   "outputs": [],
   "source": [
    "llm_with_tools = llm.bind_tools(tools)"
   ]
  },
  {
   "cell_type": "markdown",
   "metadata": {},
   "source": [
    "Currently tool_choice=\"any\" functionality is supported by OpenAI, MistralAI, FireworksAI, and Groq.\n",
    "\n",
    "Currently Anthropic does not support tool_choice at all."
   ]
  },
  {
   "cell_type": "code",
   "execution_count": 8,
   "metadata": {},
   "outputs": [],
   "source": [
    "# If we wanted our model to always call the multiply tool we could do:\n",
    "always_multiply_llm = llm.bind_tools([multiply], tool_choice=\"multiply\")\n",
    "\n",
    "# And if we wanted it to always call at least one of add or multiply, we could do:\n",
    "always_call_tool_llm = llm.bind_tools([add, multiply], tool_choice=\"any\")"
   ]
  },
  {
   "cell_type": "code",
   "execution_count": 9,
   "metadata": {},
   "outputs": [
    {
     "data": {
      "text/plain": [
       "[{'name': 'multiply',\n",
       "  'args': {'a': 3, 'b': 12},\n",
       "  'id': 'call_scTrd1pdcUlvwldhULN10Wqf',\n",
       "  'type': 'tool_call'},\n",
       " {'name': 'add',\n",
       "  'args': {'a': 11, 'b': 49},\n",
       "  'id': 'call_xXj6CLSHAQjLdpY7Rzu6m1BZ',\n",
       "  'type': 'tool_call'}]"
      ]
     },
     "execution_count": 9,
     "metadata": {},
     "output_type": "execute_result"
    }
   ],
   "source": [
    "query = \"What is 3 * 12? Also, what is 11 + 49?\"\n",
    "\n",
    "llm_with_tools.invoke(query).tool_calls\n",
    "\n",
    "\n",
    "# Output\n",
    "# [{'name': 'multiply',\n",
    "#   'args': {'a': 3, 'b': 12},\n",
    "#   'id': 'call_UL7E2232GfDHIQGOM4gJfEDD'},\n",
    "#  {'name': 'add',\n",
    "#   'args': {'a': 11, 'b': 49},\n",
    "#   'id': 'call_VKw8t5tpAuzvbHgdAXe9mjUx'}]"
   ]
  },
  {
   "cell_type": "code",
   "execution_count": 10,
   "metadata": {},
   "outputs": [
    {
     "data": {
      "text/plain": [
       "[multiply(a=3, b=12), add(a=11, b=49)]"
      ]
     },
     "execution_count": 10,
     "metadata": {},
     "output_type": "execute_result"
    }
   ],
   "source": [
    "from langchain_core.output_parsers.openai_tools import PydanticToolsParser\n",
    "\n",
    "chain = llm_with_tools | PydanticToolsParser(tools=[multiply, add])\n",
    "chain.invoke(query)\n",
    "#[multiply(a=3, b=12), add(a=11, b=49)]"
   ]
  },
  {
   "cell_type": "code",
   "execution_count": 11,
   "metadata": {},
   "outputs": [
    {
     "name": "stdout",
     "output_type": "stream",
     "text": [
      "[]\n",
      "[{'name': 'multiply', 'args': '', 'id': 'call_WX5i9wQiHsmpMt8G0Qfd4ahJ', 'index': 0, 'type': 'tool_call_chunk'}]\n",
      "[{'name': None, 'args': '{\"a\"', 'id': None, 'index': 0, 'type': 'tool_call_chunk'}]\n",
      "[{'name': None, 'args': ': 3, ', 'id': None, 'index': 0, 'type': 'tool_call_chunk'}]\n",
      "[{'name': None, 'args': '\"b\": 1', 'id': None, 'index': 0, 'type': 'tool_call_chunk'}]\n",
      "[{'name': None, 'args': '2}', 'id': None, 'index': 0, 'type': 'tool_call_chunk'}]\n",
      "[{'name': 'add', 'args': '', 'id': 'call_Fi9CpRc5fiNqvGjFCyRQ0PlW', 'index': 1, 'type': 'tool_call_chunk'}]\n",
      "[{'name': None, 'args': '{\"a\"', 'id': None, 'index': 1, 'type': 'tool_call_chunk'}]\n",
      "[{'name': None, 'args': ': 11,', 'id': None, 'index': 1, 'type': 'tool_call_chunk'}]\n",
      "[{'name': None, 'args': ' \"b\": ', 'id': None, 'index': 1, 'type': 'tool_call_chunk'}]\n",
      "[{'name': None, 'args': '49}', 'id': None, 'index': 1, 'type': 'tool_call_chunk'}]\n",
      "[]\n"
     ]
    }
   ],
   "source": [
    "async for chunk in llm_with_tools.astream(query):\n",
    "    print(chunk.tool_call_chunks)\n",
    "\n",
    "# []\n",
    "# [{'name': 'multiply', 'args': '', 'id': 'call_5Gdgx3R2z97qIycWKixgD2OU', 'index': 0}]\n",
    "# [{'name': None, 'args': '{\"a\"', 'id': None, 'index': 0}]\n",
    "# [{'name': None, 'args': ': 3, ', 'id': None, 'index': 0}]\n",
    "# [{'name': None, 'args': '\"b\": 1', 'id': None, 'index': 0}]\n",
    "# [{'name': None, 'args': '2}', 'id': None, 'index': 0}]\n",
    "# [{'name': 'add', 'args': '', 'id': 'call_DpeKaF8pUCmLP0tkinhdmBgD', 'index': 1}]\n",
    "# [{'name': None, 'args': '{\"a\"', 'id': None, 'index': 1}]\n",
    "# [{'name': None, 'args': ': 11,', 'id': None, 'index': 1}]\n",
    "# [{'name': None, 'args': ' \"b\": ', 'id': None, 'index': 1}]\n",
    "# [{'name': None, 'args': '49}', 'id': None, 'index': 1}]\n",
    "# []"
   ]
  },
  {
   "cell_type": "code",
   "execution_count": 12,
   "metadata": {},
   "outputs": [
    {
     "name": "stdout",
     "output_type": "stream",
     "text": [
      "[]\n",
      "[{'name': 'multiply', 'args': '', 'id': 'call_SLPozxmpGWpNzGSE6me5kTYG', 'index': 0, 'type': 'tool_call_chunk'}]\n",
      "[{'name': 'multiply', 'args': '{\"a\"', 'id': 'call_SLPozxmpGWpNzGSE6me5kTYG', 'index': 0, 'type': 'tool_call_chunk'}]\n",
      "[{'name': 'multiply', 'args': '{\"a\": 3, ', 'id': 'call_SLPozxmpGWpNzGSE6me5kTYG', 'index': 0, 'type': 'tool_call_chunk'}]\n",
      "[{'name': 'multiply', 'args': '{\"a\": 3, \"b\": 1', 'id': 'call_SLPozxmpGWpNzGSE6me5kTYG', 'index': 0, 'type': 'tool_call_chunk'}]\n",
      "[{'name': 'multiply', 'args': '{\"a\": 3, \"b\": 12}', 'id': 'call_SLPozxmpGWpNzGSE6me5kTYG', 'index': 0, 'type': 'tool_call_chunk'}]\n",
      "[{'name': 'multiply', 'args': '{\"a\": 3, \"b\": 12}', 'id': 'call_SLPozxmpGWpNzGSE6me5kTYG', 'index': 0, 'type': 'tool_call_chunk'}, {'name': 'add', 'args': '', 'id': 'call_7JQR1nOgyahiaGr0aWSrbsM8', 'index': 1, 'type': 'tool_call_chunk'}]\n",
      "[{'name': 'multiply', 'args': '{\"a\": 3, \"b\": 12}', 'id': 'call_SLPozxmpGWpNzGSE6me5kTYG', 'index': 0, 'type': 'tool_call_chunk'}, {'name': 'add', 'args': '{\"a\"', 'id': 'call_7JQR1nOgyahiaGr0aWSrbsM8', 'index': 1, 'type': 'tool_call_chunk'}]\n",
      "[{'name': 'multiply', 'args': '{\"a\": 3, \"b\": 12}', 'id': 'call_SLPozxmpGWpNzGSE6me5kTYG', 'index': 0, 'type': 'tool_call_chunk'}, {'name': 'add', 'args': '{\"a\": 11,', 'id': 'call_7JQR1nOgyahiaGr0aWSrbsM8', 'index': 1, 'type': 'tool_call_chunk'}]\n",
      "[{'name': 'multiply', 'args': '{\"a\": 3, \"b\": 12}', 'id': 'call_SLPozxmpGWpNzGSE6me5kTYG', 'index': 0, 'type': 'tool_call_chunk'}, {'name': 'add', 'args': '{\"a\": 11, \"b\": ', 'id': 'call_7JQR1nOgyahiaGr0aWSrbsM8', 'index': 1, 'type': 'tool_call_chunk'}]\n",
      "[{'name': 'multiply', 'args': '{\"a\": 3, \"b\": 12}', 'id': 'call_SLPozxmpGWpNzGSE6me5kTYG', 'index': 0, 'type': 'tool_call_chunk'}, {'name': 'add', 'args': '{\"a\": 11, \"b\": 49}', 'id': 'call_7JQR1nOgyahiaGr0aWSrbsM8', 'index': 1, 'type': 'tool_call_chunk'}]\n",
      "[{'name': 'multiply', 'args': '{\"a\": 3, \"b\": 12}', 'id': 'call_SLPozxmpGWpNzGSE6me5kTYG', 'index': 0, 'type': 'tool_call_chunk'}, {'name': 'add', 'args': '{\"a\": 11, \"b\": 49}', 'id': 'call_7JQR1nOgyahiaGr0aWSrbsM8', 'index': 1, 'type': 'tool_call_chunk'}]\n"
     ]
    }
   ],
   "source": [
    "first = True\n",
    "async for chunk in llm_with_tools.astream(query):\n",
    "    if first:\n",
    "        gathered = chunk\n",
    "        first = False\n",
    "    else:\n",
    "        gathered = gathered + chunk\n",
    "\n",
    "    print(gathered.tool_call_chunks)\n",
    "\n",
    "\n",
    "# []\n",
    "# [{'name': 'multiply', 'args': '', 'id': 'call_hXqj6HxzACkpiPG4hFFuIKuP', 'index': 0}]\n",
    "# [{'name': 'multiply', 'args': '{\"a\"', 'id': 'call_hXqj6HxzACkpiPG4hFFuIKuP', 'index': 0}]\n",
    "# [{'name': 'multiply', 'args': '{\"a\": 3, ', 'id': 'call_hXqj6HxzACkpiPG4hFFuIKuP', 'index': 0}]\n",
    "# [{'name': 'multiply', 'args': '{\"a\": 3, \"b\": 1', 'id': 'call_hXqj6HxzACkpiPG4hFFuIKuP', 'index': 0}]\n",
    "# [{'name': 'multiply', 'args': '{\"a\": 3, \"b\": 12}', 'id': 'call_hXqj6HxzACkpiPG4hFFuIKuP', 'index': 0}]\n",
    "# [{'name': 'multiply', 'args': '{\"a\": 3, \"b\": 12}', 'id': 'call_hXqj6HxzACkpiPG4hFFuIKuP', 'index': 0}, {'name': 'add', 'args': '', 'id': 'call_GERgANDUbRqdtmXRbIAS9JTS', 'index': 1}]\n",
    "# [{'name': 'multiply', 'args': '{\"a\": 3, \"b\": 12}', 'id': 'call_hXqj6HxzACkpiPG4hFFuIKuP', 'index': 0}, {'name': 'add', 'args': '{\"a\"', 'id': 'call_GERgANDUbRqdtmXRbIAS9JTS', 'index': 1}]\n",
    "# [{'name': 'multiply', 'args': '{\"a\": 3, \"b\": 12}', 'id': 'call_hXqj6HxzACkpiPG4hFFuIKuP', 'index': 0}, {'name': 'add', 'args': '{\"a\": 11,', 'id': 'call_GERgANDUbRqdtmXRbIAS9JTS', 'index': 1}]\n",
    "# [{'name': 'multiply', 'args': '{\"a\": 3, \"b\": 12}', 'id': 'call_hXqj6HxzACkpiPG4hFFuIKuP', 'index': 0}, {'name': 'add', 'args': '{\"a\": 11, \"b\": ', 'id': 'call_GERgANDUbRqdtmXRbIAS9JTS', 'index': 1}]\n",
    "# [{'name': 'multiply', 'args': '{\"a\": 3, \"b\": 12}', 'id': 'call_hXqj6HxzACkpiPG4hFFuIKuP', 'index': 0}, {'name': 'add', 'args': '{\"a\": 11, \"b\": 49}', 'id': 'call_GERgANDUbRqdtmXRbIAS9JTS', 'index': 1}]\n",
    "# [{'name': 'multiply', 'args': '{\"a\": 3, \"b\": 12}', 'id': 'call_hXqj6HxzACkpiPG4hFFuIKuP', 'index': 0}, {'name': 'add', 'args': '{\"a\": 11, \"b\": 49}', 'id': 'call_GERgANDUbRqdtmXRbIAS9JTS', 'index': 1}]"
   ]
  },
  {
   "cell_type": "code",
   "execution_count": 13,
   "metadata": {},
   "outputs": [
    {
     "name": "stdout",
     "output_type": "stream",
     "text": [
      "<class 'str'>\n"
     ]
    }
   ],
   "source": [
    "print(type(gathered.tool_call_chunks[0][\"args\"]))"
   ]
  },
  {
   "cell_type": "code",
   "execution_count": 14,
   "metadata": {},
   "outputs": [
    {
     "name": "stdout",
     "output_type": "stream",
     "text": [
      "[]\n",
      "[{'name': 'multiply', 'args': {}, 'id': 'call_ERxEjANgdWJJAvDuAhzPQ43F', 'type': 'tool_call'}]\n",
      "[{'name': 'multiply', 'args': {}, 'id': 'call_ERxEjANgdWJJAvDuAhzPQ43F', 'type': 'tool_call'}]\n",
      "[{'name': 'multiply', 'args': {'a': 3}, 'id': 'call_ERxEjANgdWJJAvDuAhzPQ43F', 'type': 'tool_call'}]\n",
      "[{'name': 'multiply', 'args': {'a': 3, 'b': 1}, 'id': 'call_ERxEjANgdWJJAvDuAhzPQ43F', 'type': 'tool_call'}]\n",
      "[{'name': 'multiply', 'args': {'a': 3, 'b': 12}, 'id': 'call_ERxEjANgdWJJAvDuAhzPQ43F', 'type': 'tool_call'}]\n",
      "[{'name': 'multiply', 'args': {'a': 3, 'b': 12}, 'id': 'call_ERxEjANgdWJJAvDuAhzPQ43F', 'type': 'tool_call'}, {'name': 'add', 'args': {}, 'id': 'call_GUxRoClLVDqyYjRaajFyzOPq', 'type': 'tool_call'}]\n",
      "[{'name': 'multiply', 'args': {'a': 3, 'b': 12}, 'id': 'call_ERxEjANgdWJJAvDuAhzPQ43F', 'type': 'tool_call'}, {'name': 'add', 'args': {}, 'id': 'call_GUxRoClLVDqyYjRaajFyzOPq', 'type': 'tool_call'}]\n",
      "[{'name': 'multiply', 'args': {'a': 3, 'b': 12}, 'id': 'call_ERxEjANgdWJJAvDuAhzPQ43F', 'type': 'tool_call'}, {'name': 'add', 'args': {'a': 11}, 'id': 'call_GUxRoClLVDqyYjRaajFyzOPq', 'type': 'tool_call'}]\n",
      "[{'name': 'multiply', 'args': {'a': 3, 'b': 12}, 'id': 'call_ERxEjANgdWJJAvDuAhzPQ43F', 'type': 'tool_call'}, {'name': 'add', 'args': {'a': 11}, 'id': 'call_GUxRoClLVDqyYjRaajFyzOPq', 'type': 'tool_call'}]\n",
      "[{'name': 'multiply', 'args': {'a': 3, 'b': 12}, 'id': 'call_ERxEjANgdWJJAvDuAhzPQ43F', 'type': 'tool_call'}, {'name': 'add', 'args': {'a': 11, 'b': 49}, 'id': 'call_GUxRoClLVDqyYjRaajFyzOPq', 'type': 'tool_call'}]\n",
      "[{'name': 'multiply', 'args': {'a': 3, 'b': 12}, 'id': 'call_ERxEjANgdWJJAvDuAhzPQ43F', 'type': 'tool_call'}, {'name': 'add', 'args': {'a': 11, 'b': 49}, 'id': 'call_GUxRoClLVDqyYjRaajFyzOPq', 'type': 'tool_call'}]\n"
     ]
    }
   ],
   "source": [
    "first = True\n",
    "async for chunk in llm_with_tools.astream(query):\n",
    "    if first:\n",
    "        gathered = chunk\n",
    "        first = False\n",
    "    else:\n",
    "        gathered = gathered + chunk\n",
    "\n",
    "    print(gathered.tool_calls)\n",
    "\n",
    "# []\n",
    "# []\n",
    "# [{'name': 'multiply', 'args': {}, 'id': 'call_aXQdLhKJpEpUxTNPXIS4l7Mv'}]\n",
    "# [{'name': 'multiply', 'args': {'a': 3}, 'id': 'call_aXQdLhKJpEpUxTNPXIS4l7Mv'}]\n",
    "# [{'name': 'multiply', 'args': {'a': 3, 'b': 1}, 'id': 'call_aXQdLhKJpEpUxTNPXIS4l7Mv'}]\n",
    "# [{'name': 'multiply', 'args': {'a': 3, 'b': 12}, 'id': 'call_aXQdLhKJpEpUxTNPXIS4l7Mv'}]\n",
    "# [{'name': 'multiply', 'args': {'a': 3, 'b': 12}, 'id': 'call_aXQdLhKJpEpUxTNPXIS4l7Mv'}]\n",
    "# [{'name': 'multiply', 'args': {'a': 3, 'b': 12}, 'id': 'call_aXQdLhKJpEpUxTNPXIS4l7Mv'}, {'name': 'add', 'args': {}, 'id': 'call_P39VunIrq9MQOxHgF30VByuB'}]\n",
    "# [{'name': 'multiply', 'args': {'a': 3, 'b': 12}, 'id': 'call_aXQdLhKJpEpUxTNPXIS4l7Mv'}, {'name': 'add', 'args': {'a': 11}, 'id': 'call_P39VunIrq9MQOxHgF30VByuB'}]\n",
    "# [{'name': 'multiply', 'args': {'a': 3, 'b': 12}, 'id': 'call_aXQdLhKJpEpUxTNPXIS4l7Mv'}, {'name': 'add', 'args': {'a': 11}, 'id': 'call_P39VunIrq9MQOxHgF30VByuB'}]\n",
    "# [{'name': 'multiply', 'args': {'a': 3, 'b': 12}, 'id': 'call_aXQdLhKJpEpUxTNPXIS4l7Mv'}, {'name': 'add', 'args': {'a': 11, 'b': 49}, 'id': 'call_P39VunIrq9MQOxHgF30VByuB'}]\n",
    "# [{'name': 'multiply', 'args': {'a': 3, 'b': 12}, 'id': 'call_aXQdLhKJpEpUxTNPXIS4l7Mv'}, {'name': 'add', 'args': {'a': 11, 'b': 49}, 'id': 'call_P39VunIrq9MQOxHgF30VByuB'}]"
   ]
  },
  {
   "cell_type": "code",
   "execution_count": 7,
   "metadata": {},
   "outputs": [
    {
     "data": {
      "text/plain": [
       "[HumanMessage(content='What is 3 * 12? Also, what is 11 + 49?'),\n",
       " AIMessage(content='', additional_kwargs={'tool_calls': [{'id': 'call_b5rdYsc8To3Rsw4ImqHJM8TJ', 'function': {'arguments': '{\"a\": 3, \"b\": 12}', 'name': 'multiply'}, 'type': 'function'}, {'id': 'call_OsMp5MwvpyXL5XcscYukjF6G', 'function': {'arguments': '{\"a\": 11, \"b\": 49}', 'name': 'add'}, 'type': 'function'}], 'refusal': None}, response_metadata={'token_usage': {'completion_tokens': 49, 'prompt_tokens': 120, 'total_tokens': 169}, 'model_name': 'gpt-3.5-turbo-0125', 'system_fingerprint': None, 'finish_reason': 'tool_calls', 'logprobs': None}, id='run-cdd15806-2fe0-4709-b86b-0a1ac371ee6c-0', tool_calls=[{'name': 'multiply', 'args': {'a': 3, 'b': 12}, 'id': 'call_b5rdYsc8To3Rsw4ImqHJM8TJ', 'type': 'tool_call'}, {'name': 'add', 'args': {'a': 11, 'b': 49}, 'id': 'call_OsMp5MwvpyXL5XcscYukjF6G', 'type': 'tool_call'}], usage_metadata={'input_tokens': 120, 'output_tokens': 49, 'total_tokens': 169}),\n",
       " ToolMessage(content='36', tool_call_id='call_b5rdYsc8To3Rsw4ImqHJM8TJ'),\n",
       " ToolMessage(content='60', tool_call_id='call_OsMp5MwvpyXL5XcscYukjF6G')]"
      ]
     },
     "execution_count": 7,
     "metadata": {},
     "output_type": "execute_result"
    }
   ],
   "source": [
    "from langchain_core.messages import HumanMessage, ToolMessage\n",
    "query = \"What is 3 * 12? Also, what is 11 + 49?\"\n",
    "\n",
    "\n",
    "@tool\n",
    "def add(a: int, b: int) -> int:\n",
    "    \"\"\"Adds a and b.\n",
    "\n",
    "    Args:\n",
    "        a: first int\n",
    "        b: second int\n",
    "    \"\"\"\n",
    "    return a + b\n",
    "\n",
    "\n",
    "@tool\n",
    "def multiply(a: int, b: int) -> int:\n",
    "    \"\"\"Multiplies a and b.\n",
    "\n",
    "    Args:\n",
    "        a: first int\n",
    "        b: second int\n",
    "    \"\"\"\n",
    "    return a * b\n",
    "\n",
    "\n",
    "tools = [add, multiply]\n",
    "llm_with_tools = llm.bind_tools(tools)\n",
    "\n",
    "messages = [HumanMessage(query)]\n",
    "ai_msg = llm_with_tools.invoke(messages)\n",
    "messages.append(ai_msg)\n",
    "\n",
    "for tool_call in ai_msg.tool_calls:\n",
    "    selected_tool = {\"add\": add, \"multiply\": multiply}[tool_call[\"name\"].lower()]\n",
    "    tool_output = selected_tool.invoke(tool_call[\"args\"])\n",
    "    messages.append(ToolMessage(tool_output, tool_call_id=tool_call[\"id\"]))\n",
    "\n",
    "messages\n",
    "\n",
    "\n",
    "# [HumanMessage(content='What is 3 * 12? Also, what is 11 + 49?'),\n",
    "#  AIMessage(content='', additional_kwargs={'tool_calls': [{'id': 'call_Jja7J89XsjrOLA5rAjULqTSL', 'function': {'arguments': '{\"a\": 3, \"b\": 12}', 'name': 'multiply'}, 'type': 'function'}, {'id': 'call_K4ArVEUjhl36EcSuxGN1nwvZ', 'function': {'arguments': '{\"a\": 11, \"b\": 49}', 'name': 'add'}, 'type': 'function'}]}, response_metadata={'token_usage': {'completion_tokens': 49, 'prompt_tokens': 144, 'total_tokens': 193}, 'model_name': 'gpt-3.5-turbo-0125', 'system_fingerprint': 'fp_a450710239', 'finish_reason': 'tool_calls', 'logprobs': None}, id='run-9db7e8e1-86d5-4015-9f43-f1d33abea64d-0', tool_calls=[{'name': 'multiply', 'args': {'a': 3, 'b': 12}, 'id': 'call_Jja7J89XsjrOLA5rAjULqTSL'}, {'name': 'add', 'args': {'a': 11, 'b': 49}, 'id': 'call_K4ArVEUjhl36EcSuxGN1nwvZ'}]),\n",
    "#  ToolMessage(content='36', tool_call_id='call_Jja7J89XsjrOLA5rAjULqTSL'),\n",
    "#  ToolMessage(content='60', tool_call_id='call_K4ArVEUjhl36EcSuxGN1nwvZ')]"
   ]
  },
  {
   "cell_type": "code",
   "execution_count": 16,
   "metadata": {},
   "outputs": [
    {
     "data": {
      "text/plain": [
       "AIMessage(content='The result of 3 * 12 is 36, and the result of 11 + 49 is 60.', additional_kwargs={'refusal': None}, response_metadata={'token_usage': {'completion_tokens': 26, 'prompt_tokens': 185, 'total_tokens': 211}, 'model_name': 'gpt-3.5-turbo-0125', 'system_fingerprint': None, 'finish_reason': 'stop', 'logprobs': None}, id='run-67c6b760-de88-41e3-b46f-41420f983eba-0', usage_metadata={'input_tokens': 185, 'output_tokens': 26, 'total_tokens': 211})"
      ]
     },
     "execution_count": 16,
     "metadata": {},
     "output_type": "execute_result"
    }
   ],
   "source": [
    "llm_with_tools.invoke(messages)\n",
    "\n"
   ]
  },
  {
   "cell_type": "code",
   "execution_count": 17,
   "metadata": {},
   "outputs": [
    {
     "data": {
      "text/plain": [
       "AIMessage(content='3 * 12 = 36  \\n11 + 49 = 60', additional_kwargs={'refusal': None}, response_metadata={'token_usage': {'completion_tokens': 16, 'prompt_tokens': 185, 'total_tokens': 201}, 'model_name': 'gpt-3.5-turbo-0125', 'system_fingerprint': None, 'finish_reason': 'stop', 'logprobs': None}, id='run-07845478-3f49-41fa-bc7d-04dfb71e05cf-0', usage_metadata={'input_tokens': 185, 'output_tokens': 16, 'total_tokens': 201})"
      ]
     },
     "execution_count": 17,
     "metadata": {},
     "output_type": "execute_result"
    }
   ],
   "source": [
    "llm_with_tools.invoke(messages)\n",
    "\n",
    "# AIMessage(content='3 * 12 = 36\\n11 + 49 = 60', response_metadata={'token_usage': {'completion_tokens': 16, 'prompt_tokens': 209, 'total_tokens': 225}, 'model_name': 'gpt-3.5-turbo-0125', 'system_fingerprint': 'fp_3b956da36b', 'finish_reason': 'stop', 'logprobs': None}, id='run-a55f8cb5-6d6d-4835-9c6b-7de36b2590c7-0')"
   ]
  },
  {
   "cell_type": "markdown",
   "metadata": {},
   "source": [
    "Request: Few-shot prompting"
   ]
  },
  {
   "cell_type": "code",
   "execution_count": 6,
   "metadata": {},
   "outputs": [
    {
     "data": {
      "text/plain": [
       "[{'name': 'multiply',\n",
       "  'args': {'a': 119, 'b': 8},\n",
       "  'id': 'call_28YfN6wLqFSEguQ05JzfQIxL',\n",
       "  'type': 'tool_call'},\n",
       " {'name': 'add',\n",
       "  'args': {'a': 952, 'b': -20},\n",
       "  'id': 'call_u76HEBI7ZulYVfrolq2lej9v',\n",
       "  'type': 'tool_call'}]"
      ]
     },
     "execution_count": 6,
     "metadata": {},
     "output_type": "execute_result"
    }
   ],
   "source": [
    "llm_with_tools.invoke(\n",
    "    \"Whats 119 times 8 minus 20. Don't do any math yourself, only use tools for math. Respect order of operations\"\n",
    ").tool_calls\n",
    "\n",
    "\n",
    "# [{'name': 'multiply',\n",
    "#   'args': {'a': 119, 'b': 8},\n",
    "#   'id': 'call_RofMKNQ2qbWAFaMsef4cpTS9'},\n",
    "#  {'name': 'add',\n",
    "#   'args': {'a': 952, 'b': -20},\n",
    "#   'id': 'call_HjOfoF8ceMCHmO3cpwG6oB3X'}]"
   ]
  },
  {
   "cell_type": "code",
   "execution_count": 8,
   "metadata": {},
   "outputs": [
    {
     "data": {
      "text/plain": [
       "[{'name': 'multiply',\n",
       "  'args': {'a': 119, 'b': 8},\n",
       "  'id': 'call_8vDbfmA8UP0YPmBQeuOlgjt2',\n",
       "  'type': 'tool_call'}]"
      ]
     },
     "execution_count": 8,
     "metadata": {},
     "output_type": "execute_result"
    }
   ],
   "source": [
    "# By adding a prompt with some examples we can correct this behavior \n",
    "\n",
    "from langchain_core.messages import AIMessage\n",
    "from langchain_core.prompts import ChatPromptTemplate\n",
    "from langchain_core.runnables import RunnablePassthrough\n",
    "\n",
    "examples = [\n",
    "    HumanMessage(\n",
    "        \"What's the product of 317253 and 128472 plus four\", name=\"example_user\"\n",
    "    ),\n",
    "    AIMessage(\n",
    "        \"\",\n",
    "        name=\"example_assistant\",\n",
    "        tool_calls=[\n",
    "            {\"name\": \"multiply\", \"args\": {\"x\": 317253, \"y\": 128472}, \"id\": \"1\"}\n",
    "        ],\n",
    "    ),\n",
    "    ToolMessage(\"16505054784\", tool_call_id=\"1\"),\n",
    "    AIMessage(\n",
    "        \"\",\n",
    "        name=\"example_assistant\",\n",
    "        tool_calls=[{\"name\": \"add\", \"args\": {\"x\": 16505054784, \"y\": 4}, \"id\": \"2\"}],\n",
    "    ),\n",
    "    ToolMessage(\"16505054788\", tool_call_id=\"2\"),\n",
    "    AIMessage(\n",
    "        \"The product of 317253 and 128472 plus four is 16505054788\",\n",
    "        name=\"example_assistant\",\n",
    "    ),\n",
    "]\n",
    "\n",
    "system = \"\"\"You are bad at math but are an expert at using a calculator. \n",
    "\n",
    "Use past tool usage as an example of how to correctly use the tools.\"\"\"\n",
    "few_shot_prompt = ChatPromptTemplate.from_messages(\n",
    "    [\n",
    "        (\"system\", system),\n",
    "        *examples,\n",
    "        (\"human\", \"{query}\"),\n",
    "    ]\n",
    ")\n",
    "\n",
    "chain = {\"query\": RunnablePassthrough()} | few_shot_prompt | llm_with_tools\n",
    "chain.invoke(\"Whats 119 times 8 minus 20\").tool_calls\n",
    "\n",
    "# [{'name': 'multiply',\n",
    "#   'args': {'a': 119, 'b': 8},\n",
    "#   'id': 'call_tWwpzWqqc8dQtN13CyKZCVMe'}]"
   ]
  },
  {
   "cell_type": "markdown",
   "metadata": {},
   "source": []
  }
 ],
 "metadata": {
  "kernelspec": {
   "display_name": "AI_prj_final",
   "language": "python",
   "name": "python3"
  },
  "language_info": {
   "codemirror_mode": {
    "name": "ipython",
    "version": 3
   },
   "file_extension": ".py",
   "mimetype": "text/x-python",
   "name": "python",
   "nbconvert_exporter": "python",
   "pygments_lexer": "ipython3",
   "version": "3.10.14"
  }
 },
 "nbformat": 4,
 "nbformat_minor": 2
}
